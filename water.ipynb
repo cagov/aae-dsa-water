{
 "cells": [
  {
   "cell_type": "markdown",
   "id": "39a47df8-8716-4fda-8f2d-9d9fffd3f4fc",
   "metadata": {},
   "source": [
    "# Community Water System Prediction Model\n",
    "\n",
    "The [Division of Drinking Water](https://www.waterboards.ca.gov/drinking_water/programs/) (DDW) at the [California State Water Resources Control Board](https://www.waterboards.ca.gov/) regulates 2800 Community Water Systems (CWS) throughout the state. Some of these CWS risk running out of water during the dry summer season. This code creates a machine learning model that predicts which CWS face the highest risk of running out of water. The model is intended to run in production on a monthly basis, producing predictions for at-risk CWS within the subsequent ninety days. \n",
    "\n",
    "See the following resources:\n",
    "* A [searchable website](https://sdwis.waterboards.ca.gov/PDWW/) of community water systems\n",
    "* A [searchable map](https://gispublic.waterboards.ca.gov/portal/apps/webappviewer/index.html?id=272351aa7db14435989647a86e6d3ad8) of community water systems"
   ]
  },
  {
   "cell_type": "code",
   "execution_count": 1,
   "id": "e6d4e832-9bcf-4f55-a179-2d5bc84c795c",
   "metadata": {},
   "outputs": [],
   "source": [
    "import pandas as pd\n",
    "import numpy as np\n",
    "import boto3\n",
    "import matplotlib.pyplot as plt\n",
    "import seaborn as sns\n",
    "import dtreeviz\n",
    "import time\n",
    "from datetime import datetime as dt_obj\n",
    "import cartopy.crs as ccrs\n",
    "import cartopy.feature as cfeature\n",
    "\n",
    "from sklearn.feature_selection import SelectKBest, f_classif\n",
    "from sklearn.model_selection import train_test_split, GridSearchCV\n",
    "from sklearn import preprocessing\n",
    "from sklearn.ensemble import RandomForestClassifier\n",
    "from sklearn import metrics\n",
    "\n",
    "%matplotlib inline\n",
    "%config InlineBackend.figure_format = 'retina'\n",
    "\n",
    "pd.set_option('display.max_columns', 50)\n",
    "pd.set_option('display.max_rows', 2867)"
   ]
  },
  {
   "cell_type": "markdown",
   "id": "ff9f3ac2-81e3-461d-ab7e-65362604ab3d",
   "metadata": {},
   "source": [
    "### Create 2021 Data\n",
    "\n",
    "The initial data set provided by the DDW include two csv files that contain data from 2020 and 2021: `DroughtWatchPrioritization_v4.csv` and \n",
    "`DroughtWatchPrioritization_v9_input_data_with_TNC.csv`.  The files provide a list of CWS, various parameters that describe the CWS, and the outcome of each CWS at the end of 2021 via the label `DroughtExperienced`. If `DroughtExperienced` equals 1, a CWS ran out of water; otherwise, the system was safe.\n",
    "\n",
    "This is a map that visualizes the location of each CWSID."
   ]
  },
  {
   "cell_type": "code",
   "execution_count": 2,
   "id": "f672f9f3-341a-4587-bcf6-74504f896bf2",
   "metadata": {},
   "outputs": [],
   "source": [
    "BUCKET_NAME = 'aae-water-dev-us-west-2'"
   ]
  },
  {
   "cell_type": "code",
   "execution_count": 3,
   "id": "400cb414-3c66-40d7-a1ac-aaeaaacd9b8c",
   "metadata": {},
   "outputs": [],
   "source": [
    "s3 = boto3.resource('s3')\n",
    "s3_client = boto3.client('s3')\n",
    "water_bucket = s3.Bucket(BUCKET_NAME)"
   ]
  },
  {
   "cell_type": "code",
   "execution_count": 4,
   "id": "4bab553b-b075-4854-b44a-154e10089fa0",
   "metadata": {},
   "outputs": [],
   "source": [
    "files = []\n",
    "for water_bucket_object in water_bucket.objects.all():\n",
    "    files.append(water_bucket_object.key)"
   ]
  },
  {
   "cell_type": "code",
   "execution_count": 5,
   "id": "1f604d58-0da4-4d5c-95ee-6129821b0523",
   "metadata": {},
   "outputs": [
    {
     "name": "stdout",
     "output_type": "stream",
     "text": [
      "200 2022BottledHauledWater_Drought Experienced.csv\n",
      "200 2022BottledHauledWater_Excluded.csv\n",
      "200 202304_TNC monthly-flow estimation.csv\n",
      "200 CDAG.csv\n",
      "200 Curtailed.csv\n",
      "200 Drinking_Water_Risk_Assessment.csv\n",
      "200 DroughtWatchPrioritization_v4.csv\n",
      "200 DroughtWatchPrioritization_v9_input_data_with_TNC.csv\n",
      "200 EAR.csv\n",
      "200 Funding_DFA.csv\n",
      "200 Funding_DWR.csv\n",
      "200 GWSWSources.csv\n",
      "200 HUC_Code_Name_Crosswalk.csv\n",
      "200 Interties.csv\n",
      "200 SAFER_CLEARINGHOUSE_Wholesalers.csv\n",
      "200 Service_Connection_Moratoriums.csv\n",
      "200 Source_Capacity_Violations.csv\n",
      "200 Water_Outage_Report_SDWISViolations.csv\n",
      "200 dsci_export_20180501_20230524.csv\n",
      "200 monthly_net_purchaser_output.csv\n",
      "200 pws_intertie_sources.csv\n",
      "200 seasonal_gw_measurements_output.csv\n",
      "200 seasonal_net_purchaser_output.csv\n"
     ]
    }
   ],
   "source": [
    "dfs = []\n",
    "for file in files:\n",
    "    response = s3_client.get_object(Bucket=BUCKET_NAME, Key=file)\n",
    "    status = response.get(\"ResponseMetadata\", {}).get(\"HTTPStatusCode\")\n",
    "    time.sleep(2)\n",
    "    print(status, file)\n",
    "    if status == 200:\n",
    "        dfs.append(pd.read_csv(response.get(\"Body\")))"
   ]
  },
  {
   "cell_type": "markdown",
   "id": "61db9c99-8e92-4a96-8be6-16d33216403e",
   "metadata": {},
   "source": [
    "Read in the initial data sets:"
   ]
  },
  {
   "cell_type": "code",
   "execution_count": 6,
   "id": "c0513cd9-2a46-46c9-9839-7efe3d3e30d0",
   "metadata": {},
   "outputs": [],
   "source": [
    "file_index_0 = files.index('DroughtWatchPrioritization_v4.csv')\n",
    "file_index_1 = files.index('DroughtWatchPrioritization_v9_input_data_with_TNC.csv')"
   ]
  },
  {
   "cell_type": "code",
   "execution_count": 7,
   "id": "87e7726f-abf9-4f5b-a701-d71b53d870fb",
   "metadata": {},
   "outputs": [],
   "source": [
    "df1 = dfs[file_index_0]\n",
    "df2 = dfs[file_index_1]"
   ]
  },
  {
   "cell_type": "markdown",
   "id": "fa758976-a3db-4344-b5e3-847c7d63224f",
   "metadata": {},
   "source": [
    "The keyword `PWPhysicalAddressLat` in one dataframe is the same as `Lat` in other other; same with longitude. Rename these keywords."
   ]
  },
  {
   "cell_type": "code",
   "execution_count": 8,
   "id": "2e253e55-2ed3-498b-b6f1-0d17814a4dff",
   "metadata": {},
   "outputs": [],
   "source": [
    "df2 = df2.rename(columns={\"Lat\": \"PWPhysicalAddressLat\", \"Long\": \"PWPhysicalAddressLong\"})"
   ]
  },
  {
   "cell_type": "markdown",
   "id": "1c2583c7-55ba-4189-b983-645015f67128",
   "metadata": {},
   "source": [
    "Why are there multiple CWS at the same location? Is this correct? (See table below)"
   ]
  },
  {
   "cell_type": "code",
   "execution_count": 9,
   "id": "13c7001b-a921-4d2b-8cf9-f49d3ee653fc",
   "metadata": {},
   "outputs": [
    {
     "data": {
      "text/html": [
       "<div>\n",
       "<style scoped>\n",
       "    .dataframe tbody tr th:only-of-type {\n",
       "        vertical-align: middle;\n",
       "    }\n",
       "\n",
       "    .dataframe tbody tr th {\n",
       "        vertical-align: top;\n",
       "    }\n",
       "\n",
       "    .dataframe thead th {\n",
       "        text-align: right;\n",
       "    }\n",
       "</style>\n",
       "<table border=\"1\" class=\"dataframe\">\n",
       "  <thead>\n",
       "    <tr style=\"text-align: right;\">\n",
       "      <th></th>\n",
       "      <th>ServiceConnections</th>\n",
       "      <th>Population</th>\n",
       "      <th>CDAG_rank</th>\n",
       "      <th>PWPhysicalAddressLat</th>\n",
       "      <th>PWPhysicalAddressLong</th>\n",
       "    </tr>\n",
       "  </thead>\n",
       "  <tbody>\n",
       "    <tr>\n",
       "      <th>30</th>\n",
       "      <td>1742</td>\n",
       "      <td>4943</td>\n",
       "      <td>-1</td>\n",
       "      <td>38.382864</td>\n",
       "      <td>-120.787745</td>\n",
       "    </tr>\n",
       "    <tr>\n",
       "      <th>31</th>\n",
       "      <td>520</td>\n",
       "      <td>1060</td>\n",
       "      <td>2322</td>\n",
       "      <td>38.480957</td>\n",
       "      <td>-120.847427</td>\n",
       "    </tr>\n",
       "    <tr>\n",
       "      <th>32</th>\n",
       "      <td>388</td>\n",
       "      <td>907</td>\n",
       "      <td>1805</td>\n",
       "      <td>38.413058</td>\n",
       "      <td>-120.658861</td>\n",
       "    </tr>\n",
       "    <tr>\n",
       "      <th>33</th>\n",
       "      <td>215</td>\n",
       "      <td>510</td>\n",
       "      <td>1757</td>\n",
       "      <td>38.544707</td>\n",
       "      <td>-120.741079</td>\n",
       "    </tr>\n",
       "    <tr>\n",
       "      <th>34</th>\n",
       "      <td>211</td>\n",
       "      <td>1184</td>\n",
       "      <td>1445</td>\n",
       "      <td>38.191586</td>\n",
       "      <td>-120.829103</td>\n",
       "    </tr>\n",
       "    <tr>\n",
       "      <th>35</th>\n",
       "      <td>337</td>\n",
       "      <td>838</td>\n",
       "      <td>1636</td>\n",
       "      <td>38.458547</td>\n",
       "      <td>-120.541518</td>\n",
       "    </tr>\n",
       "    <tr>\n",
       "      <th>36</th>\n",
       "      <td>2743</td>\n",
       "      <td>8809</td>\n",
       "      <td>-1</td>\n",
       "      <td>38.382864</td>\n",
       "      <td>-120.787745</td>\n",
       "    </tr>\n",
       "    <tr>\n",
       "      <th>37</th>\n",
       "      <td>82</td>\n",
       "      <td>200</td>\n",
       "      <td>1713</td>\n",
       "      <td>38.447565</td>\n",
       "      <td>-120.537917</td>\n",
       "    </tr>\n",
       "    <tr>\n",
       "      <th>38</th>\n",
       "      <td>55</td>\n",
       "      <td>188</td>\n",
       "      <td>-1</td>\n",
       "      <td>38.382864</td>\n",
       "      <td>-120.787745</td>\n",
       "    </tr>\n",
       "  </tbody>\n",
       "</table>\n",
       "</div>"
      ],
      "text/plain": [
       "    ServiceConnections  Population  CDAG_rank  PWPhysicalAddressLat  \\\n",
       "30                1742        4943         -1             38.382864   \n",
       "31                 520        1060       2322             38.480957   \n",
       "32                 388         907       1805             38.413058   \n",
       "33                 215         510       1757             38.544707   \n",
       "34                 211        1184       1445             38.191586   \n",
       "35                 337         838       1636             38.458547   \n",
       "36                2743        8809         -1             38.382864   \n",
       "37                  82         200       1713             38.447565   \n",
       "38                  55         188         -1             38.382864   \n",
       "\n",
       "    PWPhysicalAddressLong  \n",
       "30            -120.787745  \n",
       "31            -120.847427  \n",
       "32            -120.658861  \n",
       "33            -120.741079  \n",
       "34            -120.829103  \n",
       "35            -120.541518  \n",
       "36            -120.787745  \n",
       "37            -120.537917  \n",
       "38            -120.787745  "
      ]
     },
     "execution_count": 9,
     "metadata": {},
     "output_type": "execute_result"
    }
   ],
   "source": [
    "df2[['ServiceConnections', 'Population', 'CDAG_rank', 'PWPhysicalAddressLat', 'PWPhysicalAddressLong']][30:39]"
   ]
  },
  {
   "cell_type": "markdown",
   "id": "2068c70b-fa6e-4793-aaa9-1a6077e50c76",
   "metadata": {},
   "source": [
    "What does a CDAG_rank of -1 mean? Is this the same as NaN? There are 666 CWS with a CDAG_rank of -1. (Showing only ten here)."
   ]
  },
  {
   "cell_type": "code",
   "execution_count": 10,
   "id": "c86a95ff-0fd4-4f5e-9de6-29ea79d3fbeb",
   "metadata": {},
   "outputs": [
    {
     "data": {
      "text/html": [
       "<div>\n",
       "<style scoped>\n",
       "    .dataframe tbody tr th:only-of-type {\n",
       "        vertical-align: middle;\n",
       "    }\n",
       "\n",
       "    .dataframe tbody tr th {\n",
       "        vertical-align: top;\n",
       "    }\n",
       "\n",
       "    .dataframe thead th {\n",
       "        text-align: right;\n",
       "    }\n",
       "</style>\n",
       "<table border=\"1\" class=\"dataframe\">\n",
       "  <thead>\n",
       "    <tr style=\"text-align: right;\">\n",
       "      <th></th>\n",
       "      <th>ServiceConnections</th>\n",
       "      <th>Population</th>\n",
       "      <th>CWSID</th>\n",
       "      <th>CDAG_rank</th>\n",
       "      <th>PWPhysicalAddressLat</th>\n",
       "      <th>PWPhysicalAddressLong</th>\n",
       "    </tr>\n",
       "  </thead>\n",
       "  <tbody>\n",
       "    <tr>\n",
       "      <th>29</th>\n",
       "      <td>2106</td>\n",
       "      <td>6170</td>\n",
       "      <td>CA0310002</td>\n",
       "      <td>-1</td>\n",
       "      <td>38.382864</td>\n",
       "      <td>-120.787745</td>\n",
       "    </tr>\n",
       "    <tr>\n",
       "      <th>30</th>\n",
       "      <td>1742</td>\n",
       "      <td>4943</td>\n",
       "      <td>CA0310003</td>\n",
       "      <td>-1</td>\n",
       "      <td>38.382864</td>\n",
       "      <td>-120.787745</td>\n",
       "    </tr>\n",
       "    <tr>\n",
       "      <th>36</th>\n",
       "      <td>2743</td>\n",
       "      <td>8809</td>\n",
       "      <td>CA0310012</td>\n",
       "      <td>-1</td>\n",
       "      <td>38.382864</td>\n",
       "      <td>-120.787745</td>\n",
       "    </tr>\n",
       "    <tr>\n",
       "      <th>38</th>\n",
       "      <td>55</td>\n",
       "      <td>188</td>\n",
       "      <td>CA0310019</td>\n",
       "      <td>-1</td>\n",
       "      <td>38.382864</td>\n",
       "      <td>-120.787745</td>\n",
       "    </tr>\n",
       "    <tr>\n",
       "      <th>73</th>\n",
       "      <td>29610</td>\n",
       "      <td>104908</td>\n",
       "      <td>CA0410002</td>\n",
       "      <td>-1</td>\n",
       "      <td>39.719981</td>\n",
       "      <td>-121.808483</td>\n",
       "    </tr>\n",
       "    <tr>\n",
       "      <th>76</th>\n",
       "      <td>3551</td>\n",
       "      <td>10698</td>\n",
       "      <td>CA0410005</td>\n",
       "      <td>-1</td>\n",
       "      <td>39.511060</td>\n",
       "      <td>-121.554885</td>\n",
       "    </tr>\n",
       "    <tr>\n",
       "      <th>77</th>\n",
       "      <td>6909</td>\n",
       "      <td>22780</td>\n",
       "      <td>CA0410006</td>\n",
       "      <td>-1</td>\n",
       "      <td>39.510752</td>\n",
       "      <td>-121.519610</td>\n",
       "    </tr>\n",
       "    <tr>\n",
       "      <th>78</th>\n",
       "      <td>2369</td>\n",
       "      <td>4600</td>\n",
       "      <td>CA0410007</td>\n",
       "      <td>-1</td>\n",
       "      <td>39.768527</td>\n",
       "      <td>-121.599204</td>\n",
       "    </tr>\n",
       "    <tr>\n",
       "      <th>79</th>\n",
       "      <td>3077</td>\n",
       "      <td>10154</td>\n",
       "      <td>CA0410008</td>\n",
       "      <td>-1</td>\n",
       "      <td>39.532157</td>\n",
       "      <td>-121.574237</td>\n",
       "    </tr>\n",
       "    <tr>\n",
       "      <th>81</th>\n",
       "      <td>3198</td>\n",
       "      <td>10513</td>\n",
       "      <td>CA0410011</td>\n",
       "      <td>-1</td>\n",
       "      <td>39.819135</td>\n",
       "      <td>-121.590983</td>\n",
       "    </tr>\n",
       "  </tbody>\n",
       "</table>\n",
       "</div>"
      ],
      "text/plain": [
       "    ServiceConnections  Population      CWSID  CDAG_rank  \\\n",
       "29                2106        6170  CA0310002         -1   \n",
       "30                1742        4943  CA0310003         -1   \n",
       "36                2743        8809  CA0310012         -1   \n",
       "38                  55         188  CA0310019         -1   \n",
       "73               29610      104908  CA0410002         -1   \n",
       "76                3551       10698  CA0410005         -1   \n",
       "77                6909       22780  CA0410006         -1   \n",
       "78                2369        4600  CA0410007         -1   \n",
       "79                3077       10154  CA0410008         -1   \n",
       "81                3198       10513  CA0410011         -1   \n",
       "\n",
       "    PWPhysicalAddressLat  PWPhysicalAddressLong  \n",
       "29             38.382864            -120.787745  \n",
       "30             38.382864            -120.787745  \n",
       "36             38.382864            -120.787745  \n",
       "38             38.382864            -120.787745  \n",
       "73             39.719981            -121.808483  \n",
       "76             39.511060            -121.554885  \n",
       "77             39.510752            -121.519610  \n",
       "78             39.768527            -121.599204  \n",
       "79             39.532157            -121.574237  \n",
       "81             39.819135            -121.590983  "
      ]
     },
     "execution_count": 10,
     "metadata": {},
     "output_type": "execute_result"
    }
   ],
   "source": [
    "df1[['ServiceConnections', 'Population', 'CWSID', 'CDAG_rank', 'PWPhysicalAddressLat', 'PWPhysicalAddressLong']].loc[df1['CDAG_rank'] == -1][10:20] "
   ]
  },
  {
   "cell_type": "markdown",
   "id": "cbbb5d3e-b6f3-477a-9cc7-cf916618a9ee",
   "metadata": {},
   "source": [
    "Why are there 38 CWSIDs with a population of zero? It looks like these are wholesalers that only sell water; however, SDWIS assigns a population to these CWS, e.g. [CA3710042](https://sdwis.waterboards.ca.gov/PDWW/JSP/WaterSystemDetail.jsp?tinwsys_is_number=3927&tinwsys_st_code=CA) serves 3.3M people."
   ]
  },
  {
   "cell_type": "code",
   "execution_count": 11,
   "id": "a9cb55a2-2286-494c-950b-3b5931e7fcdb",
   "metadata": {},
   "outputs": [
    {
     "data": {
      "text/html": [
       "<div>\n",
       "<style scoped>\n",
       "    .dataframe tbody tr th:only-of-type {\n",
       "        vertical-align: middle;\n",
       "    }\n",
       "\n",
       "    .dataframe tbody tr th {\n",
       "        vertical-align: top;\n",
       "    }\n",
       "\n",
       "    .dataframe thead th {\n",
       "        text-align: right;\n",
       "    }\n",
       "</style>\n",
       "<table border=\"1\" class=\"dataframe\">\n",
       "  <thead>\n",
       "    <tr style=\"text-align: right;\">\n",
       "      <th></th>\n",
       "      <th>CWSID</th>\n",
       "      <th>RegulatingAgency</th>\n",
       "      <th>WaterSystemName</th>\n",
       "      <th>Population</th>\n",
       "      <th>DroughtExperienced</th>\n",
       "    </tr>\n",
       "  </thead>\n",
       "  <tbody>\n",
       "    <tr>\n",
       "      <th>415</th>\n",
       "      <td>CA1410002</td>\n",
       "      <td>DISTRICT 13 - SAN BERNARDINO</td>\n",
       "      <td>LADWP - INDEPENDENCE</td>\n",
       "      <td>0</td>\n",
       "      <td>0</td>\n",
       "    </tr>\n",
       "    <tr>\n",
       "      <th>416</th>\n",
       "      <td>CA1410003</td>\n",
       "      <td>DISTRICT 13 - SAN BERNARDINO</td>\n",
       "      <td>LADWP - LONE PINE</td>\n",
       "      <td>0</td>\n",
       "      <td>0</td>\n",
       "    </tr>\n",
       "    <tr>\n",
       "      <th>417</th>\n",
       "      <td>CA1410004</td>\n",
       "      <td>DISTRICT 13 - SAN BERNARDINO</td>\n",
       "      <td>LADWP - BIG PINE</td>\n",
       "      <td>0</td>\n",
       "      <td>0</td>\n",
       "    </tr>\n",
       "    <tr>\n",
       "      <th>426</th>\n",
       "      <td>CA1410510</td>\n",
       "      <td>DISTRICT 13 - SAN BERNARDINO</td>\n",
       "      <td>LADWP - MANZANAR</td>\n",
       "      <td>0</td>\n",
       "      <td>0</td>\n",
       "    </tr>\n",
       "    <tr>\n",
       "      <th>586</th>\n",
       "      <td>CA1510040</td>\n",
       "      <td>DISTRICT 12 - VISALIA</td>\n",
       "      <td>KERN COUNTY WATER AGENCY</td>\n",
       "      <td>0</td>\n",
       "      <td>0</td>\n",
       "    </tr>\n",
       "    <tr>\n",
       "      <th>594</th>\n",
       "      <td>CA1510053</td>\n",
       "      <td>DISTRICT 19 - TEHACHAPI</td>\n",
       "      <td>ANTELOPE VALLEY E KERN WTR AGY-ROSAMOND</td>\n",
       "      <td>0</td>\n",
       "      <td>0</td>\n",
       "    </tr>\n",
       "    <tr>\n",
       "      <th>757</th>\n",
       "      <td>CA1910032</td>\n",
       "      <td>DISTRICT 07 - HOLLYWOOD</td>\n",
       "      <td>FOOTHILL MUNICIPAL WATER DIST.</td>\n",
       "      <td>0</td>\n",
       "      <td>0</td>\n",
       "    </tr>\n",
       "    <tr>\n",
       "      <th>765</th>\n",
       "      <td>CA1910041</td>\n",
       "      <td>DISTRICT 07 - HOLLYWOOD</td>\n",
       "      <td>THREE VALLEYS MWD</td>\n",
       "      <td>0</td>\n",
       "      <td>0</td>\n",
       "    </tr>\n",
       "    <tr>\n",
       "      <th>769</th>\n",
       "      <td>CA1910045</td>\n",
       "      <td>DISTRICT 16 - CENTRAL</td>\n",
       "      <td>ANTELOPE VALLEY EAST KERN WATER AGENCY</td>\n",
       "      <td>0</td>\n",
       "      <td>0</td>\n",
       "    </tr>\n",
       "    <tr>\n",
       "      <th>772</th>\n",
       "      <td>CA1910048</td>\n",
       "      <td>DISTRICT 22 - ANGELES</td>\n",
       "      <td>SANTA CLARITA VALLEY W.A.-IMPORTED DIVIS</td>\n",
       "      <td>0</td>\n",
       "      <td>0</td>\n",
       "    </tr>\n",
       "    <tr>\n",
       "      <th>800</th>\n",
       "      <td>CA1910087</td>\n",
       "      <td>DISTRICT 16 - CENTRAL</td>\n",
       "      <td>METROPOLITAN WATER DIST. OF SO. CAL.</td>\n",
       "      <td>0</td>\n",
       "      <td>0</td>\n",
       "    </tr>\n",
       "    <tr>\n",
       "      <th>818</th>\n",
       "      <td>CA1910128</td>\n",
       "      <td>DISTRICT 15 - METROPOLITAN</td>\n",
       "      <td>COVINA IRRIGATING CO.</td>\n",
       "      <td>0</td>\n",
       "      <td>0</td>\n",
       "    </tr>\n",
       "    <tr>\n",
       "      <th>854</th>\n",
       "      <td>CA1910199</td>\n",
       "      <td>DISTRICT 15 - METROPOLITAN</td>\n",
       "      <td>CALIFORNIA DOMESTIC WATER COMPANY</td>\n",
       "      <td>0</td>\n",
       "      <td>0</td>\n",
       "    </tr>\n",
       "    <tr>\n",
       "      <th>878</th>\n",
       "      <td>CA1910253</td>\n",
       "      <td>DISTRICT 15 - METROPOLITAN</td>\n",
       "      <td>CENTRAL BASIN MWD</td>\n",
       "      <td>0</td>\n",
       "      <td>0</td>\n",
       "    </tr>\n",
       "    <tr>\n",
       "      <th>1306</th>\n",
       "      <td>CA3010071</td>\n",
       "      <td>DISTRICT 08 - SANTA ANA</td>\n",
       "      <td>JOINT REGIONAL WATER SUPPLY SYSTEM</td>\n",
       "      <td>0</td>\n",
       "      <td>0</td>\n",
       "    </tr>\n",
       "    <tr>\n",
       "      <th>1311</th>\n",
       "      <td>CA3010093</td>\n",
       "      <td>DISTRICT 08 - SANTA ANA</td>\n",
       "      <td>EAST ORANGE COUNTY WD - WZ</td>\n",
       "      <td>0</td>\n",
       "      <td>0</td>\n",
       "    </tr>\n",
       "    <tr>\n",
       "      <th>1316</th>\n",
       "      <td>CA3010120</td>\n",
       "      <td>DISTRICT 08 - SANTA ANA</td>\n",
       "      <td>SAN JUAN BASIN AUTHORITY</td>\n",
       "      <td>0</td>\n",
       "      <td>0</td>\n",
       "    </tr>\n",
       "    <tr>\n",
       "      <th>1393</th>\n",
       "      <td>CA3210002</td>\n",
       "      <td>DISTRICT 02 - LASSEN</td>\n",
       "      <td>PLUMAS COUNTY FLOOD CONTROL</td>\n",
       "      <td>0</td>\n",
       "      <td>0</td>\n",
       "    </tr>\n",
       "    <tr>\n",
       "      <th>1492</th>\n",
       "      <td>CA3310075</td>\n",
       "      <td>DISTRICT 20 - RIVERSIDE</td>\n",
       "      <td>WESTERN MWD (ARLINGTON)</td>\n",
       "      <td>0</td>\n",
       "      <td>0</td>\n",
       "    </tr>\n",
       "    <tr>\n",
       "      <th>1498</th>\n",
       "      <td>CA3310083</td>\n",
       "      <td>DISTRICT 20 - RIVERSIDE</td>\n",
       "      <td>CHINO BASIN DESALTER AUTH. - DESALTER 2</td>\n",
       "      <td>0</td>\n",
       "      <td>0</td>\n",
       "    </tr>\n",
       "    <tr>\n",
       "      <th>1674</th>\n",
       "      <td>CA3610006</td>\n",
       "      <td>DISTRICT 13 - SAN BERNARDINO</td>\n",
       "      <td>WATER FACILITIES AUTHORITY-JPA</td>\n",
       "      <td>0</td>\n",
       "      <td>0</td>\n",
       "    </tr>\n",
       "    <tr>\n",
       "      <th>1685</th>\n",
       "      <td>CA3610019</td>\n",
       "      <td>DISTRICT 13 - SAN BERNARDINO</td>\n",
       "      <td>SAN BERNARDINO VALLEY WD</td>\n",
       "      <td>0</td>\n",
       "      <td>0</td>\n",
       "    </tr>\n",
       "    <tr>\n",
       "      <th>1722</th>\n",
       "      <td>CA3610075</td>\n",
       "      <td>DISTRICT 13 - SAN BERNARDINO</td>\n",
       "      <td>CHINO BASIN DESALTER AUTH. - DESALTER 1</td>\n",
       "      <td>0</td>\n",
       "      <td>0</td>\n",
       "    </tr>\n",
       "    <tr>\n",
       "      <th>1725</th>\n",
       "      <td>CA3610086</td>\n",
       "      <td>DISTRICT 13 - SAN BERNARDINO</td>\n",
       "      <td>WEST END CONSOLIDATED WATER COMPANY</td>\n",
       "      <td>0</td>\n",
       "      <td>0</td>\n",
       "    </tr>\n",
       "    <tr>\n",
       "      <th>1739</th>\n",
       "      <td>CA3610129</td>\n",
       "      <td>DISTRICT 13 - SAN BERNARDINO</td>\n",
       "      <td>MOJAVE WATER AGENCY</td>\n",
       "      <td>0</td>\n",
       "      <td>0</td>\n",
       "    </tr>\n",
       "    <tr>\n",
       "      <th>1816</th>\n",
       "      <td>CA3710042</td>\n",
       "      <td>DISTRICT 14 - SAN DIEGO</td>\n",
       "      <td>SAN DIEGO COUNTY WATER AUTHORITY</td>\n",
       "      <td>0</td>\n",
       "      <td>0</td>\n",
       "    </tr>\n",
       "    <tr>\n",
       "      <th>1818</th>\n",
       "      <td>CA3710045</td>\n",
       "      <td>DISTRICT 14 - SAN DIEGO</td>\n",
       "      <td>POSEIDON RESOURCES - CDP</td>\n",
       "      <td>0</td>\n",
       "      <td>0</td>\n",
       "    </tr>\n",
       "    <tr>\n",
       "      <th>1983</th>\n",
       "      <td>CA4010022</td>\n",
       "      <td>DISTRICT 06 - SANTA BARBARA</td>\n",
       "      <td>LOPEZ PROJECT</td>\n",
       "      <td>0</td>\n",
       "      <td>0</td>\n",
       "    </tr>\n",
       "    <tr>\n",
       "      <th>1986</th>\n",
       "      <td>CA4010025</td>\n",
       "      <td>DISTRICT 06 - SANTA BARBARA</td>\n",
       "      <td>SLO CWD NO. 10 - CAYUCOS WTP</td>\n",
       "      <td>0</td>\n",
       "      <td>0</td>\n",
       "    </tr>\n",
       "    <tr>\n",
       "      <th>1991</th>\n",
       "      <td>CA4010080</td>\n",
       "      <td>DISTRICT 06 - SANTA BARBARA</td>\n",
       "      <td>NACIMIENTO WATER PROJECT</td>\n",
       "      <td>0</td>\n",
       "      <td>0</td>\n",
       "    </tr>\n",
       "    <tr>\n",
       "      <th>2094</th>\n",
       "      <td>CA4210028</td>\n",
       "      <td>DISTRICT 06 - SANTA BARBARA</td>\n",
       "      <td>CACHUMA PROJECT</td>\n",
       "      <td>0</td>\n",
       "      <td>0</td>\n",
       "    </tr>\n",
       "    <tr>\n",
       "      <th>2095</th>\n",
       "      <td>CA4210030</td>\n",
       "      <td>DISTRICT 06 - SANTA BARBARA</td>\n",
       "      <td>CENTRAL COAST WATER AUTHORITY</td>\n",
       "      <td>0</td>\n",
       "      <td>0</td>\n",
       "    </tr>\n",
       "    <tr>\n",
       "      <th>2163</th>\n",
       "      <td>CA4310027</td>\n",
       "      <td>DISTRICT 17 - SANTA CLARA</td>\n",
       "      <td>SANTA CLARA VALLEY WATER DISTRICT</td>\n",
       "      <td>0</td>\n",
       "      <td>0</td>\n",
       "    </tr>\n",
       "    <tr>\n",
       "      <th>2460</th>\n",
       "      <td>CA4910020</td>\n",
       "      <td>DISTRICT 18 - SONOMA</td>\n",
       "      <td>SONOMA COUNTY WATER AGENCY</td>\n",
       "      <td>0</td>\n",
       "      <td>0</td>\n",
       "    </tr>\n",
       "    <tr>\n",
       "      <th>2813</th>\n",
       "      <td>CA5610046</td>\n",
       "      <td>DISTRICT 06 - SANTA BARBARA</td>\n",
       "      <td>UNITED WTR CONS DIST</td>\n",
       "      <td>0</td>\n",
       "      <td>0</td>\n",
       "    </tr>\n",
       "    <tr>\n",
       "      <th>2814</th>\n",
       "      <td>CA5610050</td>\n",
       "      <td>DISTRICT 06 - SANTA BARBARA</td>\n",
       "      <td>CALLEGUAS MUNICIPAL WATER DIST</td>\n",
       "      <td>0</td>\n",
       "      <td>0</td>\n",
       "    </tr>\n",
       "    <tr>\n",
       "      <th>2821</th>\n",
       "      <td>CA5610080</td>\n",
       "      <td>DISTRICT 06 - SANTA BARBARA</td>\n",
       "      <td>PORT HUENEME WATER AGENCY</td>\n",
       "      <td>0</td>\n",
       "      <td>0</td>\n",
       "    </tr>\n",
       "    <tr>\n",
       "      <th>2843</th>\n",
       "      <td>CA5710012</td>\n",
       "      <td>DISTRICT 09 - SACRAMENTO</td>\n",
       "      <td>WOODLAND-DAVIS CLEAN WATER AGENCY</td>\n",
       "      <td>0</td>\n",
       "      <td>0</td>\n",
       "    </tr>\n",
       "  </tbody>\n",
       "</table>\n",
       "</div>"
      ],
      "text/plain": [
       "          CWSID              RegulatingAgency  \\\n",
       "415   CA1410002  DISTRICT 13 - SAN BERNARDINO   \n",
       "416   CA1410003  DISTRICT 13 - SAN BERNARDINO   \n",
       "417   CA1410004  DISTRICT 13 - SAN BERNARDINO   \n",
       "426   CA1410510  DISTRICT 13 - SAN BERNARDINO   \n",
       "586   CA1510040         DISTRICT 12 - VISALIA   \n",
       "594   CA1510053       DISTRICT 19 - TEHACHAPI   \n",
       "757   CA1910032       DISTRICT 07 - HOLLYWOOD   \n",
       "765   CA1910041       DISTRICT 07 - HOLLYWOOD   \n",
       "769   CA1910045         DISTRICT 16 - CENTRAL   \n",
       "772   CA1910048         DISTRICT 22 - ANGELES   \n",
       "800   CA1910087         DISTRICT 16 - CENTRAL   \n",
       "818   CA1910128    DISTRICT 15 - METROPOLITAN   \n",
       "854   CA1910199    DISTRICT 15 - METROPOLITAN   \n",
       "878   CA1910253    DISTRICT 15 - METROPOLITAN   \n",
       "1306  CA3010071       DISTRICT 08 - SANTA ANA   \n",
       "1311  CA3010093       DISTRICT 08 - SANTA ANA   \n",
       "1316  CA3010120       DISTRICT 08 - SANTA ANA   \n",
       "1393  CA3210002          DISTRICT 02 - LASSEN   \n",
       "1492  CA3310075       DISTRICT 20 - RIVERSIDE   \n",
       "1498  CA3310083       DISTRICT 20 - RIVERSIDE   \n",
       "1674  CA3610006  DISTRICT 13 - SAN BERNARDINO   \n",
       "1685  CA3610019  DISTRICT 13 - SAN BERNARDINO   \n",
       "1722  CA3610075  DISTRICT 13 - SAN BERNARDINO   \n",
       "1725  CA3610086  DISTRICT 13 - SAN BERNARDINO   \n",
       "1739  CA3610129  DISTRICT 13 - SAN BERNARDINO   \n",
       "1816  CA3710042       DISTRICT 14 - SAN DIEGO   \n",
       "1818  CA3710045       DISTRICT 14 - SAN DIEGO   \n",
       "1983  CA4010022   DISTRICT 06 - SANTA BARBARA   \n",
       "1986  CA4010025   DISTRICT 06 - SANTA BARBARA   \n",
       "1991  CA4010080   DISTRICT 06 - SANTA BARBARA   \n",
       "2094  CA4210028   DISTRICT 06 - SANTA BARBARA   \n",
       "2095  CA4210030   DISTRICT 06 - SANTA BARBARA   \n",
       "2163  CA4310027     DISTRICT 17 - SANTA CLARA   \n",
       "2460  CA4910020          DISTRICT 18 - SONOMA   \n",
       "2813  CA5610046   DISTRICT 06 - SANTA BARBARA   \n",
       "2814  CA5610050   DISTRICT 06 - SANTA BARBARA   \n",
       "2821  CA5610080   DISTRICT 06 - SANTA BARBARA   \n",
       "2843  CA5710012      DISTRICT 09 - SACRAMENTO   \n",
       "\n",
       "                               WaterSystemName  Population  DroughtExperienced  \n",
       "415                       LADWP - INDEPENDENCE           0                   0  \n",
       "416                          LADWP - LONE PINE           0                   0  \n",
       "417                           LADWP - BIG PINE           0                   0  \n",
       "426                           LADWP - MANZANAR           0                   0  \n",
       "586                   KERN COUNTY WATER AGENCY           0                   0  \n",
       "594    ANTELOPE VALLEY E KERN WTR AGY-ROSAMOND           0                   0  \n",
       "757             FOOTHILL MUNICIPAL WATER DIST.           0                   0  \n",
       "765                          THREE VALLEYS MWD           0                   0  \n",
       "769     ANTELOPE VALLEY EAST KERN WATER AGENCY           0                   0  \n",
       "772   SANTA CLARITA VALLEY W.A.-IMPORTED DIVIS           0                   0  \n",
       "800       METROPOLITAN WATER DIST. OF SO. CAL.           0                   0  \n",
       "818                      COVINA IRRIGATING CO.           0                   0  \n",
       "854          CALIFORNIA DOMESTIC WATER COMPANY           0                   0  \n",
       "878                          CENTRAL BASIN MWD           0                   0  \n",
       "1306        JOINT REGIONAL WATER SUPPLY SYSTEM           0                   0  \n",
       "1311                EAST ORANGE COUNTY WD - WZ           0                   0  \n",
       "1316                  SAN JUAN BASIN AUTHORITY           0                   0  \n",
       "1393               PLUMAS COUNTY FLOOD CONTROL           0                   0  \n",
       "1492                   WESTERN MWD (ARLINGTON)           0                   0  \n",
       "1498   CHINO BASIN DESALTER AUTH. - DESALTER 2           0                   0  \n",
       "1674            WATER FACILITIES AUTHORITY-JPA           0                   0  \n",
       "1685                  SAN BERNARDINO VALLEY WD           0                   0  \n",
       "1722   CHINO BASIN DESALTER AUTH. - DESALTER 1           0                   0  \n",
       "1725       WEST END CONSOLIDATED WATER COMPANY           0                   0  \n",
       "1739                       MOJAVE WATER AGENCY           0                   0  \n",
       "1816          SAN DIEGO COUNTY WATER AUTHORITY           0                   0  \n",
       "1818                  POSEIDON RESOURCES - CDP           0                   0  \n",
       "1983                             LOPEZ PROJECT           0                   0  \n",
       "1986              SLO CWD NO. 10 - CAYUCOS WTP           0                   0  \n",
       "1991                  NACIMIENTO WATER PROJECT           0                   0  \n",
       "2094                           CACHUMA PROJECT           0                   0  \n",
       "2095             CENTRAL COAST WATER AUTHORITY           0                   0  \n",
       "2163         SANTA CLARA VALLEY WATER DISTRICT           0                   0  \n",
       "2460                SONOMA COUNTY WATER AGENCY           0                   0  \n",
       "2813                      UNITED WTR CONS DIST           0                   0  \n",
       "2814            CALLEGUAS MUNICIPAL WATER DIST           0                   0  \n",
       "2821                 PORT HUENEME WATER AGENCY           0                   0  \n",
       "2843         WOODLAND-DAVIS CLEAN WATER AGENCY           0                   0  "
      ]
     },
     "execution_count": 11,
     "metadata": {},
     "output_type": "execute_result"
    }
   ],
   "source": [
    "df1[df1['Population'] == 0.0][['CWSID','RegulatingAgency','WaterSystemName','Population','DroughtExperienced']]"
   ]
  },
  {
   "cell_type": "markdown",
   "id": "e103ffc0-aa79-450d-8d86-70f8247e22de",
   "metadata": {},
   "source": [
    "Why are there far more active groundwater sources for this CWSID, yet CA0110001 is identified as primarily a surfacewater source (see [here](https://sdwis.waterboards.ca.gov/PDWW/JSP/WaterSystemDetail.jsp?tinwsys_is_number=29&tinwsys_st_code=CA))?"
   ]
  },
  {
   "cell_type": "markdown",
   "id": "68fc81d7-ec52-4b47-94a8-a1e1cc460a0b",
   "metadata": {},
   "source": [
    "Merge the two dataframes using these keys: `ServiceConnections`, `Population`, `CDAG_rank`, and `Lat`. The ideal solution is to merge on the unique identifier, `CWSID`. However, `CWSID` is not present in both files."
   ]
  },
  {
   "cell_type": "code",
   "execution_count": 12,
   "id": "893d7ce8-10bd-45ea-9e5a-7a8fdf7554d9",
   "metadata": {},
   "outputs": [],
   "source": [
    "df_2021 = df1.merge(df2, on=['ServiceConnections', 'Population', 'CDAG_rank', 'PWPhysicalAddressLat'])"
   ]
  },
  {
   "cell_type": "markdown",
   "id": "34ffbf03-1fba-4d51-bfe4-13ca8a008562",
   "metadata": {},
   "source": [
    "Remove the '-' character from the HUC8 values to make them consistent with other datasets."
   ]
  },
  {
   "cell_type": "code",
   "execution_count": 13,
   "id": "10feac38-5c6c-4c4e-8908-28928cd5e2cc",
   "metadata": {},
   "outputs": [],
   "source": [
    "df_2021['HUC8'] = df_2021['HUC8'].str.replace(\"-\", \"\").astype(int)"
   ]
  },
  {
   "cell_type": "code",
   "execution_count": 14,
   "id": "cca6dc9e-fb31-4e5e-9557-45ff0de2a1bd",
   "metadata": {},
   "outputs": [],
   "source": [
    "df_2021 = df_2021.rename(columns={'EAR2020DroughtRiskScore_y':'EARDroughtRiskScore'}).reset_index(drop=True)"
   ]
  },
  {
   "cell_type": "code",
   "execution_count": 15,
   "id": "8fe16795-e4fb-41cc-ac67-3194c1feeee5",
   "metadata": {},
   "outputs": [
    {
     "name": "stdout",
     "output_type": "stream",
     "text": [
      "In 2021,  1161365 people in California experienced some form of drought.\n"
     ]
    }
   ],
   "source": [
    "print(\"In 2021, \",df_2021[df_2021['DroughtExperienced_y'] == 1]['Population'].sum(),\"people in California experienced some form of drought.\")"
   ]
  },
  {
   "cell_type": "code",
   "execution_count": 16,
   "id": "42fcd904-4485-4cc4-a3a3-84f785687a0d",
   "metadata": {},
   "outputs": [
    {
     "data": {
      "text/plain": [
       "(2866, 78)"
      ]
     },
     "execution_count": 16,
     "metadata": {},
     "output_type": "execute_result"
    }
   ],
   "source": [
    "df_2021.shape"
   ]
  },
  {
   "cell_type": "code",
   "execution_count": 17,
   "id": "66e9af2d-411c-4f74-a6e5-be12c8a8457e",
   "metadata": {},
   "outputs": [
    {
     "data": {
      "text/plain": [
       "Index(['CWSID', 'RegulatingAgency', 'WaterSystemName',\n",
       "       'Score_DroughtWatchStatus', 'WaterOutageDroughtViolation',\n",
       "       'BottledHauledWaterOrZeroSource', 'CurtailmentExemptionPetition',\n",
       "       'Score_1704', 'FundedProject', 'DroughtExperienced_x',\n",
       "       'ServiceConnections', 'Population', 'Score_SourceNumber_x', 'Score_SCV',\n",
       "       'Score_SCM_x', 'Score_CriticallyOverdraftedGroundwaterBasin_x',\n",
       "       'CDAG_rank', 'Curtailment_x', 'Score_1702_x', 'Score_1705_x',\n",
       "       'Score_1706_x', 'Score_1812_x', 'Score_1813_x', 'Score_1814_x',\n",
       "       'Score_1815_x', 'EAR2020DroughtRiskScore_x',\n",
       "       'SAFER_AccessibilityScore_x', 'PWPhysicalAddressLat',\n",
       "       'PWPhysicalAddressLong_x', 'CentralValleyCounties',\n",
       "       'NonCentralValleyCounties', 'ActiveGWSource_x', 'ActiveSWSource_x',\n",
       "       'CurtailedWatershed_x', 'HUC4_x', 'HUC8_CentralValley', 'HUC8_Coast',\n",
       "       'HUC8_Other', 'Basin_Number_part1_x', 'FracturedRock_x', 'Basin12_x',\n",
       "       'Basin34_x', 'Basin5_x', 'Basin6_x', 'Basin789_x', 'Intertie_x',\n",
       "       'Score_SourceNumber_y', 'Score_SourceCapacityViolations', 'Score_SCM_y',\n",
       "       'Score_CriticallyOverdraftedGroundwaterBasin_y', 'Curtailment_y',\n",
       "       'Score_1702_y', 'Score_1705_y', 'Score_1706_y', 'Score_1812_y',\n",
       "       'Score_1813_y', 'Score_1814_y', 'Score_1815_y', 'EARDroughtRiskScore',\n",
       "       'SAFER_AccessibilityScore_y', 'PWPhysicalAddressLong_y', 'County',\n",
       "       'DSCI2WYAvg', 'ActiveGWSource_y', 'ActiveSWSource_y',\n",
       "       'CurtailedWatershed_y', 'HUC4_y', 'HUC8', 'Basin_Number_part1_y',\n",
       "       'FracturedRock_y', 'Basin12_y', 'Basin34_y', 'Basin5_y', 'Basin6_y',\n",
       "       'Basin789_y', 'Intertie_y', 'TNCFlow2WYAvg', 'DroughtExperienced_y'],\n",
       "      dtype='object')"
      ]
     },
     "execution_count": 17,
     "metadata": {},
     "output_type": "execute_result"
    }
   ],
   "source": [
    "df_2021.columns"
   ]
  },
  {
   "cell_type": "markdown",
   "id": "4eb3de50-5055-42f9-b795-7047cfc6cb1d",
   "metadata": {
    "tags": []
   },
   "source": [
    "### Add Intertie Data\n",
    "\n",
    "The intertie, or purchaser/seller, data (`pws_intertie_sources.csv`) contains data that described which public water systems purchased or sold water. These data are available for 752 public water systems. There are three types of public water systems: \n",
    "1. C - Community: Serves at least 15 service connections used by year-round residents or regularly serves 25 year-round residents.\n",
    "2. NTNC - Non-Transient Non-Community: Serves at least the same 25 non-residential individuals during 6 months of the year.\n",
    "3. NC - Transient Non-Community: Regularly serves at least 25 non-residential individuals (transient) during 60 or more days per year.\n",
    "\n",
    "For the purposes of this study, we are only interested in community water systems. To whittle out the NTNC and NC water systems from the intertie data, we used [a list](https://sdwis.waterboards.ca.gov/PDWW/JSP/SearchDispatch?number=&name=&county=&WaterSystemType=All&WaterSystemStatus=A&SourceWaterType=All&action=Search+For+Water+Systems) of all the public water systems in the state mtaintained by The California Safe Drinking Water Information System. This list is also available on the [California Open Data Portal](https://data.ca.gov/dataset/drinking-water-public-water-system-information). After selecting only the community water systems and removing any NTNC or NC water systems, we are left with 671 community water systems or 23% of the total community water systems.\n",
    "\n",
    "In order to use these data, we must impute the missing values. Let's see if it is reasonable to make the following assumptions:\n",
    "\n",
    "* Assumption 1: Community water systems missing from this dataset do not have an intertie. **False**  \n",
    "There are 103 community water systems with an Intertie value equal to one, but not included in the purchaser/seller dataset. Therefore, we cannot assume all community water systems in the purchaser/seller dataset have no interties. \n",
    "\n",
    "* Assumption 2: Community water systems missing from this dataset do not purchase or sell water. **False**  \n",
    "Of these 103 community water systems, some have purchased water. We can take a look at one example: Community Water System [CA4810800](https://sdwis.waterboards.ca.gov/PDWW/JSP/WaterSystemDetail.jsp?tinwsys_is_number=4860&tinwsys_st_code=CA), California State Prison in Solano, has an intertie value of 1. It also purchased water from Community Water System CA4810008, the City of Vacaville. Nevertheless, we made Assumption 2 for the sake of experiment. Using both the Univariate Fisher / ANOVA F Score and Gini Impurity Importance, we found that none of the features are predictive.\n",
    "\n",
    "For all these reasons, we do not use the intertie data in our analysis."
   ]
  },
  {
   "cell_type": "code",
   "execution_count": 27,
   "id": "cffc456f-a911-4704-ac4e-38edf89d2f06",
   "metadata": {},
   "outputs": [
    {
     "name": "stdout",
     "output_type": "stream",
     "text": [
      "Reading in pws_intertie_sources.csv .\n"
     ]
    }
   ],
   "source": [
    "# Read in the intertie data\n",
    "file_index = files.index('pws_intertie_sources.csv')\n",
    "print(\"Reading in\",files[file_index],\".\")\n",
    "df_intertie = dfs[file_index]"
   ]
  },
  {
   "cell_type": "code",
   "execution_count": 28,
   "id": "06065057-ad11-4324-b17c-c3bc858bec62",
   "metadata": {},
   "outputs": [
    {
     "data": {
      "text/plain": [
       "Index(['pwsid', 'num_sources_purchased_from', 'num_sources_sold_to',\n",
       "       'net_purchases', 'net_purchaser_flag'],\n",
       "      dtype='object')"
      ]
     },
     "execution_count": 28,
     "metadata": {},
     "output_type": "execute_result"
    }
   ],
   "source": [
    "df_intertie.columns"
   ]
  },
  {
   "cell_type": "code",
   "execution_count": 29,
   "id": "6940cc75-6360-4c37-94ac-ecf1e991c082",
   "metadata": {},
   "outputs": [],
   "source": [
    "# Read in the list of all the public water systems\n",
    "df_pws_calopendata = pd.read_csv('https://data.ca.gov/dataset/d6d3beac-6735-4127-9324-4e70f61698d9/resource/9dca2f92-4630-4bee-a9f9-69d2085b57e3/download/drinking-water-watch-public-water-system-facilities.txt', \n",
    "                                on_bad_lines='skip', delimiter='\\t', header=None)"
   ]
  },
  {
   "cell_type": "code",
   "execution_count": 30,
   "id": "ec60d4ef-9bce-44f3-b5f7-d292d6f4508f",
   "metadata": {},
   "outputs": [],
   "source": [
    "# Select rows that describe the public water system id and type (C, NTNC, or NC).\n",
    "df_pws = df_pws_calopendata[[3,7]].rename(columns={7: \"Type\", 3: \"pwsid\"})"
   ]
  },
  {
   "cell_type": "code",
   "execution_count": 31,
   "id": "17482c46-1126-455c-b246-03c46c05978d",
   "metadata": {},
   "outputs": [],
   "source": [
    "# Merge the list of all public water systems with the intertie data\n",
    "df_intertie_and_pws = df_intertie.merge(df_pws, on='pwsid', how='left')"
   ]
  },
  {
   "cell_type": "code",
   "execution_count": 32,
   "id": "3c3fa265-f321-4a66-856a-08a5359f2899",
   "metadata": {},
   "outputs": [],
   "source": [
    "# Select only community water systems\n",
    "df_intertie_and_cws = df_intertie_and_pws[df_intertie_and_pws['Type'] == 'C'].reset_index(drop=True).rename(columns={'pwsid': 'CWSID'})"
   ]
  },
  {
   "cell_type": "code",
   "execution_count": 37,
   "id": "4ec58a94-5194-49fb-b44e-6861622cec9e",
   "metadata": {},
   "outputs": [
    {
     "name": "stdout",
     "output_type": "stream",
     "text": [
      "The intertie data covers 671 community water systems.\n",
      "The intertie data covers 23.41242149337055 % of the community water systems.\n"
     ]
    }
   ],
   "source": [
    "# Print some statistics\n",
    "print(\"The intertie data covers\", df_intertie_and_cws['CWSID'].count(),\"community water systems.\")\n",
    "print(\"The intertie data covers\", df_intertie_and_cws['CWSID'].count()/df_2021['CWSID'].count()*100.,\"% of the community water systems.\")"
   ]
  },
  {
   "cell_type": "code",
   "execution_count": 38,
   "id": "758427c2-7e47-4b01-9a98-dfc382fa12ca",
   "metadata": {},
   "outputs": [],
   "source": [
    "# Merge the community water system and intertie data with the initial data\n",
    "df_2021_plus_intertie = df_2021.merge(df_intertie_and_cws, on='CWSID', how='left')"
   ]
  },
  {
   "cell_type": "code",
   "execution_count": 39,
   "id": "adbf2b60-8c72-432a-8464-66959ef465f8",
   "metadata": {},
   "outputs": [],
   "source": [
    "# Select only data where there is an intertie (i.e. the value of Intertie_x is equal to 1)\n",
    "df_test_assumptions = df_2021_plus_intertie[(df_2021_plus_intertie['Intertie_x'] == 1)].reset_index(drop=True)"
   ]
  },
  {
   "cell_type": "code",
   "execution_count": 43,
   "id": "d3b6e28a-5925-4b3f-ac5e-709f49fddb9d",
   "metadata": {},
   "outputs": [],
   "source": [
    "# Select the community water systems for which there is no value for the number of monthly purchases\n",
    "df_test_assumptions = df_test_assumptions[df_test_assumptions['num_sources_purchased_from'].isnull()]"
   ]
  },
  {
   "cell_type": "code",
   "execution_count": 45,
   "id": "731d1af4-73f5-41ee-8922-4e7f32890699",
   "metadata": {},
   "outputs": [
    {
     "data": {
      "text/plain": [
       "CWSID                         103\n",
       "Intertie_x                    103\n",
       "Score_SourceNumber_x          103\n",
       "num_sources_purchased_from      0\n",
       "num_sources_sold_to             0\n",
       "dtype: int64"
      ]
     },
     "execution_count": 45,
     "metadata": {},
     "output_type": "execute_result"
    }
   ],
   "source": [
    "# Count the number of community water systems for which there is an intertie but no value for the number of monthly purchases\n",
    "df_test_assumptions[['CWSID','Intertie_x','Score_SourceNumber_x','num_sources_purchased_from','num_sources_sold_to']].count()"
   ]
  },
  {
   "cell_type": "code",
   "execution_count": 47,
   "id": "cf0518f4-895c-4b58-b949-d36658b671b2",
   "metadata": {},
   "outputs": [
    {
     "data": {
      "text/html": [
       "<div>\n",
       "<style scoped>\n",
       "    .dataframe tbody tr th:only-of-type {\n",
       "        vertical-align: middle;\n",
       "    }\n",
       "\n",
       "    .dataframe tbody tr th {\n",
       "        vertical-align: top;\n",
       "    }\n",
       "\n",
       "    .dataframe thead th {\n",
       "        text-align: right;\n",
       "    }\n",
       "</style>\n",
       "<table border=\"1\" class=\"dataframe\">\n",
       "  <thead>\n",
       "    <tr style=\"text-align: right;\">\n",
       "      <th></th>\n",
       "      <th>CWSID</th>\n",
       "      <th>RegulatingAgency</th>\n",
       "      <th>WaterSystemName</th>\n",
       "      <th>Intertie_x</th>\n",
       "      <th>Score_SourceNumber_x</th>\n",
       "      <th>num_sources_purchased_from</th>\n",
       "      <th>num_sources_sold_to</th>\n",
       "    </tr>\n",
       "  </thead>\n",
       "  <tbody>\n",
       "    <tr>\n",
       "      <th>565</th>\n",
       "      <td>CA4810800</td>\n",
       "      <td>DISTRICT 04 - SAN FRANCISCO</td>\n",
       "      <td>CALIFORNIA STATE PRISON - SOLANO</td>\n",
       "      <td>1</td>\n",
       "      <td>0.0</td>\n",
       "      <td>NaN</td>\n",
       "      <td>NaN</td>\n",
       "    </tr>\n",
       "  </tbody>\n",
       "</table>\n",
       "</div>"
      ],
      "text/plain": [
       "         CWSID             RegulatingAgency                   WaterSystemName  \\\n",
       "565  CA4810800  DISTRICT 04 - SAN FRANCISCO  CALIFORNIA STATE PRISON - SOLANO   \n",
       "\n",
       "     Intertie_x  Score_SourceNumber_x  num_sources_purchased_from  \\\n",
       "565           1                   0.0                         NaN   \n",
       "\n",
       "     num_sources_sold_to  \n",
       "565                  NaN  "
      ]
     },
     "execution_count": 47,
     "metadata": {},
     "output_type": "execute_result"
    }
   ],
   "source": [
    "# Look at one CWS in particular\n",
    "df_test_assumptions[df_test_assumptions['CWSID'] == 'CA4810800'][['CWSID', 'RegulatingAgency', 'WaterSystemName', \n",
    "                                                                  'Intertie_x','Score_SourceNumber_x','num_sources_purchased_from','num_sources_sold_to']]"
   ]
  },
  {
   "cell_type": "code",
   "execution_count": 48,
   "id": "e8ddc87c-d4b8-4c40-a8f0-4bfd0cb10149",
   "metadata": {},
   "outputs": [],
   "source": [
    "# Make assumption 2\n",
    "\n",
    "df_2021_plus_intertie['num_sources_purchased_from'] = df_2021_plus_intertie['num_sources_purchased_from'].fillna(0)\n",
    "df_2021_plus_intertie['num_sources_sold_to'] = df_2021_plus_intertie['num_sources_sold_to'].fillna(0)"
   ]
  },
  {
   "cell_type": "markdown",
   "id": "f56657e3-3515-4c0e-a6a3-174bd9038ef0",
   "metadata": {},
   "source": [
    "One particular attribute of the The California Safe Drinking Water Information System list assesses whether a water system is primarily a groundwater or surface water site. According to the [EPA's Detailed Facility Report Data Dictionary](https://echo.epa.gov/help/reports/dfr-data-dictionary), there are six different types of water sources:\n",
    "\n",
    "* Surface Water - System has a surface source (e.g., river, reservoir, intake).  \n",
    "* Ground Water - System has a groundwater source that is not under the direct influence of surface water (e.g., protected wells) and no surface water or groundwater under the influence of surface water sources.\n",
    "* Ground Water Under Direct Influence of (UDI) Surface Water - System has a source that provides water under the direct influence of surface water (e.g., unprotected well or springs) and no surface water sources. \n",
    "* Purchased Surface Water - System purchases water that originates from a surface source (e.g., river, reservoir, intake.\n",
    "* Purchased Groundwater - System purchases water that originates from groundwater source that is not under the direct influence of surface water (e.g., protected wells) and no surface water or groundwater under the influence of surface water sources.\n",
    "* Purchased Groundwater UDI Surface Water - System purchases water that originates from a source that provides water under the direct influence of surface water(e.g., unprotected well or springs)and no surface water sources.\n",
    "\n",
    "We incorporate this information into our initial data set by creating two new keys:\n",
    "\n",
    "1. `Primary Source`, where `Groundwater` and `Groundwater Purchased` represents groundwater sources and equals 0, and the rest (`Surface Water`, `Groundwater UDI Surface Water`, `Surface Water Purchased`, `Groundwater UDI Surface Water Purchased`) represent surface water sources and equal 1.\n",
    "2. `Purchased`, where `Groundwater Purchased`, `Surface Water Purchased`, and `Groundwater UDI Surface Water Purchased` represent purchased sources and equal 1, and the rest (`Groundwater`, `Surface Water`, `Groundwater UDI Surface Water`) represent non-purchased sources and equal 0.\n",
    "\n",
    "When dividing the data this way, we are left with 2020 groundwater sources (`Primary Source == 0`) and 829 surface water sources. We are also left with 427 CWS that purchased water, and 2442 that did not purchase water.\n",
    "\n",
    "The model does not perform any better when incorporating this type of purchasing data (as opposed to the intertie data), nor does performance improve by only including groundwater sources. Therefore, we do not need to use these keywords."
   ]
  },
  {
   "cell_type": "code",
   "execution_count": 49,
   "id": "9a1f6354-1798-46af-a516-63f7caab4d4d",
   "metadata": {},
   "outputs": [
    {
     "data": {
      "text/plain": [
       "array(['Groundwater', 'Surface Water', 'Groundwater UDI Surface Water',\n",
       "       'Groundwater Purchased', 'Surface Water Purchased', nan,\n",
       "       'Groundwater UDI Surface Water Purchased'], dtype=object)"
      ]
     },
     "execution_count": 49,
     "metadata": {},
     "output_type": "execute_result"
    }
   ],
   "source": [
    "df_pws_calopendata[16].unique()"
   ]
  },
  {
   "cell_type": "code",
   "execution_count": 50,
   "id": "616e25d4-4d0e-4d43-a89e-d7ce433e1655",
   "metadata": {},
   "outputs": [],
   "source": [
    "# Select rows that describe the source of water and create two new keys\n",
    "df_pws = df_pws_calopendata[[16, 3]].rename(columns={16: \"Primary Source\", 3:'CWSID'})\n",
    "df_pws['Purchased'] = df_pws['Primary Source'] "
   ]
  },
  {
   "cell_type": "code",
   "execution_count": 51,
   "id": "6057481a-45c1-4793-965c-30e7ee3f7cac",
   "metadata": {},
   "outputs": [],
   "source": [
    "# Create Primary Source\n",
    "primary_source_dictionary = {'Groundwater': 0, 'Surface Water':1, 'Groundwater UDI Surface Water':1,\n",
    "       'Groundwater Purchased':0, 'Surface Water Purchased':1,\n",
    "       'Groundwater UDI Surface Water Purchased':1, np.nan: np.nan}\n",
    "df_pws['Primary Source'] = df_pws['Primary Source'].apply(lambda x: primary_source_dictionary[x])"
   ]
  },
  {
   "cell_type": "code",
   "execution_count": 52,
   "id": "f9d62268-8dca-471f-a6b1-990a8be9e89b",
   "metadata": {},
   "outputs": [],
   "source": [
    "# Create Purhased\n",
    "purchased_dictionary = {'Groundwater': 0, 'Surface Water':0, 'Groundwater UDI Surface Water':0,\n",
    "       'Groundwater Purchased':1, 'Surface Water Purchased':1,\n",
    "       'Groundwater UDI Surface Water Purchased':1, np.nan: np.nan}\n",
    "df_pws['Purchased'] = df_pws['Purchased'].apply(lambda x: purchased_dictionary[x])"
   ]
  },
  {
   "cell_type": "code",
   "execution_count": 53,
   "id": "94497283-de3f-493f-90ec-4b295d92bed6",
   "metadata": {},
   "outputs": [],
   "source": [
    "# Merge the list of all public water systems with the intertie data\n",
    "df_2021_plus_pws = df_2021.merge(df_pws, on='CWSID', how='left').drop_duplicates().dropna()"
   ]
  },
  {
   "cell_type": "code",
   "execution_count": 54,
   "id": "1dcaf58b-92a6-44e8-9de6-9de4928d47bd",
   "metadata": {},
   "outputs": [
    {
     "data": {
      "text/plain": [
       "(2849, 80)"
      ]
     },
     "execution_count": 54,
     "metadata": {},
     "output_type": "execute_result"
    }
   ],
   "source": [
    "df_2021_plus_pws.shape"
   ]
  },
  {
   "cell_type": "code",
   "execution_count": 55,
   "id": "bd0066b5-e781-497e-8152-99a884e5e4a3",
   "metadata": {},
   "outputs": [
    {
     "data": {
      "text/plain": [
       "0.0    2422\n",
       "1.0     427\n",
       "Name: Purchased, dtype: int64"
      ]
     },
     "execution_count": 55,
     "metadata": {},
     "output_type": "execute_result"
    }
   ],
   "source": [
    "df_2021_plus_pws['Purchased'].value_counts()"
   ]
  },
  {
   "cell_type": "code",
   "execution_count": 56,
   "id": "5ba5d00c-4a44-4143-a9dc-f1658dc0ebc8",
   "metadata": {},
   "outputs": [
    {
     "data": {
      "text/plain": [
       "0.0    2020\n",
       "1.0     829\n",
       "Name: Primary Source, dtype: int64"
      ]
     },
     "execution_count": 56,
     "metadata": {},
     "output_type": "execute_result"
    }
   ],
   "source": [
    "df_2021_plus_pws['Primary Source'].value_counts()"
   ]
  },
  {
   "cell_type": "markdown",
   "id": "a199722c-b6cd-4b7b-b915-5e5bfa9186b9",
   "metadata": {
    "tags": []
   },
   "source": [
    "### Add [Periodic Groundwater Level Measurements](https://data.cnra.ca.gov/dataset/periodic-groundwater-level-measurements) data\n",
    "\n",
    "The Periodic Groundwater Level Measurement data, in the file `seasonal_gw_measurements_output.csv`, contains groundwater level measurements, taken periodically, for 2051 water systems. The groundwater data includes some public, but not community, water systems, e.g. CA0202501 (see a complete [list of all the community water systems in California](https://sdwis.waterboards.ca.gov/PDWW/JSP/SearchDispatch?number=&name=&county=&WaterSystemType=All&WaterSystemStatus=A&SourceWaterType=All&action=Search+For+Water+Systems) from the The Safe Drinking Water Information System). If we restict the data to include only community water systems that have data for both the wet and dry seasons of 2021, we have data for 1614 out of the 2866 groundwater sites, or 56% coverage. The outcome label experiences a similar decrease in coverage, from 156 to 83 positive examples.\n",
    "\n",
    "This spase coverage means we need to impute almost half of the data, which will introduce a lot of noise into the dataset. In general, it is not adviseable to impute more than 10% of missing data. We can do a test by withholding some data, imputing the values for the witheld data, and then comparing the imputed values to the real values. We could possibly create categorical variables out of the numerical ones, applying a threshold at various points, and applying a neutral value to the remaining data.\n",
    "\n",
    "Some notes about the groundwater metadata:\n",
    "* Some CWSIDs do not have measurements taken during a dry or wet season, but have measurements taken during the opposite season. \n",
    "* If the value for the variable `gwe_std` is NaN, the value in the corresponding variable `gws_avg` represents one data point. \n",
    "* If the value for `CWSID` is NaN, there was some missing data in the mapping between basin and CWSID.\n",
    "* Definitions for the feature named `season`: `2021_wet` corresponds to the time frame between 2020-10-01 and 2021-04-01. Therefore, `2022_wet` corresponds to the time frame between 2021-10-01 and 2022-04-01 and `2023_wet` corresponds to the time frame between 2022-10-01 and 2023-04-01."
   ]
  },
  {
   "cell_type": "code",
   "execution_count": 58,
   "id": "2081f01e-ef2b-4b7a-b4df-82f8aabe51d2",
   "metadata": {},
   "outputs": [
    {
     "name": "stdout",
     "output_type": "stream",
     "text": [
      "Reading in seasonal_gw_measurements_output.csv .\n"
     ]
    }
   ],
   "source": [
    "# Read in the groundwater data\n",
    "file_index = files.index('seasonal_gw_measurements_output.csv')\n",
    "print(\"Reading in\",files[file_index],\".\")\n",
    "df_groundwater = dfs[file_index]"
   ]
  },
  {
   "cell_type": "code",
   "execution_count": 59,
   "id": "4b86e59c-3e8a-43f4-8d8f-8081aa5b23b9",
   "metadata": {},
   "outputs": [],
   "source": [
    "# Drop the columns basin_code and gwe_std, and rename PWSID to CWSID\n",
    "df_groundwater = df_groundwater.drop(columns=['basin_code', 'gwe_std'])\n",
    "df_groundwater = df_groundwater.rename(columns={\"PWSID\": \"CWSID\"})"
   ]
  },
  {
   "cell_type": "code",
   "execution_count": 60,
   "id": "25220879-53d0-431d-8c57-88f67c4430a6",
   "metadata": {},
   "outputs": [],
   "source": [
    "# Drop all the values for which the CWSID is NaN\n",
    "df_groundwater = df_groundwater[df_groundwater['CWSID'].notna()]"
   ]
  },
  {
   "cell_type": "code",
   "execution_count": 61,
   "id": "933c788b-3431-41af-8f20-2d8999e3dac1",
   "metadata": {},
   "outputs": [
    {
     "name": "stdout",
     "output_type": "stream",
     "text": [
      "Number of CWSIDs that are not NaN: 2051\n",
      "Total number of possible CWSIDs: 2866\n",
      "Percentage of represented CWSIDs: 0.7156315422191207\n"
     ]
    }
   ],
   "source": [
    "print(\"Number of CWSIDs that are not NaN:\", df_groundwater['CWSID'].nunique())\n",
    "print(\"Total number of possible CWSIDs:\", df_2021['CWSID'].nunique())\n",
    "print(\"Percentage of represented CWSIDs:\", df_groundwater['CWSID'].nunique()/df_2021['CWSID'].nunique())"
   ]
  },
  {
   "cell_type": "code",
   "execution_count": 62,
   "id": "2d048e06-fc01-4f60-8888-7985d62b53e8",
   "metadata": {},
   "outputs": [],
   "source": [
    "# Drop all the values for which the average groundwater is NaN\n",
    "df_groundwater = df_groundwater[df_groundwater['gwe_avg'].notna()]"
   ]
  },
  {
   "cell_type": "code",
   "execution_count": 63,
   "id": "225683eb-a73b-4e4a-8c7a-5e0f4bed6f24",
   "metadata": {},
   "outputs": [],
   "source": [
    "# Choose all the rows that have values for the 2022 wet and dry season\n",
    "df_groundwater = df_groundwater.loc[df_groundwater['season'].isin(['2021_wet', '2021_dry'])].reset_index(drop=True)"
   ]
  },
  {
   "cell_type": "code",
   "execution_count": 64,
   "id": "04995404-c42e-4006-a81c-3dbbcece3e01",
   "metadata": {},
   "outputs": [],
   "source": [
    "# Choose all CWSIDs that have values for both 2021_wet and 2021_dry\n",
    "df_groundwater = df_groundwater[df_groundwater['CWSID'].duplicated()].reset_index(drop=True)"
   ]
  },
  {
   "cell_type": "code",
   "execution_count": 65,
   "id": "fbb40b57-6ab2-4dee-a095-9a8bed78b6d4",
   "metadata": {},
   "outputs": [],
   "source": [
    "df_2021_plus_groundwater = df_2021_plus_intertie.merge(df_groundwater, on='CWSID', how='left')"
   ]
  },
  {
   "cell_type": "code",
   "execution_count": 66,
   "id": "d28b8d85-6c05-43b9-85ca-637181ee0928",
   "metadata": {},
   "outputs": [],
   "source": [
    "df_2021_plus_groundwater = df_2021_plus_groundwater[df_2021_plus_groundwater['gwe_avg'].notna()].reset_index(drop=True)"
   ]
  },
  {
   "cell_type": "code",
   "execution_count": 67,
   "id": "a50a9c86-92d2-49b4-ac20-3d0b8dc8b73d",
   "metadata": {},
   "outputs": [
    {
     "name": "stdout",
     "output_type": "stream",
     "text": [
      "Number of PWSIDs that are not NaN: 1847\n",
      "Number of non-NaN PWSIDs that are CWSIDs: 1614\n",
      "Total number of possible CWSIDs: 2866\n",
      "Percentage of represented CWSIDs: 0.5631542219120725\n"
     ]
    }
   ],
   "source": [
    "print(\"Number of PWSIDs that are not NaN:\", df_groundwater['CWSID'].nunique())\n",
    "print(\"Number of non-NaN PWSIDs that are CWSIDs:\", df_2021_plus_groundwater['CWSID'].nunique())\n",
    "print(\"Total number of possible CWSIDs:\", df_2021['CWSID'].nunique())\n",
    "print(\"Percentage of represented CWSIDs:\", df_2021_plus_groundwater['CWSID'].nunique()/df_2021['CWSID'].nunique())"
   ]
  },
  {
   "cell_type": "markdown",
   "id": "d3c26ded-23ff-4f28-8d2a-8bb94b5243ad",
   "metadata": {
    "tags": []
   },
   "source": [
    "### Add [California Natural Flows Data](https://rivers.codefornature.org)\n",
    "\n",
    "The California Natural Flows Database (NFD) contains predicted natural stream flows for every stream in California at a monthly cadence from 1950 to 2022. The Nature Conservancy and the USGS used a three different random forest algorithms to model the flow rate in three different regions:\n",
    "* Interior Mountains (including the Sierra Nevada and Klamath mountains)\n",
    "* North Coastal Mountains (including the mountains in the north western portion of the state)\n",
    "* Xeric (including the Central Valley, Central and South Coast, and desert portions of the state)\n",
    "\n",
    "The process is described in [Zimmerman et al. 2017](https://doi.org/10.1111/fwb.13058). They acknowledge inflated values during the dry season, saying: \"While the frequency of monthly flow alteration tended to be low, the degree of alteration was substantial. ... Inflation of monthly flows was most pronounced in the dry summer months, when flows in California streams are typically at their lowest level.\"\n",
    "\n",
    "It may be useful to use actual measurements, rather than predicted values -- e.g. data from the [California Nevada River Forecast Center](https://www.cnrfc.noaa.gov/).\n",
    "\n",
    "\n",
    "**Step 1: Obtain a complete list of HUC8 codes in California.** The California Department of Water Resources put a [simplifed mapping HUC8 codes](https://data.ca.gov/dataset/huc8-ca-simplified) within the state of California on the California Open Data Portal. Since HUC8 codes follow watershed boundaries, some span multiple states. This simplified mapping is clipped to the political boundary using ArcGIS.\n",
    "\n",
    "**Step 2: Obtain flow data per HUC8 code per unit time.** The data are provided in a field called `value`.  "
   ]
  },
  {
   "cell_type": "markdown",
   "id": "bc4b98e6-ca7a-4477-87be-396adcfad55c",
   "metadata": {},
   "source": [
    "Complete Step 1:"
   ]
  },
  {
   "cell_type": "code",
   "execution_count": 68,
   "id": "95c9ba38-e38c-4700-a433-efa28b99b76c",
   "metadata": {},
   "outputs": [],
   "source": [
    "url_huc8 = 'https://gis.data.cnra.ca.gov/datasets/02ff4971b8084ca593309036fb72289c_0.csv?outSR=%7B%22latestWkid%22%3A3857%2C%22wkid%22%3A102100%7D'"
   ]
  },
  {
   "cell_type": "code",
   "execution_count": 69,
   "id": "76e97680-91e3-4b4f-ac47-98703485da60",
   "metadata": {},
   "outputs": [],
   "source": [
    "df_huc8 = pd.read_csv(url_huc8)"
   ]
  },
  {
   "cell_type": "markdown",
   "id": "72cc03b4-725c-44d4-be27-36a60dbf9bbf",
   "metadata": {},
   "source": [
    "Complete Step 2:"
   ]
  },
  {
   "cell_type": "code",
   "execution_count": 75,
   "id": "d7dce235-2d7b-431d-a7f8-f1acb37c8636",
   "metadata": {},
   "outputs": [
    {
     "name": "stdout",
     "output_type": "stream",
     "text": [
      "Reading in 202304_TNC monthly-flow estimation.csv .\n"
     ]
    }
   ],
   "source": [
    "# Read in the TNC flow data\n",
    "file_index = files.index('202304_TNC monthly-flow estimation.csv')\n",
    "print(\"Reading in\",files[file_index],\".\")\n",
    "df0 = dfs[file_index]"
   ]
  },
  {
   "cell_type": "code",
   "execution_count": 76,
   "id": "98bee77e-65b2-4d4b-9f88-bb4285beaeb3",
   "metadata": {},
   "outputs": [],
   "source": [
    "df0['Date'] = df0[['year', 'month']].astype(str).agg('-'.join, axis=1) "
   ]
  },
  {
   "cell_type": "code",
   "execution_count": 77,
   "id": "e20ada4e-a6f9-44e6-a876-040e75bbeae6",
   "metadata": {},
   "outputs": [],
   "source": [
    "df0 = df0.drop(columns=['comid', 'statistic', 'variable', 'month', 'year', 'pct_rank',\n",
    "       'GNIS_NAME', 'FTYPE', 'FCODE', 'stream_ord', 'name', 'method'])"
   ]
  },
  {
   "cell_type": "code",
   "execution_count": 78,
   "id": "dd1d99dc-4030-4152-977f-7ec8f59eb37a",
   "metadata": {},
   "outputs": [],
   "source": [
    "# Convert the keyword MapDate into a datetime object\n",
    "df0['Date'] = pd.to_datetime(df0['Date'], format = '%Y-%m').reset_index(drop=True)"
   ]
  },
  {
   "cell_type": "code",
   "execution_count": 79,
   "id": "84cb5ed3-5af8-4f4f-b9ec-b26d327495c5",
   "metadata": {},
   "outputs": [],
   "source": [
    "# Define the dry season 2021\n",
    "start_dry_season = dt_obj.fromisoformat('2021-05-01')\n",
    "end_dry_season = dt_obj.fromisoformat('2021-09-30')\n",
    "\n",
    "# Define the wet season 2021\n",
    "start_wet_season = dt_obj.fromisoformat('2021-10-01')\n",
    "end_wet_season = dt_obj.fromisoformat('2022-04-01')"
   ]
  },
  {
   "cell_type": "code",
   "execution_count": 80,
   "id": "c0c9ce41-f541-4aef-8c12-9b71f634161a",
   "metadata": {},
   "outputs": [
    {
     "name": "stdout",
     "output_type": "stream",
     "text": [
      "Calculating features for HUC8 region 18100204 Salton Sea\n",
      "Calculating features for HUC8 region 18070303 San Luis Rey-Escondido\n",
      "Calculating features for HUC8 region 18070304 San Diego\n",
      "Calculating features for HUC8 region 18020162 Upper Putah\n",
      "Calculating features for HUC8 region 18050001 Suisun Bay\n",
      "Calculating features for HUC8 region 15030102 Piute Wash\n",
      "Calculating features for HUC8 region 18100100 Southern Mojave\n",
      "Calculating features for HUC8 region 18030003 Middle Kern-Upper Tehachapi-Grapevine\n",
      "Calculating features for HUC8 region 18060003 Carrizo Plain\n",
      "Calculating features for HUC8 region 18060007 Cuyama\n",
      "Calculating features for HUC8 region 18070102 Santa Clara\n",
      "Calculating features for HUC8 region 18090206 Antelope-Fremont Valleys\n",
      "Calculating features for HUC8 region 18020002 Upper Pit\n",
      "Calculating features for HUC8 region 18080002 Madeline Plains\n",
      "Calculating features for HUC8 region 17100309 Applegate\n",
      "Calculating features for HUC8 region 17100311 Illinois\n",
      "Calculating features for HUC8 region 18030009 Upper Dry\n",
      "Calculating features for HUC8 region 18040001 Middle San Joaquin-Lower Chowchilla\n",
      "Calculating features for HUC8 region 18100202 Carrizo Creek\n",
      "Calculating features for HUC8 region 16060015 Ivanpah-Pahrump Valleys\n",
      "Calculating features for HUC8 region 18090202 Upper Amargosa\n",
      "Calculating features for HUC8 region 18020003 Lower Pit\n",
      "Calculating features for HUC8 region 18020122 East Branch North Fork Feather\n",
      "Calculating features for HUC8 region 18020123 Middle Fork Feather\n",
      "Calculating features for HUC8 region 18080003 Honey-Eagle Lakes\n",
      "Calculating features for HUC8 region 18080001 Surprise Valley\n",
      "Calculating features for HUC8 region 18020001 Goose Lake\n",
      "Calculating features for HUC8 region 18100203 San Felipe Creek\n",
      "Calculating features for HUC8 region 18070305 Cottonwood-Tijuana\n",
      "Calculating features for HUC8 region 16050302 West Walker\n",
      "Calculating features for HUC8 region 18090208 Mojave\n",
      "Calculating features for HUC8 region 16050101 Lake Tahoe\n",
      "Calculating features for HUC8 region 18010102 Mad-Redwood\n",
      "Calculating features for HUC8 region 18010103 Upper Eel\n",
      "Calculating features for HUC8 region 18010104 Middle Fork Eel\n",
      "Calculating features for HUC8 region 18010105 Lower Eel\n",
      "Calculating features for HUC8 region 18010106 South Fork Eel\n",
      "Calculating features for HUC8 region 18010107 Mattole\n",
      "Calculating features for HUC8 region 18010108 Big-Navarro-Garcia\n",
      "Calculating features for HUC8 region 18010109 Gualala-Salmon\n",
      "Calculating features for HUC8 region 18010110 Russian\n",
      "Calculating features for HUC8 region 18010205 Butte\n",
      "Calculating features for HUC8 region 18010207 Shasta\n",
      "Calculating features for HUC8 region 18010208 Scott\n",
      "Calculating features for HUC8 region 18010209 Lower Klamath\n",
      "Calculating features for HUC8 region 18010210 Salmon\n",
      "Calculating features for HUC8 region 18010211 Trinity\n",
      "Calculating features for HUC8 region 18010212 South Fork Trinity\n",
      "Calculating features for HUC8 region 18020004 McCloud\n",
      "Calculating features for HUC8 region 18020005 Sacramento Headwaters\n",
      "Calculating features for HUC8 region 18020104 Sacramento-Stone Corral\n",
      "Calculating features for HUC8 region 18020111 Lower American\n",
      "Calculating features for HUC8 region 18020115 Upper Stony\n",
      "Calculating features for HUC8 region 18020116 Upper Cache\n",
      "Calculating features for HUC8 region 18020121 North Fork Feather\n",
      "Calculating features for HUC8 region 18020125 Upper Yuba\n",
      "Calculating features for HUC8 region 18020126 Upper Bear\n",
      "Calculating features for HUC8 region 18020128 North Fork American\n",
      "Calculating features for HUC8 region 18020129 South Fork American\n",
      "Calculating features for HUC8 region 18020151 Cow Creek\n",
      "Calculating features for HUC8 region 18020152 Cottonwood Creek\n",
      "Calculating features for HUC8 region 18020153 Battle Creek\n",
      "Calculating features for HUC8 region 18020154 Clear Creek-Sacramento River\n",
      "Calculating features for HUC8 region 18020155 Paynes Creek-Sacramento River\n",
      "Calculating features for HUC8 region 18020156 Thomes Creek-Sacramento River\n",
      "Calculating features for HUC8 region 18020157 Big Chico Creek-Sacramento River\n",
      "Calculating features for HUC8 region 18020158 Butte Creek\n",
      "Calculating features for HUC8 region 18020159 Honcut Headwaters-Lower Feather\n",
      "Calculating features for HUC8 region 18020161 Upper Coon-Upper Auburn\n",
      "Calculating features for HUC8 region 16040203 Smoke Creek Desert\n",
      "Calculating features for HUC8 region 16040204 Massacre Lake\n",
      "Calculating features for HUC8 region 16060010 Fish Lake-Soda Spring Valleys\n",
      "Calculating features for HUC8 region 18030001 Upper Kern\n",
      "Calculating features for HUC8 region 18030002 South Fork Kern\n",
      "Calculating features for HUC8 region 18030004 Upper Poso\n",
      "Calculating features for HUC8 region 18030005 Upper Deer-Upper White\n",
      "Calculating features for HUC8 region 18030006 Upper Tule\n",
      "Calculating features for HUC8 region 18030007 Upper Kaweah\n",
      "Calculating features for HUC8 region 18030012 Tulare Lake Bed\n",
      "Calculating features for HUC8 region 18040002 Lower San Joaquin River\n",
      "Calculating features for HUC8 region 18040003 San Joaquin Delta\n",
      "Calculating features for HUC8 region 18040007 Fresno River\n",
      "Calculating features for HUC8 region 18040008 Upper Merced\n",
      "Calculating features for HUC8 region 18040010 Upper Stanislaus\n",
      "Calculating features for HUC8 region 18040011 Upper Calaveras California\n",
      "Calculating features for HUC8 region 18040013 Upper Cosumnes\n",
      "Calculating features for HUC8 region 18040051 Rock Creek-French Camp Slough\n",
      "Calculating features for HUC8 region 18050002 San Pablo Bay\n",
      "Calculating features for HUC8 region 18050003 Coyote\n",
      "Calculating features for HUC8 region 18050004 San Francisco Bay\n",
      "Calculating features for HUC8 region 18050005 Tomales-Drake Bays\n",
      "Calculating features for HUC8 region 18050006 San Francisco Coastal South\n",
      "Calculating features for HUC8 region 18060002 Pajaro\n",
      "Calculating features for HUC8 region 18060005 Salinas\n",
      "Calculating features for HUC8 region 18060006 Central Coastal\n",
      "Calculating features for HUC8 region 18060008 Santa Maria\n",
      "Calculating features for HUC8 region 18060009 San Antonio\n",
      "Calculating features for HUC8 region 18060010 Santa Ynez\n",
      "Calculating features for HUC8 region 18060013 Santa Barbara Coastal\n",
      "Calculating features for HUC8 region 18060015 Monterey Bay\n",
      "Calculating features for HUC8 region 18070101 Ventura\n",
      "Calculating features for HUC8 region 16050102 Truckee\n",
      "Calculating features for HUC8 region 18040009 Upper Tuolumne\n",
      "Calculating features for HUC8 region 18090101 Mono Lake\n",
      "Calculating features for HUC8 region 18090102 Crowley Lake\n",
      "Calculating features for HUC8 region 18090103 Owens Lake\n",
      "Calculating features for HUC8 region 18090201 Eureka-Saline Valleys\n",
      "Calculating features for HUC8 region 18090203 Death Valley-Lower Amargosa\n",
      "Calculating features for HUC8 region 18090204 Panamint Valley\n",
      "Calculating features for HUC8 region 18090205 Indian Wells-Searles Valleys\n",
      "Calculating features for HUC8 region 18090207 Coyote-Cuddeback Lakes\n",
      "Calculating features for HUC8 region 15030101 Havasu-Mohave Lakes\n",
      "Calculating features for HUC8 region 16050201 Upper Carson\n",
      "Calculating features for HUC8 region 16050301 East Walker\n",
      "Calculating features for HUC8 region 18010204 Lost\n",
      "Calculating features for HUC8 region 18070203 Santa Ana\n",
      "Calculating features for HUC8 region 18100201 Whitewater River\n",
      "Calculating features for HUC8 region 17120007 Warner Lakes\n",
      "Calculating features for HUC8 region 18060004 Estrella\n",
      "Calculating features for HUC8 region 18060014 Santa Barbara Channel Islands\n",
      "Calculating features for HUC8 region 18070103 Calleguas\n",
      "Calculating features for HUC8 region 18070104 Santa Monica Bay\n",
      "Calculating features for HUC8 region 18070105 Los Angeles\n",
      "Calculating features for HUC8 region 18070106 San Gabriel\n",
      "Calculating features for HUC8 region 18070107 San Pedro Channel Islands\n",
      "Calculating features for HUC8 region 18070201 Seal Beach\n",
      "Calculating features for HUC8 region 18070202 San Jacinto\n",
      "Calculating features for HUC8 region 18070204 Newport Bay\n",
      "Calculating features for HUC8 region 18070301 Aliso-San Onofre\n",
      "Calculating features for HUC8 region 18070302 Santa Margarita\n",
      "Calculating features for HUC8 region 18020163 Lower Sacramento\n",
      "Calculating features for HUC8 region 18040012 Upper Mokelumne\n",
      "Calculating features for HUC8 region 18030010 Upper King\n",
      "Calculating features for HUC8 region 18040006 Upper San Joaquin\n",
      "Calculating features for HUC8 region 18040014 Panoche-San Luis Reservoir\n",
      "Calculating features for HUC8 region 17100312 Chetco\n",
      "Calculating features for HUC8 region 15030107 Lower Colorado\n",
      "Calculating features for HUC8 region 15030104 Imperial Reservoir\n",
      "Calculating features for HUC8 region 18010101 Smith\n",
      "Calculating features for HUC8 region 18010206 Upper Klamath\n"
     ]
    }
   ],
   "source": [
    "all_huc_ids = []\n",
    "all_average_flows_dry_season = []\n",
    "all_max_flows_dry_season = []\n",
    "all_standard_deviation_flows_dry_season = []\n",
    "all_delta_flows = []\n",
    "for i in range(len(df_huc8['HUC8'])):  \n",
    "    # Get an individual HUC8 region in California\n",
    "    one_huc8_code = df_huc8['HUC8'][i]\n",
    "    print('Calculating features for HUC8 region',one_huc8_code, df_huc8['Name'][i])\n",
    "    df_one_huc = df0[df0['huc8'] == one_huc8_code]\n",
    "\n",
    "    # Identify the dry season\n",
    "    mask_dry = (df_one_huc['Date'] > start_dry_season) & (df_one_huc['Date'] <= end_dry_season)\n",
    "    df_dry = df_one_huc[mask_dry]\n",
    "    \n",
    "    # Calculate the maximum, average, and standard deviation of the flow during the dry season\n",
    "    max_flow_dry_season = np.nanmax(df_dry['value'])\n",
    "    average_flow_dry_season = np.nanmean(df_dry['value'])\n",
    "    standard_deviation_dry_season_flow = np.nanstd(df_dry['value'])\n",
    "    \n",
    "    # Identify the wet season\n",
    "    mask_wet = (df_one_huc['Date'] > start_wet_season) & (df_one_huc['Date'] <= end_wet_season)\n",
    "    df_wet = df_one_huc[mask_wet]\n",
    "    \n",
    "    # Calculate the average flow during the wet season\n",
    "    average_flow_wet_season = np.nanmean(df_wet['value'])\n",
    "    \n",
    "    # Calculate the change in average flow between dry and wet seasons\n",
    "    delta_flow = average_flow_dry_season - average_flow_wet_season\n",
    "    \n",
    "    # Save the data to a list\n",
    "    all_huc_ids.append(one_huc8_code)\n",
    "    all_max_flows_dry_season.append(max_flow_dry_season)\n",
    "    all_average_flows_dry_season.append(average_flow_dry_season)\n",
    "    all_standard_deviation_flows_dry_season.append(standard_deviation_dry_season_flow)\n",
    "    all_delta_flows.append(delta_flow)"
   ]
  },
  {
   "cell_type": "code",
   "execution_count": 81,
   "id": "9c1d3346-efe9-4c5a-814f-ba3f39b9d205",
   "metadata": {},
   "outputs": [],
   "source": [
    "df_flow_data = pd.DataFrame({'HUC8': all_huc_ids, \n",
    "                   'Flow Dry Season Max': all_max_flows_dry_season,        \n",
    "                   'Flow Dry Season Average': all_average_flows_dry_season,\n",
    "                   'Flow Dry Season Standard Deviation': all_standard_deviation_flows_dry_season,\n",
    "                   'Flow Dry Wet Delta': all_delta_flows})"
   ]
  },
  {
   "cell_type": "code",
   "execution_count": 82,
   "id": "99bff44f-6155-4ea6-aa97-05a9c14e417e",
   "metadata": {},
   "outputs": [],
   "source": [
    "df_2021_plus_flow = df_2021.merge(df_flow_data, on='HUC8', how='left')\n",
    "#df_2021_plus_flow = df_2021_plus_groundwater.merge(df_flow_data, on='HUC8', how='left')"
   ]
  },
  {
   "cell_type": "code",
   "execution_count": 83,
   "id": "707489b5-4980-4c56-8fc2-58e035127c34",
   "metadata": {},
   "outputs": [
    {
     "data": {
      "text/plain": [
       "(2866, 82)"
      ]
     },
     "execution_count": 83,
     "metadata": {},
     "output_type": "execute_result"
    }
   ],
   "source": [
    "df_2021_plus_flow.shape"
   ]
  },
  {
   "cell_type": "markdown",
   "id": "f7880960-f789-44ef-a1ef-59088f72c8b8",
   "metadata": {
    "tags": []
   },
   "source": [
    "### Add [US Drought Monitor Data](https://droughtmonitor.unl.edu/)\n",
    "\n",
    "The US Drought Monitor Database creates a weighted blend of multiple observational data (precipitation, streamflow, reservoir levels, temperature and evaporative demand, soil moisture, vegetation health) into an index called the Drought Severity and Coverage Index (DSCI). These data are available on a weekly cadence from 2000 until the present day.\n",
    "\n",
    "**Step 1: Obtain a complete list of HUC8 codes in California.** The California Department of Water Resources put a [simplifed mapping HUC8 codes](https://data.ca.gov/dataset/huc8-ca-simplified) within the state of California on the California Open Data Portal. Since HUC8 codes follow watershed boundaries, some span multiple states. This simplified mapping is clipped to the political boundary using ArcGIS.\n",
    "\n",
    "**Step 2: Obtain DSCI data per HUC8 code per unit time.** \n",
    "* The [US Drought Monitor Index](https://droughtmonitor.unl.edu/) provides several drought-related datasets. These data are available through a REST API. \n",
    "* Construct the URL for the REST API. The query terms are: \n",
    "  * `[area]` = `HUCStatistics`\n",
    "  * `[statistics type]` = `GetDroughtSeverityStatisticsByAreaPercent` (Note: One could use `GetDSCI`, but this will not return HUC8 codes as a key)\n",
    "  * `[aoi]` = Any given HUC8 code, e.g. 15040004\n",
    "  * `[start date]` = 01/01/2021\n",
    "  * `[end date]` = 01/01/2022\n",
    "  * `[statistics type]` = 2. (Note: This is a different keyword from the first statistics type. A statistics type of 2 refers to categorical statistics).\n",
    "* Here is an example URL: url_dsci = `https://usdmdataservices.unl.edu/api/HUCStatistics/GetDroughtSeverityStatisticsByAreaPercent?aoi=15040004&startdate=1/2/2021&enddate=12/27/2021&statisticsType=2`\n",
    "\n",
    "**Step 3: Calculate the Drought Severity and Coverage Index (DSCI).** Compute a weighted sum of the categorical percent area as described [here](https://droughtmonitor.unl.edu/About/AbouttheData/DSCI.aspx): DSCI = 1(D0) + 2(D1) + 3(D2) + 4(D3) + 5(D4)"
   ]
  },
  {
   "cell_type": "markdown",
   "id": "60e875cc-1721-471d-bcab-d31243a77329",
   "metadata": {},
   "source": [
    "Step 1, add additional seasons:"
   ]
  },
  {
   "cell_type": "code",
   "execution_count": 84,
   "id": "a7303f80-7942-497b-873d-77062d7a5ec7",
   "metadata": {},
   "outputs": [],
   "source": [
    "# Define the dry seasons\n",
    "dry_seasons_start = [dt_obj.fromisoformat('2021-05-01'), dt_obj.fromisoformat('2020-05-01'), dt_obj.fromisoformat('2019-05-01')]\n",
    "dry_seasons_end = [dt_obj.fromisoformat('2021-09-30'), dt_obj.fromisoformat('2020-09-30'), dt_obj.fromisoformat('2019-09-30')]\n",
    "\n",
    "# Define the wet seasons\n",
    "wet_seasons_start = [dt_obj.fromisoformat('2021-10-01'), dt_obj.fromisoformat('2020-10-01'), dt_obj.fromisoformat('2019-10-01')]\n",
    "wet_seasons_end = [dt_obj.fromisoformat('2022-04-01'), dt_obj.fromisoformat('2021-04-01'), dt_obj.fromisoformat('2020-04-01')]"
   ]
  },
  {
   "cell_type": "markdown",
   "id": "ca6311c0-cef8-4107-a1c9-2d4d51aaea12",
   "metadata": {},
   "source": [
    "Complete Steps 2 and 3:"
   ]
  },
  {
   "cell_type": "code",
   "execution_count": 85,
   "id": "a1ee04e6-442f-465f-9f20-287635b9a9cd",
   "metadata": {},
   "outputs": [
    {
     "name": "stdout",
     "output_type": "stream",
     "text": [
      "Fetching data for HUC8 region 18100204 Salton Sea\n",
      "Fetching data for HUC8 region 18070303 San Luis Rey-Escondido\n",
      "Fetching data for HUC8 region 18070304 San Diego\n",
      "Fetching data for HUC8 region 18020162 Upper Putah\n",
      "Fetching data for HUC8 region 18050001 Suisun Bay\n",
      "Fetching data for HUC8 region 15030102 Piute Wash\n",
      "Fetching data for HUC8 region 18100100 Southern Mojave\n",
      "Fetching data for HUC8 region 18030003 Middle Kern-Upper Tehachapi-Grapevine\n",
      "Fetching data for HUC8 region 18060003 Carrizo Plain\n",
      "Fetching data for HUC8 region 18060007 Cuyama\n",
      "Fetching data for HUC8 region 18070102 Santa Clara\n",
      "Fetching data for HUC8 region 18090206 Antelope-Fremont Valleys\n",
      "Fetching data for HUC8 region 18020002 Upper Pit\n",
      "Fetching data for HUC8 region 18080002 Madeline Plains\n",
      "Fetching data for HUC8 region 17100309 Applegate\n",
      "Fetching data for HUC8 region 17100311 Illinois\n",
      "Fetching data for HUC8 region 18030009 Upper Dry\n",
      "Fetching data for HUC8 region 18040001 Middle San Joaquin-Lower Chowchilla\n",
      "Fetching data for HUC8 region 18100202 Carrizo Creek\n",
      "Fetching data for HUC8 region 16060015 Ivanpah-Pahrump Valleys\n",
      "Fetching data for HUC8 region 18090202 Upper Amargosa\n",
      "Fetching data for HUC8 region 18020003 Lower Pit\n",
      "Fetching data for HUC8 region 18020122 East Branch North Fork Feather\n",
      "Fetching data for HUC8 region 18020123 Middle Fork Feather\n",
      "Fetching data for HUC8 region 18080003 Honey-Eagle Lakes\n",
      "Fetching data for HUC8 region 18080001 Surprise Valley\n",
      "Fetching data for HUC8 region 18020001 Goose Lake\n",
      "Fetching data for HUC8 region 18100203 San Felipe Creek\n",
      "Fetching data for HUC8 region 18070305 Cottonwood-Tijuana\n",
      "Fetching data for HUC8 region 16050302 West Walker\n",
      "Fetching data for HUC8 region 18090208 Mojave\n",
      "Fetching data for HUC8 region 16050101 Lake Tahoe\n",
      "Fetching data for HUC8 region 18010102 Mad-Redwood\n",
      "Fetching data for HUC8 region 18010103 Upper Eel\n",
      "Fetching data for HUC8 region 18010104 Middle Fork Eel\n",
      "Fetching data for HUC8 region 18010105 Lower Eel\n",
      "Fetching data for HUC8 region 18010106 South Fork Eel\n",
      "Fetching data for HUC8 region 18010107 Mattole\n",
      "Fetching data for HUC8 region 18010108 Big-Navarro-Garcia\n",
      "Fetching data for HUC8 region 18010109 Gualala-Salmon\n",
      "Fetching data for HUC8 region 18010110 Russian\n",
      "Fetching data for HUC8 region 18010205 Butte\n",
      "Fetching data for HUC8 region 18010207 Shasta\n",
      "Fetching data for HUC8 region 18010208 Scott\n",
      "Fetching data for HUC8 region 18010209 Lower Klamath\n",
      "Fetching data for HUC8 region 18010210 Salmon\n",
      "Fetching data for HUC8 region 18010211 Trinity\n",
      "Fetching data for HUC8 region 18010212 South Fork Trinity\n",
      "Fetching data for HUC8 region 18020004 McCloud\n",
      "Fetching data for HUC8 region 18020005 Sacramento Headwaters\n",
      "Fetching data for HUC8 region 18020104 Sacramento-Stone Corral\n",
      "Fetching data for HUC8 region 18020111 Lower American\n",
      "Fetching data for HUC8 region 18020115 Upper Stony\n",
      "Fetching data for HUC8 region 18020116 Upper Cache\n",
      "Fetching data for HUC8 region 18020121 North Fork Feather\n",
      "Fetching data for HUC8 region 18020125 Upper Yuba\n",
      "Fetching data for HUC8 region 18020126 Upper Bear\n",
      "Fetching data for HUC8 region 18020128 North Fork American\n",
      "Fetching data for HUC8 region 18020129 South Fork American\n",
      "Fetching data for HUC8 region 18020151 Cow Creek\n",
      "Fetching data for HUC8 region 18020152 Cottonwood Creek\n",
      "Fetching data for HUC8 region 18020153 Battle Creek\n",
      "Fetching data for HUC8 region 18020154 Clear Creek-Sacramento River\n",
      "Fetching data for HUC8 region 18020155 Paynes Creek-Sacramento River\n",
      "Fetching data for HUC8 region 18020156 Thomes Creek-Sacramento River\n",
      "Fetching data for HUC8 region 18020157 Big Chico Creek-Sacramento River\n",
      "Fetching data for HUC8 region 18020158 Butte Creek\n",
      "Fetching data for HUC8 region 18020159 Honcut Headwaters-Lower Feather\n",
      "Fetching data for HUC8 region 18020161 Upper Coon-Upper Auburn\n",
      "Fetching data for HUC8 region 16040203 Smoke Creek Desert\n",
      "Fetching data for HUC8 region 16040204 Massacre Lake\n",
      "Fetching data for HUC8 region 16060010 Fish Lake-Soda Spring Valleys\n",
      "Fetching data for HUC8 region 18030001 Upper Kern\n",
      "Fetching data for HUC8 region 18030002 South Fork Kern\n",
      "Fetching data for HUC8 region 18030004 Upper Poso\n",
      "Fetching data for HUC8 region 18030005 Upper Deer-Upper White\n",
      "Fetching data for HUC8 region 18030006 Upper Tule\n",
      "Fetching data for HUC8 region 18030007 Upper Kaweah\n",
      "Fetching data for HUC8 region 18030012 Tulare Lake Bed\n",
      "Fetching data for HUC8 region 18040002 Lower San Joaquin River\n",
      "Fetching data for HUC8 region 18040003 San Joaquin Delta\n",
      "Fetching data for HUC8 region 18040007 Fresno River\n",
      "Fetching data for HUC8 region 18040008 Upper Merced\n",
      "Fetching data for HUC8 region 18040010 Upper Stanislaus\n",
      "Fetching data for HUC8 region 18040011 Upper Calaveras California\n",
      "Fetching data for HUC8 region 18040013 Upper Cosumnes\n",
      "Fetching data for HUC8 region 18040051 Rock Creek-French Camp Slough\n",
      "Fetching data for HUC8 region 18050002 San Pablo Bay\n",
      "Fetching data for HUC8 region 18050003 Coyote\n",
      "Fetching data for HUC8 region 18050004 San Francisco Bay\n",
      "Fetching data for HUC8 region 18050005 Tomales-Drake Bays\n",
      "Fetching data for HUC8 region 18050006 San Francisco Coastal South\n",
      "Fetching data for HUC8 region 18060002 Pajaro\n",
      "Fetching data for HUC8 region 18060005 Salinas\n",
      "Fetching data for HUC8 region 18060006 Central Coastal\n",
      "Fetching data for HUC8 region 18060008 Santa Maria\n",
      "Fetching data for HUC8 region 18060009 San Antonio\n",
      "Fetching data for HUC8 region 18060010 Santa Ynez\n",
      "Fetching data for HUC8 region 18060013 Santa Barbara Coastal\n",
      "Fetching data for HUC8 region 18060015 Monterey Bay\n",
      "Fetching data for HUC8 region 18070101 Ventura\n",
      "Fetching data for HUC8 region 16050102 Truckee\n",
      "Fetching data for HUC8 region 18040009 Upper Tuolumne\n",
      "Fetching data for HUC8 region 18090101 Mono Lake\n",
      "Fetching data for HUC8 region 18090102 Crowley Lake\n",
      "Fetching data for HUC8 region 18090103 Owens Lake\n",
      "Fetching data for HUC8 region 18090201 Eureka-Saline Valleys\n",
      "Fetching data for HUC8 region 18090203 Death Valley-Lower Amargosa\n",
      "Fetching data for HUC8 region 18090204 Panamint Valley\n",
      "Fetching data for HUC8 region 18090205 Indian Wells-Searles Valleys\n",
      "Fetching data for HUC8 region 18090207 Coyote-Cuddeback Lakes\n",
      "Fetching data for HUC8 region 15030101 Havasu-Mohave Lakes\n",
      "Fetching data for HUC8 region 16050201 Upper Carson\n",
      "Fetching data for HUC8 region 16050301 East Walker\n",
      "Fetching data for HUC8 region 18010204 Lost\n",
      "Fetching data for HUC8 region 18070203 Santa Ana\n",
      "Fetching data for HUC8 region 18100201 Whitewater River\n",
      "Fetching data for HUC8 region 17120007 Warner Lakes\n",
      "Fetching data for HUC8 region 18060004 Estrella\n",
      "Fetching data for HUC8 region 18060014 Santa Barbara Channel Islands\n",
      "Fetching data for HUC8 region 18070103 Calleguas\n",
      "Fetching data for HUC8 region 18070104 Santa Monica Bay\n",
      "Fetching data for HUC8 region 18070105 Los Angeles\n",
      "Fetching data for HUC8 region 18070106 San Gabriel\n",
      "Fetching data for HUC8 region 18070107 San Pedro Channel Islands\n",
      "Fetching data for HUC8 region 18070201 Seal Beach\n",
      "Fetching data for HUC8 region 18070202 San Jacinto\n",
      "Fetching data for HUC8 region 18070204 Newport Bay\n",
      "Fetching data for HUC8 region 18070301 Aliso-San Onofre\n",
      "Fetching data for HUC8 region 18070302 Santa Margarita\n",
      "Fetching data for HUC8 region 18020163 Lower Sacramento\n",
      "Fetching data for HUC8 region 18040012 Upper Mokelumne\n",
      "Fetching data for HUC8 region 18030010 Upper King\n",
      "Fetching data for HUC8 region 18040006 Upper San Joaquin\n",
      "Fetching data for HUC8 region 18040014 Panoche-San Luis Reservoir\n",
      "Fetching data for HUC8 region 17100312 Chetco\n",
      "Fetching data for HUC8 region 15030107 Lower Colorado\n",
      "Fetching data for HUC8 region 15030104 Imperial Reservoir\n",
      "Fetching data for HUC8 region 18010101 Smith\n",
      "Fetching data for HUC8 region 18010206 Upper Klamath\n"
     ]
    }
   ],
   "source": [
    "all_huc_ids = []\n",
    "all_average_dscis_dry_season = []\n",
    "all_max_dscis_dry_season = []\n",
    "all_standard_deviation_dscis_dry_season = []\n",
    "all_delta_dscis = []\n",
    "years_average_dscis_dry_season = []\n",
    "years_max_dscis_dry_season = []\n",
    "years_standard_deviation_dscis_dry_season = []\n",
    "years_delta_dscis = []\n",
    "for i in range(len(df_huc8['HUC8'])):\n",
    "    # Get an individual HUC8 region in California\n",
    "    one_huc8_code = df_huc8['HUC8'][i]\n",
    "    print('Fetching data for HUC8 region',one_huc8_code, df_huc8['Name'][i])\n",
    "    url_dsci = 'https://usdmdataservices.unl.edu/api/HUCStatistics/GetDroughtSeverityStatisticsByAreaPercent?aoi='+str(one_huc8_code)+'&startdate=1/1/2019&enddate=12/31/2021&statisticsType=2'\n",
    "    df_one_huc = pd.read_json(url_dsci)\n",
    "    \n",
    "    # Convert the keyword MapDate into a datetime object\n",
    "    df_one_huc['MapDate'] = pd.to_datetime(df_one_huc['MapDate'], format = '%Y%m%d').reset_index(drop=True)\n",
    "    \n",
    "    # Save the data to a list\n",
    "    all_huc_ids.append(one_huc8_code)\n",
    "\n",
    "    for j in range(len(dry_seasons_start)):\n",
    "        # Identify one dry season\n",
    "        mask_dry = (df_one_huc['MapDate'] > dry_seasons_start[j]) & (df_one_huc['MapDate'] <= dry_seasons_end[j])\n",
    "        df_dry = df_one_huc[mask_dry]\n",
    "\n",
    "        # Calculate the maximum, average, and standard deviation of the DSCI during the dry season\n",
    "        max_dsci_dry_season = np.nanmax(1*df_dry.D0 + 2*df_dry.D1 + 3*df_dry.D2 + 4*df_dry.D3 + 5*df_dry.D4)\n",
    "        average_dsci_dry_season = np.nanmean(1*df_dry.D0 + 2*df_dry.D1 + 3*df_dry.D2 + 4*df_dry.D3 + 5*df_dry.D4)\n",
    "        standard_deviation_dry_season_dsci = np.nanstd(1*df_dry.D0 + 2*df_dry.D1 + 3*df_dry.D2 + 4*df_dry.D3 + 5*df_dry.D4)\n",
    "\n",
    "        # Identify one wet season\n",
    "        mask_wet = (df_one_huc['MapDate'] > wet_seasons_start[j]) & (df_one_huc['MapDate'] <= wet_seasons_end[j])\n",
    "        df_wet = df_one_huc[mask_wet]\n",
    "\n",
    "        # Calculate the average DSCI during the wet season\n",
    "        average_dsci_wet_season = np.nanmean(1*df_wet.D0 + 2*df_wet.D1 + 3*df_wet.D2 + 4*df_wet.D3 + 5*df_wet.D4)\n",
    "\n",
    "        # Calculate the change in average DSCI between dry and wet seasons\n",
    "        delta_dsci = average_dsci_dry_season - average_dsci_wet_season\n",
    "    \n",
    "        # Concatenate each feature by years\n",
    "        years_max_dscis_dry_season.append(max_dsci_dry_season)\n",
    "        years_average_dscis_dry_season.append(average_dsci_dry_season)\n",
    "        years_standard_deviation_dscis_dry_season.append(standard_deviation_dry_season_dsci)\n",
    "        years_delta_dscis.append(delta_dsci)\n",
    "    \n",
    "    # Save the data to a list\n",
    "    all_max_dscis_dry_season.append(years_max_dscis_dry_season)\n",
    "    all_average_dscis_dry_season.append(years_average_dscis_dry_season)\n",
    "    all_standard_deviation_dscis_dry_season.append(years_standard_deviation_dscis_dry_season)\n",
    "    all_delta_dscis.append(years_delta_dscis)\n",
    "    \n",
    "    years_average_dscis_dry_season = []\n",
    "    years_max_dscis_dry_season = []\n",
    "    years_standard_deviation_dscis_dry_season = []\n",
    "    years_delta_dscis = []"
   ]
  },
  {
   "cell_type": "code",
   "execution_count": 89,
   "id": "9adb3141-a705-46b0-934d-a0c036001dd5",
   "metadata": {},
   "outputs": [],
   "source": [
    "df_drought_data = pd.DataFrame({\n",
    "                   'HUC8': all_huc_ids, \n",
    "                   'DSCI 2021 Dry Season Max': [item[0] for item in all_max_dscis_dry_season],        \n",
    "                   'DSCI 2021 Dry Season Average': [item[0] for item in all_average_dscis_dry_season],\n",
    "                   'DSCI 2021 Dry Season Standard Deviation': [item[0] for item in all_standard_deviation_dscis_dry_season],\n",
    "                   'DSCI 2021 Dry Wet Delta': [item[0] for item in all_delta_dscis],\n",
    "                   'DSCI 2020 Dry Season Max': [item[1] for item in all_max_dscis_dry_season],        \n",
    "                   'DSCI 2020 Dry Season Average': [item[1] for item in all_average_dscis_dry_season],\n",
    "                   'DSCI 2020 Dry Season Standard Deviation': [item[1] for item in all_standard_deviation_dscis_dry_season],\n",
    "                   'DSCI 2020 Dry Wet Delta': [item[1] for item in all_delta_dscis],  \n",
    "                   'DSCI 2019 Dry Season Max': [item[2] for item in all_max_dscis_dry_season],        \n",
    "                   'DSCI 2019 Dry Season Average': [item[2] for item in all_average_dscis_dry_season],\n",
    "                   'DSCI 2019 Dry Season Standard Deviation': [item[2] for item in all_standard_deviation_dscis_dry_season],\n",
    "                   'DSCI 2019 Dry Wet Delta': [item[2] for item in all_delta_dscis],\n",
    "})"
   ]
  },
  {
   "cell_type": "code",
   "execution_count": 308,
   "id": "b727d29d-101b-4ece-b060-36dc0e72c5d7",
   "metadata": {},
   "outputs": [],
   "source": [
    "df = df_2021_plus_flow.merge(df_drought_data, on='HUC8', how='left')"
   ]
  },
  {
   "cell_type": "code",
   "execution_count": 309,
   "id": "5e020f83-bb54-4742-8c73-593143054e35",
   "metadata": {},
   "outputs": [
    {
     "data": {
      "text/plain": [
       "2866"
      ]
     },
     "execution_count": 309,
     "metadata": {},
     "output_type": "execute_result"
    }
   ],
   "source": [
    "df['CWSID'].nunique()"
   ]
  },
  {
   "cell_type": "code",
   "execution_count": 310,
   "id": "cb8b3a96-77cd-4e21-8758-922de778bf1d",
   "metadata": {},
   "outputs": [
    {
     "data": {
      "text/plain": [
       "(2866, 94)"
      ]
     },
     "execution_count": 310,
     "metadata": {},
     "output_type": "execute_result"
    }
   ],
   "source": [
    "df.shape"
   ]
  },
  {
   "cell_type": "markdown",
   "id": "1181d103-b14e-48a4-b048-1a5f11b38c25",
   "metadata": {
    "tags": []
   },
   "source": [
    "### Select and Redefine Keywords"
   ]
  },
  {
   "cell_type": "markdown",
   "id": "a3cc5cc4-356d-4ea2-9a04-1e255ba60e91",
   "metadata": {},
   "source": [
    "Rename columns so they make more sense."
   ]
  },
  {
   "cell_type": "code",
   "execution_count": 311,
   "id": "ad4529f4-9230-46e8-9be5-f96589879196",
   "metadata": {},
   "outputs": [],
   "source": [
    "df.columns = df.columns.str.removesuffix(\"_x\")\n",
    "df.columns = df.columns.str.removesuffix(\"_y\")"
   ]
  },
  {
   "cell_type": "code",
   "execution_count": 312,
   "id": "647205dc-a121-4dda-8b18-ecbde7a106c0",
   "metadata": {},
   "outputs": [],
   "source": [
    "# Drop duplicate columns\n",
    "df = df.loc[:,~df.columns.duplicated()].copy()"
   ]
  },
  {
   "cell_type": "markdown",
   "id": "6b448bfd-d641-4c82-a6ad-90f273968c8b",
   "metadata": {},
   "source": [
    "Redefine the following keys: \n",
    "* `CentralValleyCounties`: No is set to zero and everything else is set to 1.\n",
    "* `FracturedRock`: Set string '0-000' to 0 and set 'FR-999' to 1.\n",
    "* `CurtailedWatershed`: Set string 'NotInCurtailedWatershed' to 0 and everything else to 1.\n",
    "\n",
    "Create the following new keys:\n",
    "* `HUC_Categories`: The keys `HUC8_CentralValley`, `HUC8_Coast`, and `HUC8_Other` contain values that include 8-digit HUC codes or strings. The string values are identical to the keyword names (i.e. 'HUC8_CentralValley', 'HUC8_Coast', and 'HUC8_Other'). Set these string values to 1, 2, and 3, respectively, and gather these into a separate keywords called 'HUC8_Categories'.\n",
    "\n",
    "Skip the following keys:\n",
    "* `Basin_Number_part1`, `Basin12`, `Basin34`, `Basin5`, `Basin6`, `Basin789`: Ignore these variables for now to avoid introducing noise into the data set (by one-hot-encoding six variables, all of which have many possible values)."
   ]
  },
  {
   "cell_type": "code",
   "execution_count": 313,
   "id": "c5376252-c358-482a-8523-b8bb843ec51e",
   "metadata": {},
   "outputs": [],
   "source": [
    "# Redefine CentralValleyCounties\n",
    "region_dictionary = {'No':0, 'BUTTE':1, 'COLUSA':1, 'FRESNO':1, 'GLENN':1, 'KERN':1, 'KINGS':1,\n",
    "       'MADERA':1, 'MERCED':1, 'PLACER':1, 'SACRAMENTO':1, 'SAN JOAQUIN':1,\n",
    "       'SHASTA':1, 'SOLANO':1, 'STANISLAUS':1, 'SUTTER':1, 'TEHAMA':1, 'TULARE':1,\n",
    "       'YOLO':1, 'YUBA':1}\n",
    "df['CentralValleyCounties'] = df['CentralValleyCounties'].apply(lambda x: region_dictionary[x])"
   ]
  },
  {
   "cell_type": "code",
   "execution_count": 314,
   "id": "79b5de5d-69d6-425f-a6ae-f394208706b2",
   "metadata": {},
   "outputs": [],
   "source": [
    "# Redefine FracturedRock\n",
    "fracturedrock_dictionary = {'0-000':0, 'FR-999':1}\n",
    "df['FracturedRock'] = df['FracturedRock'].apply(lambda x: fracturedrock_dictionary[x])"
   ]
  },
  {
   "cell_type": "code",
   "execution_count": 315,
   "id": "1388f71a-8734-46a7-bc97-63eb8adf560f",
   "metadata": {},
   "outputs": [],
   "source": [
    "# Redefine CurtailedWatershed\n",
    "watershed_dictionary = {'NotInCurtailedWatershed':0, 'PartialSacSJ':1, 'PartialSJ':1,\n",
    "       'SanJoaquinRiver':1, 'SacramentoRiver':1, 'SacSJ':1, 'RussianRiver':1,\n",
    "       'PartialRus':1, 'PartialSac':1, 'ScottRiver':1, 'ShastaRiver':1,\n",
    "       'PartialShasta':1}\n",
    "df['CurtailedWatershed'] = df['CurtailedWatershed'].apply(lambda x: watershed_dictionary[x])"
   ]
  },
  {
   "cell_type": "code",
   "execution_count": 316,
   "id": "de7be214-5d53-4abc-b49b-3a2785a8faa2",
   "metadata": {},
   "outputs": [],
   "source": [
    "# Create HUC_Categories\n",
    "\n",
    "df['HUC8_CentralValley'] = df['HUC8_CentralValley'].replace(to_replace='180*', value=0, regex=True)\n",
    "df['HUC8_Coast'] = df['HUC8_Coast'].replace(to_replace='180*', value=0, regex=True)\n",
    "df['HUC8_Other'] = df['HUC8_Other'].replace(to_replace='180*', value=0, regex=True)\n",
    "df['HUC8_Other'] = df['HUC8_Other'].replace(to_replace='160*', value=0, regex=True)\n",
    "\n",
    "df = df.replace(to_replace='HUC8_Coast', value=1)\n",
    "df = df.replace(to_replace='HUC8_CentralValley', value=2)\n",
    "df = df.replace(to_replace='HUC8_Other', value=3)\n",
    "\n",
    "df['HUC_Categories'] = np.nan\n",
    "\n",
    "df['HUC_Categories'] = df[['HUC8_CentralValley', 'HUC8_Coast', 'HUC8_Other']].max(axis=1, numeric_only=True)\n",
    "\n",
    "df = df.drop(columns=['HUC8_CentralValley', 'HUC8_Coast', 'HUC8_Other'])"
   ]
  },
  {
   "cell_type": "code",
   "execution_count": 317,
   "id": "81bd16cb-8f28-4b08-9c5c-106468b446d6",
   "metadata": {},
   "outputs": [],
   "source": [
    "df['Water Year'] = 2021"
   ]
  },
  {
   "cell_type": "markdown",
   "id": "b0f0ff33-7efd-45d6-9013-2b0fa0c92a99",
   "metadata": {},
   "source": [
    "Select the keywords to use in the model:"
   ]
  },
  {
   "cell_type": "code",
   "execution_count": 320,
   "id": "e3ae2260-9fec-4144-b905-1fbcc489717a",
   "metadata": {},
   "outputs": [],
   "source": [
    "keywords_to_use_in_the_model = [\n",
    " 'CWSID',\n",
    " 'Water Year',\n",
    " 'DroughtExperienced',\n",
    " 'SAFER_AccessibilityScore',\n",
    " 'Curtailment',\n",
    " 'CDAG_rank',\n",
    " 'PWPhysicalAddressLong',\n",
    " 'Population',\n",
    " 'ServiceConnections',\n",
    " 'PWPhysicalAddressLat',\n",
    " 'ActiveSWSource',\n",
    " 'DSCI 2021 Dry Season Standard Deviation',\n",
    " 'DSCI 2019 Dry Wet Delta',\n",
    " 'ActiveGWSource',\n",
    " 'EAR2020DroughtRiskScore',\n",
    " 'DSCI 2020 Dry Season Standard Deviation',\n",
    " 'DSCI 2020 Dry Wet Delta',\n",
    " 'DSCI 2021 Dry Wet Delta',\n",
    " 'DSCI2WYAvg',\n",
    " 'Score_SCV',\n",
    " 'DSCI 2020 Dry Season Max',\n",
    " 'Score_SourceNumber',\n",
    " 'DSCI 2021 Dry Season Average',\n",
    " 'Score_CriticallyOverdraftedGroundwaterBasin',\n",
    " 'Flow Dry Season Standard Deviation',\n",
    " 'Score_1813',\n",
    " 'Flow Dry Wet Delta',\n",
    " 'Score_SCM',\n",
    " 'TNCFlow2WYAvg',\n",
    " 'DSCI 2021 Dry Season Max',\n",
    " 'Score_1814',\n",
    " 'DSCI 2020 Dry Season Average',\n",
    " 'Flow Dry Season Average',\n",
    " 'Flow Dry Season Max',\n",
    " 'Score_1812',\n",
    " 'HUC4',\n",
    " 'Score_1702',\n",
    " 'FracturedRock',\n",
    " 'Score_1815',\n",
    " 'Score_1705',\n",
    " 'Score_1706',\n",
    " 'Intertie',\n",
    " 'HUC_Categories',\n",
    " 'CentralValleyCounties',\n",
    " 'CurtailedWatershed',\n",
    " 'DSCI 2019 Dry Season Average',\n",
    " 'DSCI 2019 Dry Season Max',\n",
    " 'DSCI 2019 Dry Season Standard Deviation',\n",
    "#'gwe_avg', 'num_purchases_monthly', 'num_sales_monthly',\n",
    " 'WaterOutageDroughtViolation',\n",
    " 'BottledHauledWaterOrZeroSource',\n",
    " 'CurtailmentExemptionPetition',\n",
    " 'Score_1704',\n",
    " 'FundedProject'\n",
    "]"
   ]
  },
  {
   "cell_type": "code",
   "execution_count": 321,
   "id": "fb60407b-26a9-4cdd-b7c2-1d862c8bbb85",
   "metadata": {},
   "outputs": [],
   "source": [
    "df_2021 = df[keywords_to_use_in_the_model]"
   ]
  },
  {
   "cell_type": "markdown",
   "id": "f9cdb3d6-a6d3-4885-b65e-53aef09f6e4d",
   "metadata": {
    "tags": []
   },
   "source": [
    "### Create 2022 Data\n",
    "\n",
    "The original data covered the year 2021. Add data that covers the year 2022.\n",
    "Follow the steps in the [Analytical File Specifications](https://docs.google.com/document/d/104HVf3_-9r174I6ZWnu0zzyngckeEz19HmvarQ5yJpM/edit)."
   ]
  },
  {
   "cell_type": "markdown",
   "id": "f553b9d9-ab7a-4ce7-a3c5-ecaa05ade04b",
   "metadata": {},
   "source": [
    "#### A. Create a new df containing all CWSIDs"
   ]
  },
  {
   "cell_type": "code",
   "execution_count": 102,
   "id": "480d714e-358f-4701-af15-4580a21d46f0",
   "metadata": {},
   "outputs": [],
   "source": [
    "df_2022 = df_2021[['CWSID', 'Population']].rename(columns={'Population': 'Water Year'})"
   ]
  },
  {
   "cell_type": "code",
   "execution_count": 103,
   "id": "d02c7c54-e524-471f-9033-667058692369",
   "metadata": {},
   "outputs": [],
   "source": [
    "df_2022['Water Year'] = 2022"
   ]
  },
  {
   "cell_type": "code",
   "execution_count": 104,
   "id": "e8ac2703-6b5e-41f4-ae5f-d475415e45e0",
   "metadata": {},
   "outputs": [
    {
     "data": {
      "text/plain": [
       "(2866, 2)"
      ]
     },
     "execution_count": 104,
     "metadata": {},
     "output_type": "execute_result"
    }
   ],
   "source": [
    "df_2022.shape"
   ]
  },
  {
   "cell_type": "markdown",
   "id": "15e46060-7913-434a-b383-c72ae358595e",
   "metadata": {},
   "source": [
    "#### B. WaterOutageDroughtViolation\n",
    "\n",
    "These data are in the file `Water_Outage_Report_SDWISViolations.csv`."
   ]
  },
  {
   "cell_type": "code",
   "execution_count": 105,
   "id": "91121a9b-8d30-4a77-b837-32f878929e13",
   "metadata": {},
   "outputs": [
    {
     "name": "stdout",
     "output_type": "stream",
     "text": [
      "Reading in Water_Outage_Report_SDWISViolations.csv .\n"
     ]
    }
   ],
   "source": [
    "file_index = files.index('Water_Outage_Report_SDWISViolations.csv')\n",
    "print(\"Reading in\",files[file_index],\".\")\n",
    "df_outage = dfs[file_index]"
   ]
  },
  {
   "cell_type": "code",
   "execution_count": 106,
   "id": "6f27a0ee-5741-4194-8a93-7fcdc9c322db",
   "metadata": {},
   "outputs": [],
   "source": [
    "# Retain only three fields and rename water system id to CWSID\n",
    "df_outage = df_outage[['water system id', 'Begin Date', 'End Date']].rename(columns={'water system id': 'CWSID'})"
   ]
  },
  {
   "cell_type": "code",
   "execution_count": 107,
   "id": "5c2eafaf-b92a-4528-ba0f-0f71918551ea",
   "metadata": {},
   "outputs": [],
   "source": [
    "df_2022 = df_2022.merge(df_outage, how='left').drop_duplicates().reset_index(drop=True)"
   ]
  },
  {
   "cell_type": "code",
   "execution_count": 108,
   "id": "d5197081-c714-4831-bb7d-db847dc6d9c1",
   "metadata": {},
   "outputs": [],
   "source": [
    "df_2022['WaterOutageDroughtViolation'] = np.NaN"
   ]
  },
  {
   "cell_type": "code",
   "execution_count": 109,
   "id": "d20b2c2f-d871-407a-945f-066a5693a5c7",
   "metadata": {},
   "outputs": [],
   "source": [
    "# Convert the keywords Begin Date and End Date into a datetime object\n",
    "df_2022['Begin Date'] = pd.to_datetime(df_2022['Begin Date'], format = '%Y-%m-%d')\n",
    "df_2022['End Date'] = pd.to_datetime(df_2022['End Date'], format = '%Y-%m-%d')"
   ]
  },
  {
   "cell_type": "code",
   "execution_count": 110,
   "id": "83edcd7f-f0c4-41ef-b4de-3985a7062685",
   "metadata": {},
   "outputs": [],
   "source": [
    "# Identify the 2022 water season\n",
    "# Define the dry season 2021\n",
    "start_2022_water_season = dt_obj.fromisoformat('2021-10-01')\n",
    "end_2022_water_season = dt_obj.fromisoformat('2022-09-30')"
   ]
  },
  {
   "cell_type": "markdown",
   "id": "b16b83cc-3fc0-447f-82f2-b74d2f1019ea",
   "metadata": {},
   "source": [
    "Step 1: Identify all cases where a `Begin Date` and `End Dat`e fall within any point of the 2022 water season (10/2021 - 9/2022). This identifies three cases."
   ]
  },
  {
   "cell_type": "code",
   "execution_count": 111,
   "id": "0406ea16-bdbc-4fa9-97d1-b5fec1e5dfbf",
   "metadata": {},
   "outputs": [],
   "source": [
    "mask_2022_water_season_1 = (df_2022['Begin Date'] > start_2022_water_season) & (df_2022['End Date'] <= end_2022_water_season)\n",
    "df_water_season_1 = df_2022[mask_2022_water_season_1]"
   ]
  },
  {
   "cell_type": "code",
   "execution_count": 112,
   "id": "49c47ceb-80ee-4802-a266-61f67f9fcdc7",
   "metadata": {},
   "outputs": [
    {
     "data": {
      "text/html": [
       "<div>\n",
       "<style scoped>\n",
       "    .dataframe tbody tr th:only-of-type {\n",
       "        vertical-align: middle;\n",
       "    }\n",
       "\n",
       "    .dataframe tbody tr th {\n",
       "        vertical-align: top;\n",
       "    }\n",
       "\n",
       "    .dataframe thead th {\n",
       "        text-align: right;\n",
       "    }\n",
       "</style>\n",
       "<table border=\"1\" class=\"dataframe\">\n",
       "  <thead>\n",
       "    <tr style=\"text-align: right;\">\n",
       "      <th></th>\n",
       "      <th>CWSID</th>\n",
       "      <th>Water Year</th>\n",
       "      <th>Begin Date</th>\n",
       "      <th>End Date</th>\n",
       "      <th>WaterOutageDroughtViolation</th>\n",
       "    </tr>\n",
       "  </thead>\n",
       "  <tbody>\n",
       "    <tr>\n",
       "      <th>177</th>\n",
       "      <td>CA0910006</td>\n",
       "      <td>2022</td>\n",
       "      <td>2022-07-11</td>\n",
       "      <td>2022-07-24</td>\n",
       "      <td>NaN</td>\n",
       "    </tr>\n",
       "    <tr>\n",
       "      <th>1431</th>\n",
       "      <td>CA3301512</td>\n",
       "      <td>2022</td>\n",
       "      <td>2022-03-01</td>\n",
       "      <td>2022-04-30</td>\n",
       "      <td>NaN</td>\n",
       "    </tr>\n",
       "    <tr>\n",
       "      <th>1582</th>\n",
       "      <td>CA3500823</td>\n",
       "      <td>2022</td>\n",
       "      <td>2022-05-31</td>\n",
       "      <td>2022-08-04</td>\n",
       "      <td>NaN</td>\n",
       "    </tr>\n",
       "  </tbody>\n",
       "</table>\n",
       "</div>"
      ],
      "text/plain": [
       "          CWSID  Water Year Begin Date   End Date  WaterOutageDroughtViolation\n",
       "177   CA0910006        2022 2022-07-11 2022-07-24                          NaN\n",
       "1431  CA3301512        2022 2022-03-01 2022-04-30                          NaN\n",
       "1582  CA3500823        2022 2022-05-31 2022-08-04                          NaN"
      ]
     },
     "execution_count": 112,
     "metadata": {},
     "output_type": "execute_result"
    }
   ],
   "source": [
    "df_water_season_1"
   ]
  },
  {
   "cell_type": "markdown",
   "id": "14acec0d-5b1f-4ea0-8e3e-25a89069650d",
   "metadata": {},
   "source": [
    "Step 2: Identify all cases with a `Begin Date` at any time with no end date. This identifies zero cases."
   ]
  },
  {
   "cell_type": "code",
   "execution_count": 113,
   "id": "a193991a-0ae8-48c3-a5ad-2e6f369fd092",
   "metadata": {},
   "outputs": [],
   "source": [
    "mask_2022_water_season_2 = (df_2022['Begin Date'] != pd.NaT) & (df_2022['End Date'] == pd.NaT)\n",
    "df_water_season_2 = df_2022[mask_2022_water_season_2]"
   ]
  },
  {
   "cell_type": "markdown",
   "id": "5a18c63b-e310-4d8d-b8ea-74be7e0e688e",
   "metadata": {},
   "source": [
    "Set the value of `WaterOutageDroughtViolation` equal to 1 for the three cases identified in Step 1."
   ]
  },
  {
   "cell_type": "code",
   "execution_count": 114,
   "id": "1b704754-49e1-4cfc-8e4c-0f53fdd8a025",
   "metadata": {},
   "outputs": [],
   "source": [
    "df_2022.loc[mask_2022_water_season_1, ['WaterOutageDroughtViolation']] = 1"
   ]
  },
  {
   "cell_type": "markdown",
   "id": "254756d1-1fa4-4e99-ab44-79eb80cb2f6f",
   "metadata": {},
   "source": [
    "And set the other values to zero."
   ]
  },
  {
   "cell_type": "code",
   "execution_count": 115,
   "id": "46c57974-ef14-47d8-b5e6-052534cd66b7",
   "metadata": {},
   "outputs": [],
   "source": [
    "df_2022.loc[~mask_2022_water_season_1, ['WaterOutageDroughtViolation']] = 0"
   ]
  },
  {
   "cell_type": "code",
   "execution_count": 116,
   "id": "f8309dbb-6b9c-4df2-9889-6fcaa1bc4536",
   "metadata": {},
   "outputs": [],
   "source": [
    "df_2022 = df_2022.drop(columns=['Begin Date', 'End Date'])"
   ]
  },
  {
   "cell_type": "code",
   "execution_count": 117,
   "id": "1c391e7c-92e9-4f44-98d0-1103047b698a",
   "metadata": {},
   "outputs": [],
   "source": [
    "df_2022['WaterOutageDroughtViolation'] = df_2022['WaterOutageDroughtViolation'].astype('int')"
   ]
  },
  {
   "cell_type": "code",
   "execution_count": 118,
   "id": "3a7e2ace-2cab-4659-87bf-c4a57ab6f897",
   "metadata": {},
   "outputs": [
    {
     "data": {
      "text/plain": [
       "(2866, 3)"
      ]
     },
     "execution_count": 118,
     "metadata": {},
     "output_type": "execute_result"
    }
   ],
   "source": [
    "df_2022.shape"
   ]
  },
  {
   "cell_type": "markdown",
   "id": "77cb0635-416d-471a-9ab2-ccfcb9976a50",
   "metadata": {},
   "source": [
    "#### C. BottledHauledWaterOrZeroSourcedata"
   ]
  },
  {
   "cell_type": "code",
   "execution_count": 119,
   "id": "aedc5594-8b54-451f-967b-98002a0caf83",
   "metadata": {},
   "outputs": [],
   "source": [
    "file_index_1 = files.index('2022BottledHauledWater_Drought Experienced.csv')\n",
    "file_index_2 = files.index('2022BottledHauledWater_Excluded.csv')"
   ]
  },
  {
   "cell_type": "code",
   "execution_count": 120,
   "id": "3c0d73ee-0e78-4f52-bd7b-5951ced932f4",
   "metadata": {},
   "outputs": [],
   "source": [
    "df_bottled = dfs[file_index_1].rename(columns={\n",
    "    'PWSID': 'CWSID', \n",
    "    'Bottled Water or Hauled Water Reliance\\r\\n':'BottledHauledWaterOrZeroSource'\n",
    "}).drop(columns=[\n",
    "    'Number of Water Sources\\r\\n', 'Absence of Interties\\r\\n',\n",
    "    'Source Capacity Violations\\r\\n',\n",
    "    'DWR – Drought & Water Shortage Risk Assessment Results',\n",
    "    'Critically Overdrafted Groundwater Basin',\n",
    "    'Drought Experienced (Bottled Hauled Water Reliance)'\n",
    "])"
   ]
  },
  {
   "cell_type": "code",
   "execution_count": 121,
   "id": "88d9cf27-dba9-42be-99f0-e0fce4e7bdd6",
   "metadata": {},
   "outputs": [],
   "source": [
    "bottled_water_dictionary = {'Y':1}\n",
    "df_bottled['BottledHauledWaterOrZeroSource'] = df_bottled['BottledHauledWaterOrZeroSource'].apply(lambda x: bottled_water_dictionary[x])"
   ]
  },
  {
   "cell_type": "code",
   "execution_count": 122,
   "id": "8c1411c6-8dd7-4842-bb01-9b35549892c5",
   "metadata": {},
   "outputs": [],
   "source": [
    "df_2022 = df_2022.merge(df_bottled, how='left', on='CWSID').drop_duplicates().reset_index(drop=True).fillna(0)"
   ]
  },
  {
   "cell_type": "code",
   "execution_count": 123,
   "id": "7eea9d9d-b9a4-4d58-958a-3041ef52eafc",
   "metadata": {},
   "outputs": [],
   "source": [
    "df_excluded = dfs[file_index_2]"
   ]
  },
  {
   "cell_type": "code",
   "execution_count": 124,
   "id": "15480622-f42b-4548-98fa-f7b847ea2b47",
   "metadata": {},
   "outputs": [
    {
     "data": {
      "text/html": [
       "<div>\n",
       "<style scoped>\n",
       "    .dataframe tbody tr th:only-of-type {\n",
       "        vertical-align: middle;\n",
       "    }\n",
       "\n",
       "    .dataframe tbody tr th {\n",
       "        vertical-align: top;\n",
       "    }\n",
       "\n",
       "    .dataframe thead th {\n",
       "        text-align: right;\n",
       "    }\n",
       "</style>\n",
       "<table border=\"1\" class=\"dataframe\">\n",
       "  <thead>\n",
       "    <tr style=\"text-align: right;\">\n",
       "      <th></th>\n",
       "      <th>CWSID</th>\n",
       "      <th>Name</th>\n",
       "    </tr>\n",
       "  </thead>\n",
       "  <tbody>\n",
       "    <tr>\n",
       "      <th>0</th>\n",
       "      <td>CA1500393</td>\n",
       "      <td>RAINBIRD VALLEY MUTUAL WATER COMPANY</td>\n",
       "    </tr>\n",
       "    <tr>\n",
       "      <th>1</th>\n",
       "      <td>CA1500442</td>\n",
       "      <td>SUNSET APARTMENTS WS</td>\n",
       "    </tr>\n",
       "    <tr>\n",
       "      <th>2</th>\n",
       "      <td>CA1500455</td>\n",
       "      <td>WILLIAM FISHER MEMORIAL WATER COMPANY</td>\n",
       "    </tr>\n",
       "    <tr>\n",
       "      <th>3</th>\n",
       "      <td>CA1500458</td>\n",
       "      <td>R.S. MUTUAL WATER COMPANY</td>\n",
       "    </tr>\n",
       "    <tr>\n",
       "      <th>4</th>\n",
       "      <td>CA1500461</td>\n",
       "      <td>FOUNTAIN TRAILER PARK WATER</td>\n",
       "    </tr>\n",
       "    <tr>\n",
       "      <th>5</th>\n",
       "      <td>CA1510052</td>\n",
       "      <td>NORTH EDWARDS WD</td>\n",
       "    </tr>\n",
       "    <tr>\n",
       "      <th>6</th>\n",
       "      <td>CA2610003</td>\n",
       "      <td>BRIDGEPORT PUD</td>\n",
       "    </tr>\n",
       "    <tr>\n",
       "      <th>7</th>\n",
       "      <td>CA4100529</td>\n",
       "      <td>CAMP LOMA MAR</td>\n",
       "    </tr>\n",
       "    <tr>\n",
       "      <th>8</th>\n",
       "      <td>CA5000389</td>\n",
       "      <td>MONTEREY PARK TRACT CSD</td>\n",
       "    </tr>\n",
       "  </tbody>\n",
       "</table>\n",
       "</div>"
      ],
      "text/plain": [
       "       CWSID                                   Name\n",
       "0  CA1500393   RAINBIRD VALLEY MUTUAL WATER COMPANY\n",
       "1  CA1500442                   SUNSET APARTMENTS WS\n",
       "2  CA1500455  WILLIAM FISHER MEMORIAL WATER COMPANY\n",
       "3  CA1500458              R.S. MUTUAL WATER COMPANY\n",
       "4  CA1500461            FOUNTAIN TRAILER PARK WATER\n",
       "5  CA1510052                       NORTH EDWARDS WD\n",
       "6  CA2610003                         BRIDGEPORT PUD\n",
       "7  CA4100529                          CAMP LOMA MAR\n",
       "8  CA5000389                MONTEREY PARK TRACT CSD"
      ]
     },
     "execution_count": 124,
     "metadata": {},
     "output_type": "execute_result"
    }
   ],
   "source": [
    "df_excluded"
   ]
  },
  {
   "cell_type": "code",
   "execution_count": 125,
   "id": "c8c6fba5-6d50-4dcd-a956-13d444f2558b",
   "metadata": {},
   "outputs": [],
   "source": [
    "out = df_2022.loc[df_2022['CWSID'].isin(list(df_excluded['CWSID']))].replace(1,0)"
   ]
  },
  {
   "cell_type": "code",
   "execution_count": 126,
   "id": "d14f70ce-4181-4520-bd76-fa2657771fae",
   "metadata": {},
   "outputs": [],
   "source": [
    "df_2022.loc[list(out.index)] = df_2022.loc[list(out.index)].replace(1,0)"
   ]
  },
  {
   "cell_type": "code",
   "execution_count": 127,
   "id": "7eebbfc1-c276-4b5d-9884-35532d9d2fcf",
   "metadata": {},
   "outputs": [],
   "source": [
    "df_2022['BottledHauledWaterOrZeroSource'] = df_2022['BottledHauledWaterOrZeroSource'].astype('int')"
   ]
  },
  {
   "cell_type": "code",
   "execution_count": 128,
   "id": "d06b746b-ee97-4e3d-9126-8d1b0960ffcb",
   "metadata": {},
   "outputs": [
    {
     "data": {
      "text/plain": [
       "(2866, 4)"
      ]
     },
     "execution_count": 128,
     "metadata": {},
     "output_type": "execute_result"
    }
   ],
   "source": [
    "df_2022.shape"
   ]
  },
  {
   "cell_type": "markdown",
   "id": "b51b6e15-5532-44e1-9b33-600a4fed29c1",
   "metadata": {},
   "source": [
    "#### D. EAR fields"
   ]
  },
  {
   "cell_type": "code",
   "execution_count": 129,
   "id": "9aaaf1f4-80e7-4aa2-b7c5-d73534c8bc6e",
   "metadata": {},
   "outputs": [],
   "source": [
    "file_index_1 = files.index('EAR.csv')"
   ]
  },
  {
   "cell_type": "code",
   "execution_count": 130,
   "id": "ef90ed6c-257c-49be-b300-780ac710da4e",
   "metadata": {},
   "outputs": [],
   "source": [
    "df_2021EAR = dfs[file_index_1].drop(columns=[\n",
    "    'EAR Drought Experienced',\n",
    "    '1702',\n",
    "    '1705',\n",
    "    '1706',\n",
    "    '1812',\n",
    "    '1813',\n",
    "    '1814',\n",
    "    '1815']).rename(columns={\n",
    "    'WSID': 'CWSID',\n",
    "    '1704': 'Score_1704',\n",
    "    '1702 Score': 'Score_1702',\n",
    "    '1705 Score': 'Score_1705',\n",
    "    '1706 Score': 'Score_1706',\n",
    "    '1812 Score': 'Score_1812',\n",
    "    '1813 Score': 'Score_1813',\n",
    "    '1814 Score': 'Score_1814',\n",
    "    '1815 Score': 'Score_1815',\n",
    "    'EAR Risk Score': 'EARDroughtRiskScore'\n",
    "})"
   ]
  },
  {
   "cell_type": "code",
   "execution_count": 131,
   "id": "29409d47-fc3d-456e-a0a4-722b719f3702",
   "metadata": {},
   "outputs": [],
   "source": [
    "df_2022 = df_2022.merge(df_2021EAR, how='left', on='CWSID').drop_duplicates().reset_index(drop=True)"
   ]
  },
  {
   "cell_type": "code",
   "execution_count": 132,
   "id": "d8327bee-2836-453e-911f-a5161a56523b",
   "metadata": {},
   "outputs": [
    {
     "data": {
      "text/plain": [
       "(2866, 13)"
      ]
     },
     "execution_count": 132,
     "metadata": {},
     "output_type": "execute_result"
    }
   ],
   "source": [
    "df_2022.shape"
   ]
  },
  {
   "cell_type": "markdown",
   "id": "33f9e3e8-8b77-42a1-b228-8eb7f452a07a",
   "metadata": {},
   "source": [
    "#### E. Funded Project"
   ]
  },
  {
   "cell_type": "code",
   "execution_count": 133,
   "id": "5e4e7de3-f6f1-48f9-9a2e-aff835feb5d8",
   "metadata": {},
   "outputs": [],
   "source": [
    "file_index_1 = files.index('Funding_DFA.csv')\n",
    "file_index_2 = files.index('Funding_DWR.csv')"
   ]
  },
  {
   "cell_type": "code",
   "execution_count": 134,
   "id": "18f90b62-be86-4cf4-b6b2-0b80748f68f5",
   "metadata": {},
   "outputs": [],
   "source": [
    "out = dfs[file_index_1]"
   ]
  },
  {
   "cell_type": "code",
   "execution_count": 135,
   "id": "185c0100-8e53-4fed-9028-3ade69b37e7d",
   "metadata": {},
   "outputs": [],
   "source": [
    "df_funding_DFA_SHE = dfs[file_index_1].drop(columns=[\n",
    "    'Recipient​',\n",
    "    'Project Type​',\n",
    "    ' Funding Amount​ ',\n",
    "    'Location (Lat/Long)',\n",
    "    'Date Approved​',\n",
    "    'Status',\n",
    "    'Funded By']).rename(columns={'PWSID': 'CWSID', 'Drought Impacted Source': 'Drought Impacted Source DFA'})"
   ]
  },
  {
   "cell_type": "markdown",
   "id": "80c65e82-3b45-4800-a181-5da43bb4ef5e",
   "metadata": {},
   "source": [
    "Convert values of Yes to 1."
   ]
  },
  {
   "cell_type": "code",
   "execution_count": 136,
   "id": "3f97a648-7dae-4e28-bec5-888f74a55c05",
   "metadata": {},
   "outputs": [],
   "source": [
    "df_funding_DFA_SHE_dictionary = {'Yes':1}\n",
    "df_funding_DFA_SHE['Drought Impacted Source DFA'] = df_funding_DFA_SHE['Drought Impacted Source DFA'].apply(lambda x: df_funding_DFA_SHE_dictionary[x])"
   ]
  },
  {
   "cell_type": "code",
   "execution_count": 137,
   "id": "1c0fc2e5-d7d5-4f17-b0b6-7525ae9d0777",
   "metadata": {},
   "outputs": [],
   "source": [
    "df_funding_DWR = dfs[file_index_2].drop(columns=[\n",
    "    'No.', \n",
    "    'Applicant',\n",
    "    'Project Type',\n",
    "    'County',\n",
    "    'Description of Issue and Proposed Solution/Scope',\n",
    "    'Recommended Funding, $', 'Column8', 'Population Served', 'Connections',\n",
    "    '61510', 'Column12', 'Column13', 'Column14', 'RAA', 'Emails', 'Column1',\n",
    "    'PSCODE']).rename(columns={'PWS ID': 'CWSID', 'Drought Impacted Source': 'Drought Impacted Source DWR'}).drop_duplicates().reset_index(drop=True)"
   ]
  },
  {
   "cell_type": "markdown",
   "id": "0bec9e6f-5a99-4478-a251-b2ec286599bb",
   "metadata": {},
   "source": [
    "Here we are making the assumption that missing values are the same as a value of zero:"
   ]
  },
  {
   "cell_type": "code",
   "execution_count": 138,
   "id": "2744f8a2-e3ec-4827-a121-ab5961e64731",
   "metadata": {},
   "outputs": [],
   "source": [
    "df_funding_DWR_dictionary = {'Not Applicable':0, 'Yes':1, 'No':0, np.NaN: 0, 'Surface Water':1 , 'Well':1 }\n",
    "df_funding_DWR['Drought Impacted Source DWR'] = df_funding_DWR['Drought Impacted Source DWR'].apply(lambda x: df_funding_DWR_dictionary[x])"
   ]
  },
  {
   "cell_type": "code",
   "execution_count": 139,
   "id": "d1221ad1-f2ac-4b4a-a2c0-a54cce640138",
   "metadata": {},
   "outputs": [],
   "source": [
    "df_funding_DWR = df_funding_DWR.drop_duplicates().reset_index(drop=True)"
   ]
  },
  {
   "cell_type": "markdown",
   "id": "50ace752-2375-4a43-8a60-8c949d2ef233",
   "metadata": {},
   "source": [
    "There are differing values of `Drought Impacted Source` for some CWS. For example, CA1610009 has three entries. Two are duplicates, and were dropped. Of the two remaining unique values, one say this CWS is drought-impacted, whereas one says that it is not.  For now, use the following rule: A yes supersedes a no. For multiple entries with conflicting values, always choose yes (1) over no (0)."
   ]
  },
  {
   "cell_type": "code",
   "execution_count": 140,
   "id": "6fc1e579-6f92-4e16-a983-7fef87162016",
   "metadata": {},
   "outputs": [
    {
     "data": {
      "text/html": [
       "<div>\n",
       "<style scoped>\n",
       "    .dataframe tbody tr th:only-of-type {\n",
       "        vertical-align: middle;\n",
       "    }\n",
       "\n",
       "    .dataframe tbody tr th {\n",
       "        vertical-align: top;\n",
       "    }\n",
       "\n",
       "    .dataframe thead th {\n",
       "        text-align: right;\n",
       "    }\n",
       "</style>\n",
       "<table border=\"1\" class=\"dataframe\">\n",
       "  <thead>\n",
       "    <tr style=\"text-align: right;\">\n",
       "      <th></th>\n",
       "      <th>CWSID</th>\n",
       "      <th>Drought Impacted Source DWR</th>\n",
       "    </tr>\n",
       "  </thead>\n",
       "  <tbody>\n",
       "    <tr>\n",
       "      <th>21</th>\n",
       "      <td>CA1610009</td>\n",
       "      <td>1</td>\n",
       "    </tr>\n",
       "    <tr>\n",
       "      <th>22</th>\n",
       "      <td>CA1610009</td>\n",
       "      <td>0</td>\n",
       "    </tr>\n",
       "    <tr>\n",
       "      <th>28</th>\n",
       "      <td>CA1710006</td>\n",
       "      <td>1</td>\n",
       "    </tr>\n",
       "    <tr>\n",
       "      <th>29</th>\n",
       "      <td>CA1710006</td>\n",
       "      <td>0</td>\n",
       "    </tr>\n",
       "    <tr>\n",
       "      <th>35</th>\n",
       "      <td>CA2000544</td>\n",
       "      <td>1</td>\n",
       "    </tr>\n",
       "    <tr>\n",
       "      <th>90</th>\n",
       "      <td>CA101004</td>\n",
       "      <td>1</td>\n",
       "    </tr>\n",
       "    <tr>\n",
       "      <th>91</th>\n",
       "      <td>CA101004</td>\n",
       "      <td>0</td>\n",
       "    </tr>\n",
       "    <tr>\n",
       "      <th>99</th>\n",
       "      <td>CA5110002</td>\n",
       "      <td>1</td>\n",
       "    </tr>\n",
       "    <tr>\n",
       "      <th>100</th>\n",
       "      <td>CA5110002</td>\n",
       "      <td>0</td>\n",
       "    </tr>\n",
       "    <tr>\n",
       "      <th>136</th>\n",
       "      <td>CA2000544</td>\n",
       "      <td>0</td>\n",
       "    </tr>\n",
       "  </tbody>\n",
       "</table>\n",
       "</div>"
      ],
      "text/plain": [
       "         CWSID  Drought Impacted Source DWR\n",
       "21   CA1610009                            1\n",
       "22   CA1610009                            0\n",
       "28   CA1710006                            1\n",
       "29   CA1710006                            0\n",
       "35   CA2000544                            1\n",
       "90    CA101004                            1\n",
       "91    CA101004                            0\n",
       "99   CA5110002                            1\n",
       "100  CA5110002                            0\n",
       "136  CA2000544                            0"
      ]
     },
     "execution_count": 140,
     "metadata": {},
     "output_type": "execute_result"
    }
   ],
   "source": [
    "df_funding_DWR[df_funding_DWR['CWSID'].duplicated(keep=False) == True]"
   ]
  },
  {
   "cell_type": "code",
   "execution_count": 141,
   "id": "89c68e02-3ad5-4668-86be-829059303792",
   "metadata": {},
   "outputs": [],
   "source": [
    "df_duplicated_DWR = df_funding_DWR[df_funding_DWR['CWSID'].duplicated(keep=False) == True]\n",
    "df_funding_DWR.loc[list(df_duplicated_DWR.index)] = df_funding_DWR.loc[list(df_duplicated_DWR.index)].replace(0,1)\n",
    "df_funding_DWR = df_funding_DWR.drop_duplicates().reset_index(drop=True)"
   ]
  },
  {
   "cell_type": "code",
   "execution_count": 142,
   "id": "fbee0e39-6b71-4903-8305-0f909c82cc04",
   "metadata": {},
   "outputs": [],
   "source": [
    "df_funding = pd.concat([df_funding_DFA_SHE, df_funding_DWR]).drop_duplicates().reset_index(drop=True)"
   ]
  },
  {
   "cell_type": "markdown",
   "id": "aee166d3-ba81-4390-bfbb-eb2427a995bf",
   "metadata": {},
   "source": [
    "Convert NaN values to zero."
   ]
  },
  {
   "cell_type": "code",
   "execution_count": 143,
   "id": "a6b722ac-45b4-4d30-8aa5-f81679684ff7",
   "metadata": {},
   "outputs": [],
   "source": [
    "df_funding['Drought Impacted Source DFA'] = df_funding['Drought Impacted Source DFA'].fillna(0)\n",
    "df_funding['Drought Impacted Source DWR'] = df_funding['Drought Impacted Source DWR'].fillna(0)"
   ]
  },
  {
   "cell_type": "markdown",
   "id": "c51bb8b8-81a9-4b85-919a-636c44be41d9",
   "metadata": {},
   "source": [
    "Create a new column called `FundedProject` that adds the values of `Drought Impacted Source DFA` and `Drought Impacted Source DWR`."
   ]
  },
  {
   "cell_type": "code",
   "execution_count": 144,
   "id": "76cf40c5-fe1e-4dab-a53c-52e382c79c87",
   "metadata": {},
   "outputs": [],
   "source": [
    "df_funding['FundedProject'] = df_funding['Drought Impacted Source DFA'] + df_funding['Drought Impacted Source DWR']"
   ]
  },
  {
   "cell_type": "markdown",
   "id": "5004d4b5-b365-43f9-b88d-9381b36a5e6a",
   "metadata": {},
   "source": [
    "Drop the columns `Drought Impacted Source DFA` and `Drought Impacted Source DWR` and all duplicates."
   ]
  },
  {
   "cell_type": "code",
   "execution_count": 145,
   "id": "60303b71-784b-45e2-bed0-185c12b38537",
   "metadata": {},
   "outputs": [],
   "source": [
    "df_funding = df_funding.drop(columns=['Drought Impacted Source DFA','Drought Impacted Source DWR']).drop_duplicates().reset_index(drop=True)"
   ]
  },
  {
   "cell_type": "code",
   "execution_count": 146,
   "id": "3647c759-3351-49bb-bed7-f27a5b9a204c",
   "metadata": {},
   "outputs": [],
   "source": [
    "df_duplicated_funding = df_funding[df_funding['CWSID'].duplicated(keep=False) == True]\n",
    "df_funding.loc[list(df_duplicated_funding.index)] = df_funding.loc[list(df_duplicated_funding.index)].replace(0,1)\n",
    "df_funding = df_funding.drop_duplicates().reset_index(drop=True)"
   ]
  },
  {
   "cell_type": "code",
   "execution_count": 147,
   "id": "1e18f7ba-0289-41c5-b976-da245f65f356",
   "metadata": {},
   "outputs": [],
   "source": [
    "df_2022 = df_2022.merge(df_funding, how='left', on='CWSID').drop_duplicates().reset_index(drop=True)"
   ]
  },
  {
   "cell_type": "markdown",
   "id": "073645b7-4976-40b2-b6ea-ec8cf1767e30",
   "metadata": {},
   "source": [
    "Set all NaN values to zero and downcast to ints."
   ]
  },
  {
   "cell_type": "code",
   "execution_count": 148,
   "id": "d1aefa9d-694f-4ab2-b775-35e6e511393d",
   "metadata": {},
   "outputs": [],
   "source": [
    "df_2022['FundedProject'] = df_2022['FundedProject'].fillna(0).astype('int')"
   ]
  },
  {
   "cell_type": "code",
   "execution_count": 149,
   "id": "b4f1ae27-a6d0-4dd5-9e05-1f985c272cf3",
   "metadata": {},
   "outputs": [
    {
     "data": {
      "text/plain": [
       "(2866, 14)"
      ]
     },
     "execution_count": 149,
     "metadata": {},
     "output_type": "execute_result"
    }
   ],
   "source": [
    "df_2022.shape"
   ]
  },
  {
   "cell_type": "markdown",
   "id": "fbd74310-1412-4494-91b0-d6965137dcd3",
   "metadata": {},
   "source": [
    "#### F. CurtailmentExemptionPetition & Curtailment"
   ]
  },
  {
   "cell_type": "code",
   "execution_count": 150,
   "id": "6973c2c6-251a-4209-963a-6f8b6a3d4265",
   "metadata": {},
   "outputs": [
    {
     "name": "stdout",
     "output_type": "stream",
     "text": [
      "Reading in Curtailed.csv .\n"
     ]
    }
   ],
   "source": [
    "file_index = files.index('Curtailed.csv')\n",
    "print(\"Reading in\",files[file_index],\".\")\n",
    "df_curtailment = dfs[file_index]"
   ]
  },
  {
   "cell_type": "code",
   "execution_count": 151,
   "id": "cbd6000a-3a42-426f-a243-81811b165ece",
   "metadata": {},
   "outputs": [],
   "source": [
    "df_curtailment = df_curtailment.drop(columns=[\n",
    "    'REG_AGENCY', 'COUNTY', 'PWS_NAME', 'WS_FED_TYPE',\n",
    "    'SERVICE_CONNECTIONS', 'POPULATION', 'FAC_ID', 'FAC_NAME',\n",
    "    'WR_TYPE', 'Claimed Priority Date', 'August Curtailment Status',\n",
    "    'September Curtailment Status', 'DWR October Curtailment Status',\n",
    "    'Watershed', 'Unnamed: 17', 'Exemptions',\n",
    "    'Petitions', 'Unnamed: 20'\n",
    "]).rename(columns={'WS_ID': 'CWSID', 'Exemption or Petition':'CurtailmentExemptionPetition', 'APPL_ID':'Curtailment'})"
   ]
  },
  {
   "cell_type": "code",
   "execution_count": 152,
   "id": "57ad76d4-5325-41f9-9763-feb5e5a7d318",
   "metadata": {},
   "outputs": [
    {
     "data": {
      "text/plain": [
       "Index(['CWSID', 'Curtailment', 'CurtailmentExemptionPetition'], dtype='object')"
      ]
     },
     "execution_count": 152,
     "metadata": {},
     "output_type": "execute_result"
    }
   ],
   "source": [
    "df_curtailment.columns"
   ]
  },
  {
   "cell_type": "code",
   "execution_count": 153,
   "id": "75b7bf83-998f-477b-8d0e-884767ac66bd",
   "metadata": {},
   "outputs": [],
   "source": [
    "df_2022 = df_2022.merge(df_curtailment, how='left', on='CWSID').drop_duplicates().reset_index(drop=True)"
   ]
  },
  {
   "cell_type": "code",
   "execution_count": 154,
   "id": "7334be6e-a436-49e7-a507-8858298fdece",
   "metadata": {},
   "outputs": [],
   "source": [
    "df_exemption_dictionary = {np.NaN:0, 'Exemption':1, 'Petition - Approved':1, 'Petition - Withdrawn':0, 'Petition - Pending':1}\n",
    "df_2022['CurtailmentExemptionPetition'] = df_2022['CurtailmentExemptionPetition'].apply(lambda x: df_exemption_dictionary[x])"
   ]
  },
  {
   "cell_type": "code",
   "execution_count": 155,
   "id": "332b8194-388d-48f9-ac68-c5701a63c4eb",
   "metadata": {},
   "outputs": [],
   "source": [
    "conditions = [(df_2022['Curtailment'].ne(np.NaN)),\n",
    "              (df_2022['Curtailment'].eq(np.NaN))]\n",
    "\n",
    "choicelist = [1,0]"
   ]
  },
  {
   "cell_type": "code",
   "execution_count": 156,
   "id": "ee93804a-30e9-4628-9223-4630dd6d404d",
   "metadata": {},
   "outputs": [],
   "source": [
    "df_2022['Curtailment'] = np.select(conditions, choicelist, default=0)"
   ]
  },
  {
   "cell_type": "code",
   "execution_count": 157,
   "id": "504353eb-4d64-4303-b677-1c4ede103ccd",
   "metadata": {},
   "outputs": [
    {
     "data": {
      "text/plain": [
       "(2866, 16)"
      ]
     },
     "execution_count": 157,
     "metadata": {},
     "output_type": "execute_result"
    }
   ],
   "source": [
    "df_2022.shape"
   ]
  },
  {
   "cell_type": "markdown",
   "id": "e0dadccd-aa28-43fb-86f7-75a4aabb04eb",
   "metadata": {},
   "source": [
    "#### G. DroughtExperienced\n",
    "\n",
    "For the 2021 data, the variable `DroughtExperienced` was based on five variables: `WaterOutageDroughtViolation`, `BottledHauledWaterOrZeroSource`, `CurtailmentExemptionPetition`, `Score_1704`, and `FundedProject`. In fact, `Score_1702` should also be factored into `DroughtExperienced`.\n",
    "\n",
    "There are two options:\n",
    "1. Calculate `DroughtExperienced` using the method used to derive the 2021 dataset, or \n",
    "2. Calculate a new version of `DroughtExperienced` using the variable `Score_1702`. \n",
    "\n",
    "The latter option requires going re-calculating `DroughtExperienced` for the 2021 dataset using the new method. For now, stick to the old method."
   ]
  },
  {
   "cell_type": "code",
   "execution_count": 158,
   "id": "c804b865-9ba9-4fc3-ab84-9105c02a3714",
   "metadata": {},
   "outputs": [],
   "source": [
    "conditions = [\n",
    "    (df_2022['WaterOutageDroughtViolation'].eq(1)) |\n",
    "    (df_2022['BottledHauledWaterOrZeroSource'].eq(1)) |\n",
    "    (df_2022['CurtailmentExemptionPetition'].eq(1)) |\n",
    "    (df_2022['Score_1704'].eq(1)) |\n",
    "    (df_2022['FundedProject'].eq(1))\n",
    "]\n",
    "\n",
    "choicelist = [1]"
   ]
  },
  {
   "cell_type": "code",
   "execution_count": 159,
   "id": "c563f57c-2e53-4975-b384-390e6606d2a6",
   "metadata": {},
   "outputs": [],
   "source": [
    "df_2022['DroughtExperienced'] = np.select(conditions, choicelist, default=0)"
   ]
  },
  {
   "cell_type": "code",
   "execution_count": 160,
   "id": "9cb5c0a1-284e-41f1-b267-77001b91f4c9",
   "metadata": {},
   "outputs": [
    {
     "data": {
      "text/plain": [
       "(2866, 17)"
      ]
     },
     "execution_count": 160,
     "metadata": {},
     "output_type": "execute_result"
    }
   ],
   "source": [
    "df_2022.shape"
   ]
  },
  {
   "cell_type": "markdown",
   "id": "587640eb-2737-449a-b581-0455f908a4fe",
   "metadata": {},
   "source": [
    "#### H. Interties\n",
    "\n",
    "It looks like these data come from the the SWDIS/EPA: https://sdwis.epa.gov/ords/sfdw_pub/r/sfdw/sdwis_fed_reports_public/103?clear=RP\n",
    "https://www.epa.gov/ground-water-and-drinking-water/safe-drinking-water-information-system-sdwis-federal-reporting"
   ]
  },
  {
   "cell_type": "code",
   "execution_count": 161,
   "id": "43625a01-2d9c-4717-a5ae-af9f067dfb54",
   "metadata": {},
   "outputs": [
    {
     "name": "stdout",
     "output_type": "stream",
     "text": [
      "Reading in Interties.csv .\n"
     ]
    }
   ],
   "source": [
    "file_index = files.index('Interties.csv')\n",
    "print(\"Reading in\",files[file_index],\".\")\n",
    "df_SDWIS_sources = dfs[file_index]"
   ]
  },
  {
   "cell_type": "code",
   "execution_count": 162,
   "id": "134c0132-ebd4-474d-8da8-b28f7e0ff0b1",
   "metadata": {},
   "outputs": [],
   "source": [
    "df_SDWIS_sources = df_SDWIS_sources.drop(columns=[\n",
    "    'Groundwater', 'Surface Water']).rename(columns={'PWSID': 'CWSID', 'Interties':'Number_Interties'})"
   ]
  },
  {
   "cell_type": "code",
   "execution_count": 163,
   "id": "4d825a8d-2ac6-43ee-a354-03a321d375ce",
   "metadata": {},
   "outputs": [],
   "source": [
    "conditions = [(df_SDWIS_sources['Number_Interties'].eq(0)),\n",
    "              (df_SDWIS_sources['Number_Interties'].ne(0))]\n",
    "\n",
    "choicelist = [0,1]"
   ]
  },
  {
   "cell_type": "code",
   "execution_count": 164,
   "id": "8b40cdde-c675-449c-876f-3b4846e13043",
   "metadata": {},
   "outputs": [],
   "source": [
    "df_SDWIS_sources['Intertie'] = np.select(conditions, choicelist, default=0)"
   ]
  },
  {
   "cell_type": "code",
   "execution_count": 165,
   "id": "d57f1637-6f5e-49ed-8870-a8a8650d3081",
   "metadata": {},
   "outputs": [],
   "source": [
    "df_2022 = df_2022.merge(df_SDWIS_sources, how='left', on='CWSID')"
   ]
  },
  {
   "cell_type": "code",
   "execution_count": 166,
   "id": "28c6a175-a8dc-48fb-bba3-e3787b7fa1f4",
   "metadata": {},
   "outputs": [
    {
     "data": {
      "text/plain": [
       "(2866, 19)"
      ]
     },
     "execution_count": 166,
     "metadata": {},
     "output_type": "execute_result"
    }
   ],
   "source": [
    "df_2022.shape"
   ]
  },
  {
   "cell_type": "markdown",
   "id": "ffaf9a6f-ac39-411e-8e9c-4170aa95c09e",
   "metadata": {},
   "source": [
    "#### I. ActiveGWSource &  ActiveSWSource"
   ]
  },
  {
   "cell_type": "code",
   "execution_count": 167,
   "id": "1d010665-daac-4d81-b6ac-0874e875a638",
   "metadata": {},
   "outputs": [
    {
     "name": "stdout",
     "output_type": "stream",
     "text": [
      "Reading in GWSWSources.csv .\n"
     ]
    }
   ],
   "source": [
    "file_index = files.index('GWSWSources.csv')\n",
    "print(\"Reading in\",files[file_index],\".\")\n",
    "df_GWSWS = dfs[file_index]"
   ]
  },
  {
   "cell_type": "code",
   "execution_count": 168,
   "id": "00f67840-0087-4367-ae36-f89a1e3ac4fb",
   "metadata": {},
   "outputs": [],
   "source": [
    "df_GWSWS = df_GWSWS.rename(columns={'PWSID': 'CWSID', 'GROUNDWATER':'ActiveGWSource', 'SURFACE WATER':'ActiveSWSource'})"
   ]
  },
  {
   "cell_type": "code",
   "execution_count": 169,
   "id": "a3f08e80-3a69-48c1-b5dc-6b463a96391d",
   "metadata": {},
   "outputs": [],
   "source": [
    "df_2022 = df_2022.merge(df_GWSWS, how='left', on='CWSID').drop_duplicates().reset_index(drop=True)"
   ]
  },
  {
   "cell_type": "code",
   "execution_count": 170,
   "id": "2c6f5fe7-826a-465d-9465-8028eb730e07",
   "metadata": {},
   "outputs": [
    {
     "data": {
      "text/plain": [
       "(2866, 21)"
      ]
     },
     "execution_count": 170,
     "metadata": {},
     "output_type": "execute_result"
    }
   ],
   "source": [
    "df_2022.shape"
   ]
  },
  {
   "cell_type": "markdown",
   "id": "fae6d2ff-d28c-41db-9152-9d4c971d81bc",
   "metadata": {},
   "source": [
    "#### J. ServiceConnections, SAFER_AccessibilityScore, & Score_CriticallyOverdraftedGroundwaterBasin"
   ]
  },
  {
   "cell_type": "code",
   "execution_count": 171,
   "id": "60412e86-fda4-4f0b-8c35-3f3832dfeabb",
   "metadata": {},
   "outputs": [
    {
     "name": "stdout",
     "output_type": "stream",
     "text": [
      "Reading in Drinking_Water_Risk_Assessment.csv .\n"
     ]
    }
   ],
   "source": [
    "file_index = files.index('Drinking_Water_Risk_Assessment.csv')\n",
    "print(\"Reading in\",files[file_index],\".\")\n",
    "df_SAFER = dfs[file_index]"
   ]
  },
  {
   "cell_type": "code",
   "execution_count": 172,
   "id": "4daeedb4-8bbe-4390-b943-ba2372d67fd7",
   "metadata": {},
   "outputs": [],
   "source": [
    "df_SAFER = df_SAFER[['WATER_SYSTEM_NUMBER',\n",
    "                     'SERVICE_CONNECTIONS',\n",
    "                     'WEIGHTED_ACCESSIBILITY_SCORE',\n",
    "                     'CRITICALLY_OVERDRAFTED_GROUNDWATER_BASIN_RAW_SCORE']].rename(columns={'WATER_SYSTEM_NUMBER': 'CWSID', \n",
    "                                                                                            'SERVICE_CONNECTIONS':'ServiceConnections', \n",
    "                                                                                            'WEIGHTED_ACCESSIBILITY_SCORE':'SAFER_AccessibilityScore', \n",
    "                                                                                            'CRITICALLY_OVERDRAFTED_GROUNDWATER_BASIN_RAW_SCORE':'Score_CriticallyOverdraftedGroundwaterBasin'})"
   ]
  },
  {
   "cell_type": "code",
   "execution_count": 173,
   "id": "02d3f2dc-3b90-433b-93ed-d426cc3ac36f",
   "metadata": {},
   "outputs": [],
   "source": [
    "df_SAFER = df_SAFER.replace('Not Assessed', np.NaN)"
   ]
  },
  {
   "cell_type": "code",
   "execution_count": 174,
   "id": "4626d729-82f1-4219-9553-6edc39068232",
   "metadata": {},
   "outputs": [],
   "source": [
    "df_SAFER['Score_CriticallyOverdraftedGroundwaterBasin'] = df_SAFER['Score_CriticallyOverdraftedGroundwaterBasin'].fillna(0)"
   ]
  },
  {
   "cell_type": "code",
   "execution_count": 175,
   "id": "5454acc4-9e9b-4e99-be16-77983d14d785",
   "metadata": {},
   "outputs": [],
   "source": [
    "df_2022 = df_2022.merge(df_SAFER, how='left', on='CWSID').drop_duplicates().reset_index(drop=True)"
   ]
  },
  {
   "cell_type": "code",
   "execution_count": 176,
   "id": "e00e2b4b-f6b3-4755-aec1-fb30e32513ff",
   "metadata": {},
   "outputs": [
    {
     "data": {
      "text/plain": [
       "(2866, 24)"
      ]
     },
     "execution_count": 176,
     "metadata": {},
     "output_type": "execute_result"
    }
   ],
   "source": [
    "df_2022.shape"
   ]
  },
  {
   "cell_type": "markdown",
   "id": "632098f2-316e-49f4-a050-b61cc244868c",
   "metadata": {},
   "source": [
    "#### K. Score_SCV \n",
    "\n",
    "Source Capacity Violations tab of the 2023risk.xlsx file found [here](https://www.waterboards.ca.gov/drinking_water/certlic/drinkingwater/needs.html2023risk.xlsx). Link to the spreadsheet can be found under the 2023 Needs Assessment section. Go to the Maps & Data tab and click Public Water Systems Data Spreadsheet to download."
   ]
  },
  {
   "cell_type": "code",
   "execution_count": 177,
   "id": "f329266c-153d-4293-918e-aba8b1489de0",
   "metadata": {},
   "outputs": [
    {
     "name": "stdout",
     "output_type": "stream",
     "text": [
      "Reading in Source_Capacity_Violations.csv .\n"
     ]
    }
   ],
   "source": [
    "file_index = files.index('Source_Capacity_Violations.csv')\n",
    "print(\"Reading in\",files[file_index],\".\")\n",
    "df_SCV = dfs[file_index]"
   ]
  },
  {
   "cell_type": "code",
   "execution_count": 178,
   "id": "ae3be707-6b84-4a1e-b82d-4a305f755194",
   "metadata": {},
   "outputs": [],
   "source": [
    "df_SCV = df_SCV[['PWSID']].rename(columns={'PWSID': 'CWSID'})"
   ]
  },
  {
   "cell_type": "code",
   "execution_count": 179,
   "id": "3e72de89-0017-4c30-8fd8-9397dff2eeb4",
   "metadata": {},
   "outputs": [],
   "source": [
    "df_SCV['Score_SCV'] = 1"
   ]
  },
  {
   "cell_type": "code",
   "execution_count": 180,
   "id": "9d38167b-bc9e-4462-93f5-cfb1d73c8ff6",
   "metadata": {},
   "outputs": [],
   "source": [
    "df_2022 = df_2022.merge(df_SCV, how='left', on='CWSID').drop_duplicates().reset_index(drop=True)"
   ]
  },
  {
   "cell_type": "code",
   "execution_count": 181,
   "id": "749b029f-5520-44c3-897c-2422d8c2d678",
   "metadata": {},
   "outputs": [],
   "source": [
    "df_2022['Score_SCV'] = df_2022['Score_SCV'].fillna(0)"
   ]
  },
  {
   "cell_type": "code",
   "execution_count": 182,
   "id": "aeefc3b4-e953-4e08-8c40-2d8f6e4062ce",
   "metadata": {},
   "outputs": [
    {
     "data": {
      "text/plain": [
       "(2866, 25)"
      ]
     },
     "execution_count": 182,
     "metadata": {},
     "output_type": "execute_result"
    }
   ],
   "source": [
    "df_2022.shape"
   ]
  },
  {
   "cell_type": "markdown",
   "id": "a247022a-bbff-4160-9cd9-467533cc8ece",
   "metadata": {},
   "source": [
    "#### L. Score_SCM \n",
    "Source: Service Connection Moratoriums tab of the 2023risk.xlsx file found [here](https://www.waterboards.ca.gov/drinking_water/certlic/drinkingwater/needs.html2023risk.xlsx). Link to the spreadsheet can be found under the 2023 Needs Assessment section. Go to the Maps & Data tab and click Public Water Systems Data Spreadsheet to download."
   ]
  },
  {
   "cell_type": "code",
   "execution_count": 183,
   "id": "e1d0616b-2a27-4188-810e-0bab46045a11",
   "metadata": {},
   "outputs": [
    {
     "name": "stdout",
     "output_type": "stream",
     "text": [
      "Reading in Service_Connection_Moratoriums.csv .\n"
     ]
    }
   ],
   "source": [
    "file_index = files.index('Service_Connection_Moratoriums.csv')\n",
    "print(\"Reading in\",files[file_index],\".\")\n",
    "df_SCM = dfs[file_index]"
   ]
  },
  {
   "cell_type": "code",
   "execution_count": 184,
   "id": "e6932057-760d-4316-b576-5019116cc980",
   "metadata": {},
   "outputs": [],
   "source": [
    "df_SCM = df_SCM[['PWSID']].rename(columns={'PWSID': 'CWSID'})"
   ]
  },
  {
   "cell_type": "code",
   "execution_count": 185,
   "id": "88483b0f-7453-455d-8ac0-2182d29059f6",
   "metadata": {},
   "outputs": [],
   "source": [
    "df_SCM['Score_SCM'] = 1"
   ]
  },
  {
   "cell_type": "code",
   "execution_count": 186,
   "id": "64dd73c3-eb15-40d9-a5c3-98df040b0896",
   "metadata": {},
   "outputs": [],
   "source": [
    "df_2022 = df_2022.merge(df_SCM, how='left', on='CWSID').drop_duplicates().reset_index(drop=True)"
   ]
  },
  {
   "cell_type": "code",
   "execution_count": 187,
   "id": "c50ffb0a-9cae-4464-8606-29c3531c9e49",
   "metadata": {},
   "outputs": [],
   "source": [
    "df_2022['Score_SCM'] = df_2022['Score_SCM'].fillna(0)"
   ]
  },
  {
   "cell_type": "code",
   "execution_count": 188,
   "id": "a8868c60-8111-412a-954e-d3df9284353f",
   "metadata": {},
   "outputs": [
    {
     "data": {
      "text/plain": [
       "(2866, 26)"
      ]
     },
     "execution_count": 188,
     "metadata": {},
     "output_type": "execute_result"
    }
   ],
   "source": [
    "df_2022.shape"
   ]
  },
  {
   "cell_type": "markdown",
   "id": "5d18a9ff-6390-4f18-85ff-3b9fad85ade5",
   "metadata": {},
   "source": [
    "#### M. CDAG_rank\n",
    "\n",
    "Decomposed CDAG Score. These [data](https://data.cnra.ca.gov/dataset/i07-water-shortage-vulnerability-small-water-systems)) differ substantially between 2021 and 2022. According to Table 1 in the report titled [Technical Methods for the Drought and Water Shortage Vulnerability Assessment Update 2023: California’s Small Water Systems](https://data.cnra.ca.gov/dataset/water-shortage-vulnerability-technical-methods/resource/51414e20-df33-4013-90b4-a0d003d4e6b8), the vulnerability scoring weightings, null values, estimation for drought-impacted systems, and multiple dry years. \n",
    "\n",
    "Since the 2021 values are totally incomparable to the 2022 values, we normalize 2021 CDAG values on a scale of 0 to 100: i.e. the maximum value of CDAG for 2022 equals 100, and the minimum equals zero. The maximum value of CDAG for 2022 already equals 100 and the minimum value already equals zero."
   ]
  },
  {
   "cell_type": "code",
   "execution_count": 189,
   "id": "38e1662d-0e5f-49d4-93fb-8f2accac47c1",
   "metadata": {},
   "outputs": [
    {
     "name": "stdout",
     "output_type": "stream",
     "text": [
      "Reading in CDAG.csv .\n"
     ]
    }
   ],
   "source": [
    "file_index = files.index('CDAG.csv')\n",
    "print(\"Reading in\",files[file_index],\".\")\n",
    "df_CDAG = dfs[file_index]"
   ]
  },
  {
   "cell_type": "code",
   "execution_count": 190,
   "id": "a68b987b-6876-44da-80c4-e12df29f4b38",
   "metadata": {},
   "outputs": [],
   "source": [
    "df_CDAG = df_CDAG[['WATER_SYSTEM_NUMBER', 'Total_Score']].rename(columns={'WATER_SYSTEM_NUMBER': 'CWSID', 'Total_Score':'CDAG_rank'}).drop_duplicates().reset_index(drop=True)"
   ]
  },
  {
   "cell_type": "code",
   "execution_count": 191,
   "id": "07f3d150-21f5-4801-85bb-75fcb580c549",
   "metadata": {},
   "outputs": [
    {
     "data": {
      "text/plain": [
       "count    4154.000000\n",
       "mean       46.063137\n",
       "std        10.005518\n",
       "min         0.000000\n",
       "25%        41.088791\n",
       "50%        46.424186\n",
       "75%        52.231730\n",
       "max       100.000000\n",
       "Name: CDAG_rank, dtype: float64"
      ]
     },
     "execution_count": 191,
     "metadata": {},
     "output_type": "execute_result"
    }
   ],
   "source": [
    "df_CDAG['CDAG_rank'].describe()"
   ]
  },
  {
   "cell_type": "code",
   "execution_count": 192,
   "id": "95c492ab-96c2-4bba-80cf-0704c53fea0f",
   "metadata": {},
   "outputs": [
    {
     "data": {
      "text/plain": [
       "count    2866.000000\n",
       "mean      939.973831\n",
       "std       790.811879\n",
       "min        -1.000000\n",
       "25%        68.250000\n",
       "50%       885.500000\n",
       "75%      1647.750000\n",
       "max      2371.000000\n",
       "Name: CDAG_rank, dtype: float64"
      ]
     },
     "execution_count": 192,
     "metadata": {},
     "output_type": "execute_result"
    }
   ],
   "source": [
    "df_2021['CDAG_rank'].describe()"
   ]
  },
  {
   "cell_type": "code",
   "execution_count": 193,
   "id": "026fb489-4030-46a8-b503-3664afd8975b",
   "metadata": {},
   "outputs": [],
   "source": [
    "df_normalized=((df_2021['CDAG_rank']-df_2021['CDAG_rank'].min())/(df_2021['CDAG_rank'].max()-df_2021['CDAG_rank'].min())*100.)"
   ]
  },
  {
   "cell_type": "code",
   "execution_count": 194,
   "id": "552410f3-05aa-42af-8c24-48677e0cc8ff",
   "metadata": {},
   "outputs": [
    {
     "data": {
      "image/png": "[encoded data removed]",
      "text/plain": [
       "<Figure size 1300x400 with 3 Axes>"
      ]
     },
     "metadata": {
      "image/png": {
       "height": 371,
       "width": 1105
      }
     },
     "output_type": "display_data"
    }
   ],
   "source": [
    "fig, ax = plt.subplots(1,3, figsize=(13,4))\n",
    "out1 = sns.kdeplot(data=[df_2021['CDAG_rank']], ax=ax[0], legend=False)\n",
    "out1.legend(labels=['2021 (Not Normalized)'])\n",
    "out1 = sns.kdeplot(data=df_normalized, ax=ax[1], legend=False)\n",
    "out1.legend(labels=['2021 (Normalized)'])\n",
    "out2 = sns.kdeplot(data=df_CDAG['CDAG_rank'], ax=ax[2], legend=False)\n",
    "out2.legend(labels=['2022'])\n",
    "plt.subplots_adjust(wspace=0.4)\n",
    "#fig.savefig('CDAG.png', dpi=300, transparent=True, bbox_inches='tight')"
   ]
  },
  {
   "cell_type": "code",
   "execution_count": 195,
   "id": "57f0cca1-edf6-452e-a06b-c4b0a88e8b07",
   "metadata": {},
   "outputs": [
    {
     "data": {
      "text/plain": [
       "count    2866.000000\n",
       "mean       39.670060\n",
       "std        33.339455\n",
       "min         0.000000\n",
       "25%         2.919477\n",
       "50%        37.373524\n",
       "75%        69.508853\n",
       "max       100.000000\n",
       "Name: CDAG_rank, dtype: float64"
      ]
     },
     "execution_count": 195,
     "metadata": {},
     "output_type": "execute_result"
    }
   ],
   "source": [
    "df_2021['CDAG_rank']=((df_2021['CDAG_rank']-df_2021['CDAG_rank'].min())/(df_2021['CDAG_rank'].max()-df_2021['CDAG_rank'].min())*100.)\n",
    "df_2021['CDAG_rank'].describe()"
   ]
  },
  {
   "cell_type": "code",
   "execution_count": 196,
   "id": "373b4c82-65bb-4283-8634-402b99ecc9cd",
   "metadata": {},
   "outputs": [],
   "source": [
    "df_2022 = df_2022.merge(df_CDAG, how='left', on='CWSID').drop_duplicates().reset_index(drop=True)"
   ]
  },
  {
   "cell_type": "code",
   "execution_count": 197,
   "id": "4c8579dc-3b25-4a6e-8311-ca0c922c33a1",
   "metadata": {},
   "outputs": [
    {
     "data": {
      "text/plain": [
       "(2866, 27)"
      ]
     },
     "execution_count": 197,
     "metadata": {},
     "output_type": "execute_result"
    }
   ],
   "source": [
    "df_2022.shape"
   ]
  },
  {
   "cell_type": "markdown",
   "id": "b303cc08-3693-40ab-b94f-933988e44c6b",
   "metadata": {},
   "source": [
    "#### N. Add SAFER Clearinghouse Data\n",
    "\n",
    "This dataset will identify which CWS are wholesalers. Wholesalers sell water to multiple community water systems and all of them have a `DroughtExperienced` label of zero. This means predicting drought is a network problem -- those that are connected to wholesalers will likely not lose water, whereas those that are will are more at risk."
   ]
  },
  {
   "cell_type": "code",
   "execution_count": 198,
   "id": "a803b97d-3bfd-4ffb-aacb-903a63987c57",
   "metadata": {},
   "outputs": [
    {
     "name": "stdout",
     "output_type": "stream",
     "text": [
      "Reading in SAFER_CLEARINGHOUSE_Wholesalers.csv .\n"
     ]
    }
   ],
   "source": [
    "file_index = files.index('SAFER_CLEARINGHOUSE_Wholesalers.csv')\n",
    "print(\"Reading in\",files[file_index],\".\")\n",
    "df_wholesalers = dfs[file_index]"
   ]
  },
  {
   "cell_type": "code",
   "execution_count": 199,
   "id": "54441297-30f9-4042-9f35-d98bea56ae3c",
   "metadata": {},
   "outputs": [],
   "source": [
    "df_wholesalers = df_wholesalers[['PWSID', 'PRIMARY_SERVICE_AREA_TYPE']].rename(columns={'PWSID':'CWSID'}).drop_duplicates().reset_index(drop=True)"
   ]
  },
  {
   "cell_type": "code",
   "execution_count": 200,
   "id": "3b10afc2-819e-4802-98c3-aba9505dc722",
   "metadata": {},
   "outputs": [
    {
     "data": {
      "text/plain": [
       "array(['RESIDENTIAL AREA              ', 'MOBILE HOME PARK              ',\n",
       "       'K-12 SCHOOL                   ', 'MUNICIPALITY                  ',\n",
       "       'WHOLESALER (SELLS WATER)      ', 'OTHER AREA                    ',\n",
       "       'SCHOOL                        ', 'DAY CARE CENTER               ',\n",
       "       'RECREATION AREA               ', 'INSTITUTION                   ',\n",
       "       'HIGHER EDUCATION SCHOOL       ', 'MEDICAL FACILITY              ',\n",
       "       'SECONDARY RESIDENCES          ', 'INDUSTRIAL/AGRICULTURAL       ',\n",
       "       'OTHER RESIDENTIAL AREA        ', 'SUMMER CAMP                   ',\n",
       "       'OTHER NON-TRANSIENT AREA      ', 'OTHER TRANSIENT AREA          ',\n",
       "       'SUBDIVISION                   ', 'HOTEL/MOTEL                   ',\n",
       "       'MOBILE HOME PARK,PRINC. RES.  ', 'RESTAURANT                    ',\n",
       "       'SERVICE STATION               ', nan], dtype=object)"
      ]
     },
     "execution_count": 200,
     "metadata": {},
     "output_type": "execute_result"
    }
   ],
   "source": [
    "df_wholesalers['PRIMARY_SERVICE_AREA_TYPE'].unique()"
   ]
  },
  {
   "cell_type": "code",
   "execution_count": 201,
   "id": "9d8dc41b-32e3-4cf5-8cbb-af77f51e0fac",
   "metadata": {},
   "outputs": [],
   "source": [
    "conditions = [df_wholesalers['PRIMARY_SERVICE_AREA_TYPE'].eq('WHOLESALER (SELLS WATER)      '),\n",
    "              df_wholesalers['PRIMARY_SERVICE_AREA_TYPE'].ne('WHOLESALER (SELLS WATER)      ')]\n",
    "\n",
    "choicelist = [1,0]"
   ]
  },
  {
   "cell_type": "code",
   "execution_count": 202,
   "id": "c5489c0c-2b63-49ec-bf1e-d8e476bc2af0",
   "metadata": {},
   "outputs": [],
   "source": [
    "df_wholesalers['Wholesalers'] = np.select(conditions, choicelist, default=0)"
   ]
  },
  {
   "cell_type": "code",
   "execution_count": 203,
   "id": "d5781e36-5b36-4312-a526-cc2c2900eff8",
   "metadata": {},
   "outputs": [],
   "source": [
    "df_wholesalers = df_wholesalers.drop(columns='PRIMARY_SERVICE_AREA_TYPE')"
   ]
  },
  {
   "cell_type": "code",
   "execution_count": 204,
   "id": "21821cb1-1dc9-41ee-a91f-0808587f514c",
   "metadata": {},
   "outputs": [],
   "source": [
    "df_2022 = df_2022.merge(df_wholesalers, how='left', on='CWSID').drop_duplicates().reset_index(drop=True)"
   ]
  },
  {
   "cell_type": "code",
   "execution_count": 205,
   "id": "26f68a2f-dc02-44d6-bbae-f7b11362481d",
   "metadata": {},
   "outputs": [
    {
     "data": {
      "text/plain": [
       "(2866, 28)"
      ]
     },
     "execution_count": 205,
     "metadata": {},
     "output_type": "execute_result"
    }
   ],
   "source": [
    "df_2022.shape"
   ]
  },
  {
   "cell_type": "markdown",
   "id": "00cf3a43-5c10-46f0-8997-0ee43170c86e",
   "metadata": {},
   "source": [
    "### Add 2022 Data"
   ]
  },
  {
   "cell_type": "code",
   "execution_count": 338,
   "id": "d93aec08-7fc8-4844-b488-1967b59bfd5f",
   "metadata": {},
   "outputs": [],
   "source": [
    "df_test_2022 = df_2022"
   ]
  },
  {
   "cell_type": "code",
   "execution_count": 339,
   "id": "ba42a318-21e4-4216-9b8e-75d2fe86b2ad",
   "metadata": {},
   "outputs": [],
   "source": [
    "df_test_2021 = df_2021"
   ]
  },
  {
   "cell_type": "code",
   "execution_count": 340,
   "id": "43790264-babd-4ee1-8a7c-b8395c3935a1",
   "metadata": {},
   "outputs": [
    {
     "name": "stdout",
     "output_type": "stream",
     "text": [
      "(2866, 28)\n"
     ]
    }
   ],
   "source": [
    "print(df_test_2022.shape)\n",
    "column_list_2022 = list(df_test_2022.columns)"
   ]
  },
  {
   "cell_type": "code",
   "execution_count": 341,
   "id": "4e587291-15db-4053-a639-20f1ca0a23f3",
   "metadata": {},
   "outputs": [
    {
     "name": "stdout",
     "output_type": "stream",
     "text": [
      "(2866, 53)\n"
     ]
    }
   ],
   "source": [
    "print(df_test_2021.shape)\n",
    "column_list_2021 = list(df_test_2021.columns)"
   ]
  },
  {
   "cell_type": "code",
   "execution_count": 342,
   "id": "0f2c2f89-6b33-49be-8e4d-decb8d67da3f",
   "metadata": {},
   "outputs": [],
   "source": [
    "common_keys = list(set(column_list_2021) & set(column_list_2022))"
   ]
  },
  {
   "cell_type": "code",
   "execution_count": 343,
   "id": "20bb1d58-4ee6-4b6a-83d2-9e31cf6225fe",
   "metadata": {},
   "outputs": [
    {
     "data": {
      "text/plain": [
       "['BottledHauledWaterOrZeroSource',\n",
       " 'Intertie',\n",
       " 'Curtailment',\n",
       " 'Score_1705',\n",
       " 'ActiveGWSource',\n",
       " 'WaterOutageDroughtViolation',\n",
       " 'Score_1814',\n",
       " 'Water Year',\n",
       " 'Score_1704',\n",
       " 'CurtailmentExemptionPetition',\n",
       " 'CDAG_rank',\n",
       " 'Score_1812',\n",
       " 'Score_1706',\n",
       " 'Score_1813',\n",
       " 'DroughtExperienced',\n",
       " 'Score_SCV',\n",
       " 'Score_SCM',\n",
       " 'ServiceConnections',\n",
       " 'FundedProject',\n",
       " 'Score_CriticallyOverdraftedGroundwaterBasin',\n",
       " 'Score_1702',\n",
       " 'ActiveSWSource',\n",
       " 'CWSID',\n",
       " 'SAFER_AccessibilityScore',\n",
       " 'Score_1815']"
      ]
     },
     "execution_count": 343,
     "metadata": {},
     "output_type": "execute_result"
    }
   ],
   "source": [
    "common_keys"
   ]
  },
  {
   "cell_type": "code",
   "execution_count": 344,
   "id": "8b841daa-8e44-4986-b1b3-f8fd7af84f04",
   "metadata": {},
   "outputs": [],
   "source": [
    "df_test_2021_subset = df_test_2021[common_keys]"
   ]
  },
  {
   "cell_type": "code",
   "execution_count": 345,
   "id": "d1cbd4bb-a867-432c-90dd-03768ca55a9a",
   "metadata": {},
   "outputs": [],
   "source": [
    "df_test_2022_subset = df_test_2022[common_keys]"
   ]
  },
  {
   "cell_type": "code",
   "execution_count": 346,
   "id": "497a08e1-3f63-44f4-861d-5bb1f14d0487",
   "metadata": {},
   "outputs": [
    {
     "data": {
      "text/plain": [
       "(2866, 25)"
      ]
     },
     "execution_count": 346,
     "metadata": {},
     "output_type": "execute_result"
    }
   ],
   "source": [
    "df_test_2021_subset.shape"
   ]
  },
  {
   "cell_type": "code",
   "execution_count": 347,
   "id": "82cec068-5381-4535-9249-56c627e22ec8",
   "metadata": {},
   "outputs": [
    {
     "data": {
      "text/plain": [
       "(2866, 25)"
      ]
     },
     "execution_count": 347,
     "metadata": {},
     "output_type": "execute_result"
    }
   ],
   "source": [
    "df_test_2022_subset.shape"
   ]
  },
  {
   "cell_type": "code",
   "execution_count": 354,
   "id": "0279020d-fb7d-4a27-a06f-48f7fb46b509",
   "metadata": {},
   "outputs": [],
   "source": [
    "df_combined = pd.concat([df_test_2021_subset, df_test_2022_subset]).reset_index(drop=True)"
   ]
  },
  {
   "cell_type": "code",
   "execution_count": 355,
   "id": "465fc348-e675-42a5-a457-e9dda4ef1554",
   "metadata": {},
   "outputs": [
    {
     "data": {
      "text/plain": [
       "(5732, 25)"
      ]
     },
     "execution_count": 355,
     "metadata": {},
     "output_type": "execute_result"
    }
   ],
   "source": [
    "df_combined.shape"
   ]
  },
  {
   "cell_type": "code",
   "execution_count": 356,
   "id": "2143676f-40a8-442d-8f9f-3fcf13154ba1",
   "metadata": {},
   "outputs": [
    {
     "data": {
      "text/plain": [
       "5732"
      ]
     },
     "execution_count": 356,
     "metadata": {},
     "output_type": "execute_result"
    }
   ],
   "source": [
    "2866*2"
   ]
  },
  {
   "cell_type": "code",
   "execution_count": 357,
   "id": "9f0aff7f-fb61-4419-a216-f3a38161767f",
   "metadata": {},
   "outputs": [
    {
     "data": {
      "text/plain": [
       "array([2021, 2022])"
      ]
     },
     "execution_count": 357,
     "metadata": {},
     "output_type": "execute_result"
    }
   ],
   "source": [
    "df_combined['Water Year'].unique()"
   ]
  },
  {
   "cell_type": "markdown",
   "id": "f843350e-c0cb-4936-a289-c571b7eba4b9",
   "metadata": {
    "tags": []
   },
   "source": [
    "### Exploratory Data Analysis\n",
    "\n",
    "* Plot the Univarite Fisher Score\n",
    "* Make a catplot of the curtailment versus population\n",
    "* Make a catplot curtailment versus service connections\n",
    "* Make a kernel density estimate pairplot for some risk scores "
   ]
  },
  {
   "cell_type": "code",
   "execution_count": null,
   "id": "ca294b75-9cf1-431e-a5e3-129c01b01676",
   "metadata": {},
   "outputs": [],
   "source": [
    "fig, ax = plt.subplots(figsize=(11,11))\n",
    "sns.set_theme(style='whitegrid')\n",
    "\n",
    "selector=SelectKBest(f_classif, k='all')\n",
    "collist = df.columns.tolist()\n",
    "selector.fit(df[collist[1:]],df['DroughtExperienced'])\n",
    "scores_fisher = selector.scores_\n",
    "scores_fisher[np.isnan(scores_fisher)] = 0.0\n",
    "\n",
    "features = df[collist[1:]].columns.to_list()\n",
    "order = np.argsort(scores_fisher)\n",
    "ordered_features_fisher = [features[i] for i in order]\n",
    "ordered_normalized_scores_fisher = sorted(scores_fisher/np.nanmax(scores_fisher))\n",
    "ordered_scores_fisher = sorted(scores_fisher)\n",
    "\n",
    "ax.barh(ordered_features_fisher, ordered_normalized_scores_fisher)\n",
    "ax.set(xlabel = 'Normalized Fisher Score')\n",
    "#fig.savefig('features.png', dpi=300, transparent=True, bbox_inches='tight')"
   ]
  },
  {
   "cell_type": "code",
   "execution_count": null,
   "id": "1f6e44e3-9a52-420c-bedb-c77412e506de",
   "metadata": {},
   "outputs": [],
   "source": [
    "sns.set_theme(style='whitegrid')\n",
    "fig = sns.catplot(data=df, x=\"Curtailment\", y=\"Population\", hue=\"DroughtExperienced\")\n",
    "#fig.savefig('curtailmentvpopulation.png', dpi=300, transparent=True, bbox_inches='tight')"
   ]
  },
  {
   "cell_type": "code",
   "execution_count": null,
   "id": "54949778-8438-4ecf-844a-1a3895eab3d0",
   "metadata": {},
   "outputs": [],
   "source": [
    "fig = sns.catplot(data=df, x=\"Curtailment\", y=\"ServiceConnections\", hue=\"DroughtExperienced\")\n",
    "#fig.savefig('curtailmentvserviceconnections.png', dpi=300, transparent=True, bbox_inches='tight')"
   ]
  },
  {
   "cell_type": "code",
   "execution_count": null,
   "id": "d624bdf3-cc07-4f0c-a6c5-f389ecf7dfa6",
   "metadata": {},
   "outputs": [],
   "source": [
    "testdf = df[['DroughtExperienced', 'EAR2020DroughtRiskScore', 'CDAG_rank', 'SAFER_AccessibilityScore']]\n",
    "testdf = testdf.rename(columns={'EAR2020DroughtRiskScore':'EAR Drought Risk Score', 'CDAG_rank': 'CDAG Risk Score', 'SAFER_AccessibilityScore': 'SAFER Accessibility Score'})\n",
    "sns.pairplot(testdf, kind='kde', hue='DroughtExperienced', corner=True, plot_kws=dict(common_norm=False))#.savefig('kde.png', dpi=300, transparent=True, bbox_inches='tight')"
   ]
  },
  {
   "cell_type": "markdown",
   "id": "7562520c-37c9-4726-8f11-4d28834663b2",
   "metadata": {},
   "source": [
    "Look at the features together with the each consituent outcome label.\n",
    "\n",
    "Right now, the outcome label `DroughtExperienced` equals 1 if any of the following consituent outcomes equal 1:  `WaterOutageDroughtViolat|ion'`, `BottledHauledWaterOrZeroSource`, `CurtailmentExemptionPetition`, `Score_1704`, `FundedProject`. Otherwise, `DroughtExperienced` equals zero."
   ]
  },
  {
   "cell_type": "code",
   "execution_count": null,
   "id": "3d1be89f-af36-4924-b9c7-7b2c8e33a3ca",
   "metadata": {},
   "outputs": [],
   "source": [
    "fig, ax = plt.subplots(figsize=(14, 14))\n",
    "sns.set_theme(style=\"white\")\n",
    "\n",
    "# Calculate Spearman correlation coefficient\n",
    "corr = df_all.corr(method='spearman')\n",
    "mask = np.triu(np.ones_like(corr, dtype=bool))\n",
    "\n",
    "# Plot Spearman correlation coefficient as a diagonal heatmap\n",
    "cmap = sns.color_palette('RdBu', as_cmap=True)\n",
    "sns.heatmap(corr, mask=mask, cmap=cmap, vmax=1.0, vmin=-1.0, center=0,\n",
    "            square=True, linewidths=.75, cbar_kws={\"shrink\": .5, \"label\": 'Spearman Correlation Coefficient'})\n",
    "fig.savefig('spearman_with_labels_v2.png', dpi=300, transparent=True, bbox_inches='tight')"
   ]
  },
  {
   "cell_type": "markdown",
   "id": "cfa3a493-e56d-4820-924b-2803fb70895f",
   "metadata": {},
   "source": [
    "### Split the data\n",
    "\n",
    "Split the data into a training and a validation set."
   ]
  },
  {
   "cell_type": "code",
   "execution_count": null,
   "id": "a3987976-f328-4e06-b54a-e43ce62664bc",
   "metadata": {},
   "outputs": [],
   "source": [
    "y = df['DroughtExperienced']\n",
    "X = df.drop(columns = 'DroughtExperienced')\n",
    "X_train, X_val, y_train, y_val = train_test_split(X, y, test_size=0.3, random_state=7, shuffle=True)\n",
    "\n",
    "print(f\"The training set is {len(X_train)/len(X)*100}% of the data.\")\n",
    "print(f\"The validation set is {len(X_val)/len(X)*100}% of the data.\")"
   ]
  },
  {
   "cell_type": "markdown",
   "id": "4c944777-b255-4f53-a538-3d1d615e8bff",
   "metadata": {},
   "source": [
    "### Scale the data\n",
    "\n",
    "Scale the numeric features assuming the data obey a Gaussian distribution (is this is a reasonably fair assumption?). Leave the categorical features unscaled."
   ]
  },
  {
   "cell_type": "code",
   "execution_count": null,
   "id": "132c121c-867c-4fa9-b2ba-5577b1f6c85f",
   "metadata": {},
   "outputs": [],
   "source": [
    "numeric_features = [\n",
    "    'ServiceConnections', 'Population', 'CDAG_rank',\n",
    "    'SAFER_AccessibilityScore', 'ActiveGWSource', 'ActiveSWSource',\n",
    "    'DSCI2WYAvg', 'TNCFlow2WYAvg', \n",
    "    'PWPhysicalAddressLat', 'PWPhysicalAddressLong', \n",
    "    'Flow Dry Season Max', \n",
    "    'Flow Dry Season Average', 'Flow Dry Season Standard Deviation', 'Flow Dry Wet Delta', \n",
    "    'DSCI 2021 Dry Season Max', 'DSCI 2021 Dry Season Average',\n",
    "    'DSCI 2021 Dry Season Standard Deviation', 'DSCI 2021 Dry Wet Delta',\n",
    "    'DSCI 2020 Dry Season Max', 'DSCI 2020 Dry Season Average',\n",
    "    'DSCI 2020 Dry Season Standard Deviation', 'DSCI 2020 Dry Wet Delta',\n",
    "    'DSCI 2019 Dry Season Max', 'DSCI 2019 Dry Season Average',\n",
    "    'DSCI 2019 Dry Season Standard Deviation', 'DSCI 2019 Dry Wet Delta'#, 'gwe_avg', 'num_purchases_monthly', 'num_sales_monthly'\n",
    "]\n",
    "\n",
    "categorical_features = ['Score_SourceNumber', 'Score_SCV',\n",
    "       'Score_SCM', 'Score_CriticallyOverdraftedGroundwaterBasin', \n",
    "       'Curtailment', 'Score_1702', 'Score_1705', 'Score_1706', 'Score_1812',\n",
    "       'Score_1813', 'Score_1814', 'Score_1815', 'EAR2020DroughtRiskScore',\n",
    "       'CurtailedWatershed', 'HUC4', 'FracturedRock', 'Intertie',\n",
    "       'CentralValleyCounties', 'HUC_Categories',\n",
    "                       ]\n",
    "\n",
    "all_features = numeric_features + categorical_features"
   ]
  },
  {
   "cell_type": "code",
   "execution_count": null,
   "id": "43d3eff1-385f-434e-b993-f2dba06eaa9f",
   "metadata": {},
   "outputs": [],
   "source": [
    "if (len(numeric_features) + len(categorical_features)) == len(X.columns):\n",
    "    print('All variables are included.')"
   ]
  },
  {
   "cell_type": "markdown",
   "id": "e198a5ea-454d-4a2b-8e5d-beb53a9ebaa2",
   "metadata": {},
   "source": [
    "Select and scale the numeric features."
   ]
  },
  {
   "cell_type": "code",
   "execution_count": null,
   "id": "5ffee771-03e9-4eb7-81af-6462d21005db",
   "metadata": {},
   "outputs": [],
   "source": [
    "scaler = preprocessing.StandardScaler()\n",
    "\n",
    "X_train_numeric = X_train[numeric_features]\n",
    "X_val_numeric = X_val[numeric_features]"
   ]
  },
  {
   "cell_type": "markdown",
   "id": "b5f7e8ba-5242-485f-bf6d-525726013450",
   "metadata": {},
   "source": [
    "Scale the validation set using the same mean and variance as the training set."
   ]
  },
  {
   "cell_type": "code",
   "execution_count": null,
   "id": "895db283-8be0-40f3-b40a-f716b28e19c6",
   "metadata": {},
   "outputs": [],
   "source": [
    "X_train_numeric_scaled = scaler.fit_transform(X_train_numeric) # Use fit_transform()\n",
    "X_val_numeric_scaled = scaler.transform(X_val_numeric)         # Use transform()"
   ]
  },
  {
   "cell_type": "markdown",
   "id": "2228d741-0677-4d70-989e-1ffbd4244ae9",
   "metadata": {},
   "source": [
    "Append the unscaled categorical features."
   ]
  },
  {
   "cell_type": "code",
   "execution_count": null,
   "id": "58cff642-8b9d-4a48-8cee-1e01f7fec59b",
   "metadata": {},
   "outputs": [],
   "source": [
    "X_train_categorical = np.array(X_train[categorical_features])\n",
    "X_val_categorical = np.array(X_val[categorical_features])\n",
    "\n",
    "X_train_scaled = np.concatenate((X_train_numeric_scaled, X_train_categorical), axis=1)\n",
    "X_val_scaled = np.concatenate((X_val_numeric_scaled, X_val_categorical), axis=1)\n",
    "\n",
    "X_train_scaled.shape, X_val_scaled.shape"
   ]
  },
  {
   "cell_type": "markdown",
   "id": "4ebc213d-613d-4665-a15f-2e228622ad81",
   "metadata": {},
   "source": [
    "### Train the model\n",
    "\n",
    "We use a Random Forest Classifier to train and test the model. Note that the class imbalance ratio here is roughly 1:20. \n",
    "\n",
    "To find the best estimator, we conduct an exhaustive search over two parameters: the number of estimators, or trees, and the class weight for the underrepresented positive class. We conduct this search using stratified 10-fold cross validation and optimize for the metric that calculates the area under the ROC curve.\n",
    "\n",
    "Here is an example:\n",
    "```\n",
    "parameters = {'n_estimators': range(200,600,50), 'class_weight':[{0:1, 1: w} for w in [0.125, 0.25, 0.5, 1, 2, 4, 8, 16, 32, 64, 128]] }\n",
    "```"
   ]
  },
  {
   "cell_type": "code",
   "execution_count": null,
   "id": "a779606f-1973-4df7-8085-89ce8c95e359",
   "metadata": {},
   "outputs": [],
   "source": [
    "y_train.value_counts()"
   ]
  },
  {
   "cell_type": "code",
   "execution_count": null,
   "id": "a755a4b8-a9f0-438f-b5a2-2e504d67cf93",
   "metadata": {},
   "outputs": [],
   "source": [
    "def optimize_for_low_false_negative_rate(y_val, y_pred):\n",
    "    fpr, fnr, thresholds = metrics.det_curve(y_val, y_pred, pos_label=1)\n",
    "    return fnr[1]"
   ]
  },
  {
   "cell_type": "code",
   "execution_count": null,
   "id": "a5d33928-e119-43b8-8a91-349b63235d98",
   "metadata": {},
   "outputs": [],
   "source": [
    "# Use GridSearchCV\n",
    "\n",
    "# Identify custom scorer\n",
    "low_fnr_scorer = metrics.make_scorer(optimize_for_low_false_negative_rate, greater_is_better=False)\n",
    "\n",
    "# Define range for class weights\n",
    "parameters = {'class_weight':[{0:1, 1: w} for w in [0.125, 0.25, 0.5, 1, 2, 4, 8]] }\n",
    "\n",
    "# Initialize the random forest model\n",
    "rf = RandomForestClassifier(max_features=len(all_features), n_estimators=300, n_jobs=-1, random_state=42)\n",
    "\n",
    "# Do the grid search to find the best parameters\n",
    "clf = GridSearchCV(rf, parameters, scoring=low_fnr_scorer, cv=5)\n",
    "\n",
    "# Fit the model \n",
    "clf.fit(X_train_scaled, y_train)\n",
    "\n",
    "# Predict the outcome with the best estimator\n",
    "y_pred = clf.best_estimator_.predict(X_val_scaled)"
   ]
  },
  {
   "cell_type": "code",
   "execution_count": null,
   "id": "bd3d002e-9ea4-4631-bce9-09e30247e07c",
   "metadata": {},
   "outputs": [],
   "source": [
    "# Print the parameters of the best estimator\n",
    "clf.best_estimator_"
   ]
  },
  {
   "cell_type": "markdown",
   "id": "7162be9e-e28c-42e2-8f65-2b99593479fe",
   "metadata": {},
   "source": [
    "### Question 1: What are the most predictive features?\n",
    "\n",
    "* In the original model, the most predictive features were static over time.\n",
    "* After some feature engineering, our model shows that the most predictive features vary with time.\n",
    "* We assess predictive capacity based on two metrics: the Univariate Fisher / ANOVA F Score or Gini Impurity Importance. Some features rank high on one measure, but low on the other. "
   ]
  },
  {
   "cell_type": "code",
   "execution_count": null,
   "id": "954f0606-2539-47da-8a3d-61f6b6758eec",
   "metadata": {},
   "outputs": [],
   "source": [
    "fig, ax = plt.subplots(figsize=(11,11))\n",
    "sns.set_theme(style='whitegrid')\n",
    "\n",
    "features = all_features # Note that this is the correct order of feature names\n",
    "scores_gini = clf.best_estimator_.feature_importances_\n",
    "\n",
    "order = np.argsort(scores_gini)\n",
    "ordered_features_gini = [features[i] for i in order]\n",
    "ordered_normalized_scores_gini = sorted(scores_gini/np.nanmax(scores_gini))\n",
    "ordered_scores_gini = sorted(scores_gini)\n",
    "\n",
    "ax.barh(ordered_features_gini, ordered_normalized_scores_gini)\n",
    "ax.set(xlabel = 'Normalized Gini Impurity')\n",
    "fig.savefig('Gini.png', dpi=300, transparent=True, bbox_inches='tight')"
   ]
  },
  {
   "cell_type": "code",
   "execution_count": null,
   "id": "8fca9c93-c729-4604-9cb4-20efb3cf7ac9",
   "metadata": {},
   "outputs": [],
   "source": [
    "print(np.nanmax(ordered_scores_gini))\n",
    "print(np.nanmax(ordered_scores_fisher))"
   ]
  },
  {
   "cell_type": "code",
   "execution_count": null,
   "id": "2bff32f2-bf49-41c7-893c-7d49d3a96314",
   "metadata": {},
   "outputs": [],
   "source": [
    "df_gini_scores = pd.DataFrame({'Scores': ordered_normalized_scores_gini, 'Features': ordered_features_gini, 'Type': ['Gini'] * len(ordered_features_gini)})\n",
    "df_fisher_scores = pd.DataFrame({'Scores': ordered_normalized_scores_fisher, 'Features': ordered_features_fisher, 'Type': ['Fisher'] * len(ordered_features_fisher)})\n",
    "df_scores = df_gini_scores.append(df_fisher_scores).reset_index().drop(columns=['index'])"
   ]
  },
  {
   "cell_type": "code",
   "execution_count": null,
   "id": "d16a2ed1-eb7d-4fb3-b6f8-7de6b860cdcf",
   "metadata": {},
   "outputs": [],
   "source": [
    "fig, ax = plt.subplots(figsize=(14,4))\n",
    "sns.set_theme(style='whitegrid')\n",
    "\n",
    "sns.barplot(orient=\"v\", data=df_scores, x='Features', y='Scores', hue='Type')\n",
    "ax.set(xlabel = 'Normalized Importance')\n",
    "ax.set_xticklabels(ax.get_xticklabels(), rotation=90, horizontalalignment='center')\n",
    "ax.set_ylim([0,0.6])\n",
    "fig.savefig('Gini_and_Fisher_pn.png', dpi=300, transparent=True, bbox_inches='tight')"
   ]
  },
  {
   "cell_type": "markdown",
   "id": "8ddb68e0-d1ef-4dcf-ba1b-0bcd1f2d219b",
   "metadata": {},
   "source": [
    "Compare this to the features and scores in the previous model from the DDW ([see this Google sheet](https://docs.google.com/spreadsheets/d/17ZfqKys9XS0KR57rUTjGyJjk16dcf8GelyIgt_MYjVY/edit#gid=0)):"
   ]
  },
  {
   "cell_type": "markdown",
   "id": "29bc7efa-e1d1-4242-915d-93a3fbc337e1",
   "metadata": {},
   "source": [
    "### Question 2: Does the model perform well?"
   ]
  },
  {
   "cell_type": "code",
   "execution_count": null,
   "id": "5670b2c1-0579-41f6-a71a-07fcb8b6962e",
   "metadata": {},
   "outputs": [],
   "source": [
    "fig, ax = plt.subplots()\n",
    "rfc_disp = metrics.RocCurveDisplay.from_estimator(clf.best_estimator_, X_val_scaled, y_val, ax=ax, response_method='predict_proba')\n",
    "ax.set_xlabel('False Positive Rate')\n",
    "ax.set_ylabel('True Positive Rate')\n",
    "ax.set_title('ROC Curve')\n",
    "plt.show()\n",
    "fig.savefig('ROC_AUC_fnr.png', dpi=300, transparent=True, bbox_inches='tight')"
   ]
  },
  {
   "cell_type": "code",
   "execution_count": null,
   "id": "597be7e2-d89c-49af-abbd-20617942bedd",
   "metadata": {},
   "outputs": [],
   "source": [
    "fig, ax = plt.subplots()\n",
    "rfc_disp = metrics.DetCurveDisplay.from_estimator(clf.best_estimator_, X_val_scaled, y_val, ax=ax, response_method='predict_proba')\n",
    "ax.set_xlabel('False Positive Rate')\n",
    "ax.set_ylabel('False Negative Rate')\n",
    "ax.set_title('Detection Error Tradeoff (DET) Curve')\n",
    "plt.show()\n",
    "fig.savefig('DET_fnr.png', dpi=300, transparent=True, bbox_inches='tight')"
   ]
  },
  {
   "cell_type": "markdown",
   "id": "7d99bc7b-e128-47a3-9f48-950d97a8f216",
   "metadata": {},
   "source": [
    "### Question 3: What predictions does the model get wrong?\n",
    "\n",
    "Some observations:\n",
    "* False negatives serve small populations (less than 2000 people) with a seemingly high ratio of population to service connections. All but one was curtailed in the past.\n",
    "* None of the false positives had a service connection moratorium in the past three years."
   ]
  },
  {
   "cell_type": "code",
   "execution_count": null,
   "id": "8dc65363-b59d-4843-8978-699ae663bdd5",
   "metadata": {},
   "outputs": [],
   "source": [
    "y_val_out = y_val.reset_index()"
   ]
  },
  {
   "cell_type": "code",
   "execution_count": null,
   "id": "96f33e98-f556-438a-8483-9e23941e55fb",
   "metadata": {},
   "outputs": [],
   "source": [
    "count = 0\n",
    "count_false_positive = 0\n",
    "count_false_negative = 0\n",
    "count_true_positive = 0\n",
    "count_true_negative = 0\n",
    "examples = []\n",
    "examples_false_positive = []\n",
    "examples_false_negative = []\n",
    "examples_true_positive = []\n",
    "examples_true_negative = []\n",
    "for i in range(len(y_pred)):\n",
    "    if y_val_out.loc[i]['DroughtExperienced'] != y_pred[i]:\n",
    "        #print(y_val_out.loc[i]['DroughtExperienced'], y_pred[i], y_val_out.loc[i]['index'])\n",
    "        count += 1\n",
    "        examples.append(y_val_out.loc[i]['index'])\n",
    "    if (y_val_out.loc[i]['DroughtExperienced'] == 1.0) and (y_pred[i] == 0.0):\n",
    "        count_false_negative += 1\n",
    "        examples_false_negative.append(y_val_out.loc[i]['index'])        \n",
    "    if (y_val_out.loc[i]['DroughtExperienced'] == 0.0) and (y_pred[i] == 1.0):\n",
    "        count_false_positive += 1    \n",
    "        examples_false_positive.append(y_val_out.loc[i]['index'])\n",
    "    if (y_val_out.loc[i]['DroughtExperienced'] == 1.0) and (y_pred[i] == 1.0):\n",
    "        count_true_positive += 1\n",
    "        examples_true_positive.append(y_val_out.loc[i]['index'])        \n",
    "    if (y_val_out.loc[i]['DroughtExperienced'] == 0.0) and (y_pred[i] == 0.0):\n",
    "        count_true_negative += 1    \n",
    "        examples_true_negative.append(y_val_out.loc[i]['index'])\n",
    "print(\"Number of misclassifications:\", count)\n",
    "print(\"Number of false positives:\", count_false_positive)\n",
    "print(\"Number of false negatives:\", count_false_negative)\n",
    "print(\"Number of true positives:\", count_true_positive)\n",
    "print(\"Number of true negatives:\", count_true_negative)\n",
    "print(\"Number of correct classifications:\", (len(y_pred) - count))\n",
    "print(\"Number of total examples:\", (len(y_pred)))"
   ]
  },
  {
   "cell_type": "code",
   "execution_count": null,
   "id": "ab00e627-30c5-4adf-9224-d4b47ff23149",
   "metadata": {},
   "outputs": [],
   "source": [
    "df_false_positives = df.loc[examples_false_positive].reset_index(drop=True).assign(Classification='False Positive')\n",
    "df_false_negatives = df.loc[examples_false_negative].reset_index(drop=True).assign(Classification='False Negative')\n",
    "df_true_positives = df.loc[examples_true_positive].reset_index(drop=True).assign(Classification='True Positive')\n",
    "df_true_negatives = df.loc[examples_true_negative].reset_index(drop=True).assign(Classification='True Negative')"
   ]
  },
  {
   "cell_type": "code",
   "execution_count": null,
   "id": "53bd5590-e34b-4c7a-8a5d-cbdfb36baa60",
   "metadata": {},
   "outputs": [],
   "source": [
    "frames = [df_false_positives, df_false_negatives, df_true_positives, df_true_negatives]\n",
    "df_all = pd.concat(frames)"
   ]
  },
  {
   "cell_type": "code",
   "execution_count": null,
   "id": "7fdd5f97-e3ab-4f85-a5fb-1410f247e9c5",
   "metadata": {},
   "outputs": [],
   "source": [
    "fig, ax = plt.subplots(3,4, figsize=(19,12))\n",
    "sns.kdeplot(df_all, x='SAFER_AccessibilityScore', hue='Classification', fill=True, ax=ax[0,0], legend=False, common_norm=False)\n",
    "sns.kdeplot(df_all, x='Curtailment', hue='Classification', fill=True, ax=ax[0,1], legend=False, common_norm=False)\n",
    "sns.kdeplot(df_all, x='CDAG_rank', hue='Classification', fill=True, ax=ax[0,2], legend=False, common_norm=False)\n",
    "sns.kdeplot(df_all, x='PWPhysicalAddressLong', hue='Classification', fill=True, ax=ax[0,3], legend=True, common_norm=False)\n",
    "sns.kdeplot(df_all, x='Population', hue='Classification', fill=True, ax=ax[1,0], log_scale=True, legend=False, common_norm=False)\n",
    "sns.kdeplot(df_all, x='ServiceConnections', hue='Classification', fill=True, ax=ax[1,1], log_scale=True, legend=False, common_norm=False)\n",
    "sns.kdeplot(df_all, x='PWPhysicalAddressLat', hue='Classification', fill=True, ax=ax[1,2], legend=False, common_norm=False)\n",
    "sns.kdeplot(df_all, x='DSCI 2021 Dry Season Standard Deviation', hue='Classification', fill=True, ax=ax[1,3], legend=False, common_norm=False)\n",
    "sns.kdeplot(df_all, x='ActiveSWSource', hue='Classification', fill=True, ax=ax[2,0], legend=False, common_norm=False)\n",
    "sns.kdeplot(df_all, x='ActiveGWSource', hue='Classification', fill=True, ax=ax[2,1], legend=False, common_norm=False)\n",
    "sns.kdeplot(df_all, x='Score_SCV', hue='Classification', fill=True, ax=ax[2,2], legend=False, common_norm=False)\n",
    "sns.kdeplot(df_all, x='Score_SCM', hue='Classification', fill=True, ax=ax[2,3], legend=False, common_norm=False)\n",
    "plt.subplots_adjust(hspace=0.3, wspace=0.3)\n",
    "fig.savefig('Misclassifications.png', dpi=300, transparent=True, bbox_inches='tight')"
   ]
  },
  {
   "cell_type": "markdown",
   "id": "6759772c-5017-422d-bb0d-5e6cb7f15ee0",
   "metadata": {},
   "source": [
    "### Question 4: Do more features improve model performance?"
   ]
  },
  {
   "cell_type": "code",
   "execution_count": null,
   "id": "ccbdff35-d158-4810-ad10-2d9a99703afc",
   "metadata": {},
   "outputs": [],
   "source": [
    "print(\"The model has\",len(features),\"features.\")\n",
    "print(\"These are the features, in order of Gini Importance:\", ordered_features_gini)"
   ]
  },
  {
   "cell_type": "code",
   "execution_count": null,
   "id": "4fcb1fc7-cb81-4be9-aa73-1f60daf37576",
   "metadata": {},
   "outputs": [],
   "source": [
    "auc_values = []\n",
    "auc_std = []\n",
    "for i in range(len(ordered_features_gini)):\n",
    "    # Select the data\n",
    "    y = df['DroughtExperienced']\n",
    "    X = df[ordered_features_gini[i:]]\n",
    "    total_features = X.columns.to_list()\n",
    "    \n",
    "    auc_scores = []\n",
    "    for j in range(3):    # This should eventually be 100\n",
    "        # Split the data\n",
    "        X_train, X_val, y_train, y_val = train_test_split(X, y, test_size=0.3, shuffle=True)\n",
    "\n",
    "        # Identify the numeric and categorical features\n",
    "        total_numeric_features = list(set(total_features).intersection(numeric_features))\n",
    "        total_categorical_features = list(set(total_features).intersection(categorical_features))\n",
    "\n",
    "        # Select and scale the numeric features\n",
    "        if total_numeric_features:\n",
    "            scaler = preprocessing.StandardScaler()\n",
    "            X_train_numeric = X_train[total_numeric_features]\n",
    "            X_val_numeric = X_val[total_numeric_features]\n",
    "            X_train_numeric_scaled = scaler.fit_transform(X_train_numeric) # Use fit_transform()\n",
    "            X_val_numeric_scaled = scaler.transform(X_val_numeric)         # Use transform()\n",
    "\n",
    "        # Select the categorical features\n",
    "        if total_categorical_features:\n",
    "            X_train_categorical = np.array(X_train[total_categorical_features])\n",
    "            X_val_categorical = np.array(X_val[total_categorical_features])\n",
    "\n",
    "        # Create training and validation sets\n",
    "        if total_numeric_features and total_categorical_features:\n",
    "            X_train_scaled = np.concatenate((X_train_numeric_scaled, X_train_categorical), axis=1)\n",
    "            X_val_scaled = np.concatenate((X_val_numeric_scaled, X_val_categorical), axis=1)\n",
    "        if total_numeric_features and not total_categorical_features:\n",
    "            X_train_scaled = X_train_numeric_scaled\n",
    "            X_val_scaled = X_val_numeric_scaled\n",
    "        if not total_numeric_features and total_categorical_features:\n",
    "            X_train_scaled = X_train_categorical\n",
    "            X_val_scaled = X_val_categorical\n",
    "\n",
    "        # Train the model\n",
    "        clf = RandomForestClassifier(max_features=46, n_estimators=770, n_jobs=-1, random_state=42)\n",
    "        clf.fit(X_train_scaled, y_train)\n",
    "        y_pred = clf.predict(X_val_scaled)\n",
    "\n",
    "        # Calculate the AUC\n",
    "        rfc_disp = metrics.RocCurveDisplay.from_estimator(clf, X_val_scaled, y_val, ax=ax, response_method='predict_proba');\n",
    "        auc_scores.append(rfc_disp.roc_auc)\n",
    "        \n",
    "    auc_std.append(np.std(auc_scores))\n",
    "    auc_values.append(np.mean(auc_scores))\n",
    "    print(i,np.mean(auc_scores), np.std(auc_scores))"
   ]
  },
  {
   "cell_type": "code",
   "execution_count": null,
   "id": "b0c107f3-826c-40f7-83e4-764a8889ee9b",
   "metadata": {},
   "outputs": [],
   "source": [
    "fig, ax = plt.subplots(figsize=(12,6))\n",
    "sns.set_theme(style='whitegrid')\n",
    "ax.errorbar(np.arange(45),np.flip(auc_values), yerr=np.flip(auc_std), marker=\".\", markersize=10)\n",
    "ax.set_xlabel('Features')\n",
    "ax.set_ylabel('Performance (AUC)')\n",
    "ax.set_title('Performance vs. Number of Features')\n",
    "ax.set_ylim([0.66, 0.98])\n",
    "fig.savefig('performancevsfeatures.png', dpi=300, transparent=True, bbox_inches='tight')"
   ]
  },
  {
   "cell_type": "markdown",
   "id": "50783092-2dd2-4591-9779-f9acf27706c6",
   "metadata": {},
   "source": [
    "### Question 6: Do different labels improve model performance?"
   ]
  },
  {
   "cell_type": "code",
   "execution_count": null,
   "id": "27a78c45-3354-49dc-85bb-78e15edac3fd",
   "metadata": {},
   "outputs": [],
   "source": [
    "print(\"Number of positive examples in DroughtExperienced:\",len(df_all[df_all['DroughtExperienced'] == 1]))\n",
    "print(\"Number of positive examples in WaterOutageDroughtViolation:\",len(df_all[df_all['WaterOutageDroughtViolation'] == 1]))\n",
    "print(\"Number of positive examples in BottledHauledWaterOrZeroSource:\",len(df_all[df_all['BottledHauledWaterOrZeroSource'] == 1]))\n",
    "print(\"Number of positive examples in CurtailmentExemptionPetition:\",len(df_all[df_all['CurtailmentExemptionPetition'] == 1]))\n",
    "print(\"Number of positive examples in Score_1704:\",len(df_all[df_all['Score_1704'] == 1]))\n",
    "print(\"Number of positive examples in FundedProject:\",len(df_all[df_all['FundedProject'] == 1]))"
   ]
  },
  {
   "cell_type": "code",
   "execution_count": null,
   "id": "be695e4c-09f5-47eb-9ad1-391d58faaea9",
   "metadata": {},
   "outputs": [],
   "source": [
    "outcome_label = [\n",
    " 'DroughtExperienced',\n",
    " 'WaterOutageDroughtViolation',\n",
    " 'BottledHauledWaterOrZeroSource',\n",
    " 'CurtailmentExemptionPetition',\n",
    " 'Score_1704',\n",
    " 'FundedProject']"
   ]
  },
  {
   "cell_type": "code",
   "execution_count": null,
   "id": "34155dcb-c693-4077-86ff-4101a8c53368",
   "metadata": {},
   "outputs": [],
   "source": [
    "auc_values_per_label = []\n",
    "auc_std_per_label = []\n",
    "\n",
    "for k in range(len(outcome_label)):\n",
    "    # Select the outcome label\n",
    "    y = df_all[outcome_label[k]]\n",
    "    print(outcome_label[k])\n",
    "\n",
    "    auc_values = []\n",
    "    auc_std = []\n",
    "    for i in range(len(ordered_features_gini)):\n",
    "        # Select the features\n",
    "        X = df_all[ordered_features_gini[i:]]\n",
    "        total_features = X.columns.to_list()\n",
    "\n",
    "        auc_scores = []\n",
    "        for j in range(5):    # This should eventually be 100\n",
    "            # Split the data\n",
    "            X_train, X_val, y_train, y_val = train_test_split(X, y, test_size=0.3, shuffle=True, random_state=7)\n",
    "\n",
    "            # Identify the numeric and categorical features\n",
    "            total_numeric_features = list(set(total_features).intersection(numeric_features))\n",
    "            total_categorical_features = list(set(total_features).intersection(categorical_features))\n",
    "\n",
    "            # Select and scale the numeric features\n",
    "            if total_numeric_features:\n",
    "                scaler = preprocessing.StandardScaler()\n",
    "                X_train_numeric = X_train[total_numeric_features]\n",
    "                X_val_numeric = X_val[total_numeric_features]\n",
    "                X_train_numeric_scaled = scaler.fit_transform(X_train_numeric) # Use fit_transform()\n",
    "                X_val_numeric_scaled = scaler.transform(X_val_numeric)         # Use transform()\n",
    "\n",
    "            # Select the categorical features\n",
    "            if total_categorical_features:\n",
    "                X_train_categorical = np.array(X_train[total_categorical_features])\n",
    "                X_val_categorical = np.array(X_val[total_categorical_features])\n",
    "\n",
    "            # Create training and validation sets\n",
    "            if total_numeric_features and total_categorical_features:\n",
    "                X_train_scaled = np.concatenate((X_train_numeric_scaled, X_train_categorical), axis=1)\n",
    "                X_val_scaled = np.concatenate((X_val_numeric_scaled, X_val_categorical), axis=1)\n",
    "            if total_numeric_features and not total_categorical_features:\n",
    "                X_train_scaled = X_train_numeric_scaled\n",
    "                X_val_scaled = X_val_numeric_scaled\n",
    "            if not total_numeric_features and total_categorical_features:\n",
    "                X_train_scaled = X_train_categorical\n",
    "                X_val_scaled = X_val_categorical\n",
    "\n",
    "            # Train the model\n",
    "            clf = RandomForestClassifier(max_features=46, n_estimators=770, n_jobs=-1, random_state=42)\n",
    "            clf.fit(X_train_scaled, y_train)\n",
    "            y_pred = clf.predict(X_val_scaled)\n",
    "\n",
    "            # Calculate the AUC\n",
    "            rfc_disp = metrics.RocCurveDisplay.from_estimator(clf, X_val_scaled, y_val, ax=ax, response_method='predict_proba');\n",
    "            auc_scores.append(rfc_disp.roc_auc)\n",
    "        \n",
    "        auc_std.append(np.std(auc_scores))\n",
    "        auc_values.append(np.mean(auc_scores))\n",
    "        print(i,np.mean(auc_scores), np.std(auc_scores))\n",
    "\n",
    "    auc_std_per_label.append(auc_std)\n",
    "    auc_values_per_label.append(auc_values)"
   ]
  },
  {
   "cell_type": "code",
   "execution_count": null,
   "id": "f21a8878-d557-4ac7-b27e-c34f7a61d6e1",
   "metadata": {},
   "outputs": [],
   "source": [
    "df_auc = pd.DataFrame({'AUC Scores': auc_values_per_label, 'AUC Standard Deviation': auc_std_per_label, 'Outcome Label': outcome_label})"
   ]
  },
  {
   "cell_type": "code",
   "execution_count": null,
   "id": "91d5f1a4-01e5-48e3-85f8-edfc275f05e0",
   "metadata": {},
   "outputs": [],
   "source": [
    "df_auc"
   ]
  },
  {
   "cell_type": "code",
   "execution_count": null,
   "id": "e0f577a6-b016-41d7-9385-6fb2225aedbb",
   "metadata": {},
   "outputs": [],
   "source": [
    "fig, ax = plt.subplots(figsize=(12,6))\n",
    "sns.set_theme(style='whitegrid')\n",
    "ax.errorbar(np.arange(len(df_auc['AUC Scores'][0])),np.flip(df_auc['AUC Scores'][0]), yerr=np.flip(df_auc['AUC Standard Deviation'][0]), \n",
    "            marker=\".\", markersize=10, label=df_auc['Outcome Label'][0])\n",
    "ax.errorbar(np.arange(len(df_auc['AUC Scores'][2])),np.flip(df_auc['AUC Scores'][2]), yerr=np.flip(df_auc['AUC Standard Deviation'][2]), \n",
    "            marker=\".\", markersize=10, label=df_auc['Outcome Label'][2])\n",
    "ax.errorbar(np.arange(len(df_auc['AUC Scores'][3])),np.flip(df_auc['AUC Scores'][3]), yerr=np.flip(df_auc['AUC Standard Deviation'][3]), \n",
    "            marker=\".\", markersize=10, label=df_auc['Outcome Label'][3])\n",
    "ax.errorbar(np.arange(len(df_auc['AUC Scores'][5])),np.flip(df_auc['AUC Scores'][5]), yerr=np.flip(df_auc['AUC Standard Deviation'][5]), \n",
    "            marker=\".\", markersize=10, label=df_auc['Outcome Label'][5])\n",
    "ax.errorbar(np.arange(len(df_auc['AUC Scores'][4])),np.flip(df_auc['AUC Scores'][4]), yerr=np.flip(df_auc['AUC Standard Deviation'][4]), \n",
    "            marker=\".\", markersize=10, label=df_auc['Outcome Label'][4])\n",
    "ax.errorbar(np.arange(len(df_auc['AUC Scores'][1])),np.flip(df_auc['AUC Scores'][1]), yerr=np.flip(df_auc['AUC Standard Deviation'][1]), \n",
    "            marker=\".\", markersize=10, label=df_auc['Outcome Label'][1])\n",
    "ax.set_xlabel('Features')\n",
    "ax.set_ylabel('Performance (AUC)')\n",
    "ax.set_title('Performance vs. Number of Features')\n",
    "ax.set_ylim([0.42, 1.03])\n",
    "ax.legend()\n",
    "fig.savefig('performancevsfeaturesvslabel_nogw.png', dpi=300, transparent=True, bbox_inches='tight')"
   ]
  },
  {
   "cell_type": "markdown",
   "id": "95dab92c-d39c-46dd-87a0-a63e9951a0af",
   "metadata": {},
   "source": [
    "### Question 7: Where are these drought-impacted CWS?"
   ]
  },
  {
   "cell_type": "code",
   "execution_count": null,
   "id": "ab35b0a0-7fb1-4b0e-a4ab-327636b9cd5d",
   "metadata": {},
   "outputs": [],
   "source": [
    "drought_df = df[df['DroughtExperienced'] == 1]\n",
    "safe_df = df[df['DroughtExperienced'] == 0]"
   ]
  },
  {
   "cell_type": "code",
   "execution_count": null,
   "id": "47804ba9-e0b6-4e3e-82e6-42cc8f9d88f5",
   "metadata": {},
   "outputs": [],
   "source": [
    "fig = plt.figure(figsize=(12,12))\n",
    "ax = fig.add_subplot(1, 1, 1, projection=ccrs.PlateCarree())\n",
    "ax.set_extent([-125, -114, 31, 43], crs=ccrs.PlateCarree())\n",
    "\n",
    "odi_blue = \"#0D4F8C\"\n",
    "odi_red = \"#C24629\"\n",
    "\n",
    "ax.plot(safe_df['PWPhysicalAddressLong'],safe_df['PWPhysicalAddressLat'], marker='o', \n",
    "        linestyle='None', color=odi_blue, markersize=4, alpha=0.3, transform=ccrs.PlateCarree())\n",
    "ax.plot(drought_df['PWPhysicalAddressLong'],drought_df['PWPhysicalAddressLat'], marker='o', \n",
    "        linestyle='None', color=odi_red, markersize=4, alpha=0.8, transform=ccrs.PlateCarree())\n",
    "\n",
    "ax.add_feature(cfeature.LAND)\n",
    "ax.add_feature(cfeature.OCEAN)\n",
    "ax.add_feature(cfeature.COASTLINE)\n",
    "ax.add_feature(cfeature.BORDERS, linestyle=':')\n",
    "ax.add_feature(cfeature.LAKES, alpha=0.5)\n",
    "ax.add_feature(cfeature.RIVERS)\n",
    "ax.add_feature(cfeature.STATES)\n",
    "\n",
    "plt.show()\n",
    "\n",
    "#fig.savefig('locations.png', dpi=300, transparent=True, bbox_inches='tight')"
   ]
  }
 ],
 "metadata": {
  "kernelspec": {
   "display_name": "Python 3 (ipykernel)",
   "language": "python",
   "name": "python3"
  },
  "language_info": {
   "codemirror_mode": {
    "name": "ipython",
    "version": 3
   },
   "file_extension": ".py",
   "mimetype": "text/x-python",
   "name": "python",
   "nbconvert_exporter": "python",
   "pygments_lexer": "ipython3",
   "version": "3.10.9"
  },
  "toc-autonumbering": false,
  "toc-showcode": false,
  "toc-showmarkdowntxt": false
 },
 "nbformat": 4,
 "nbformat_minor": 5
}
